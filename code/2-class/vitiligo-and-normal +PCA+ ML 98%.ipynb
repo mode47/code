{
 "cells": [
  {
   "cell_type": "code",
   "execution_count": 1,
   "metadata": {
    "execution": {
     "iopub.execute_input": "2023-04-01T11:40:58.591466Z",
     "iopub.status.busy": "2023-04-01T11:40:58.590095Z",
     "iopub.status.idle": "2023-04-01T11:40:58.599136Z",
     "shell.execute_reply": "2023-04-01T11:40:58.597201Z",
     "shell.execute_reply.started": "2023-04-01T11:40:58.591416Z"
    }
   },
   "outputs": [],
   "source": [
    "# This Python 3 environment comes with many helpful analytics libraries installed\n",
    "# It is defined by the kaggle/python Docker image: https://github.com/kaggle/docker-python\n",
    "# For example, here's several helpful packages to load\n",
    "\n",
    "import pandas as pd # data processing, CSV file I/O (e.g. pd.read_csv)\n",
    "# Input data files are available in the read-only \"../input/\" directory\n",
    "# For example, running this (by clicking run or pressing Shift+Enter) will list all files under the input directory\n",
    "import os\n",
    "# for dirname, _, filenames in os.walk('/kaggle/input'):\n",
    "#     for filename in filenames:\n",
    "#         print(os.path.join(dirname, filename))\n",
    "\n",
    "# You can write up to 20GB to the current directory (/kaggle/working/) that gets preserved as output when you create a version using \"Save & Run All\" \n",
    "# You can also write temporary files to /kaggle/temp/, but they won't be saved outside of the current session"
   ]
  },
  {
   "cell_type": "code",
   "execution_count": 2,
   "metadata": {
    "execution": {
     "iopub.execute_input": "2023-04-01T11:41:00.322695Z",
     "iopub.status.busy": "2023-04-01T11:41:00.321903Z",
     "iopub.status.idle": "2023-04-01T11:41:09.817680Z",
     "shell.execute_reply": "2023-04-01T11:41:09.816567Z",
     "shell.execute_reply.started": "2023-04-01T11:41:00.322653Z"
    }
   },
   "outputs": [],
   "source": [
    "import matplotlib.pyplot as plt\n",
    "import tensorflow as tf\n",
    "import seaborn as sns\n",
    "import random\n",
    "from PIL import Image\n",
    "from tensorflow.keras.preprocessing import image\n",
    "from tensorflow.keras.applications.inception_v3 import InceptionV3\n",
    "from tensorflow.keras import Sequential, Model\n",
    "from keras.layers import (Conv2D, MaxPooling2D, Dense, Flatten, \\\n",
    "                          Dropout, Input,GlobalAveragePooling2D,BatchNormalization)\n",
    "from tensorflow.keras.activations import softmax\n",
    "from tensorflow.keras.optimizers import Adam\n",
    "from keras.preprocessing.image import ImageDataGenerator\n",
    "from mpl_toolkits.axes_grid1 import ImageGrid\n",
    "from keras.models import Model\n",
    "from keras.applications.vgg16 import VGG16, preprocess_input\n",
    "from keras.callbacks import ModelCheckpoint, EarlyStopping\n",
    "from sklearn.metrics import (ConfusionMatrixDisplay, confusion_matrix, \n",
    "                             accuracy_score)\n",
    "import cv2"
   ]
  },
  {
   "cell_type": "code",
   "execution_count": 3,
   "metadata": {
    "execution": {
     "iopub.execute_input": "2023-04-01T11:41:12.307787Z",
     "iopub.status.busy": "2023-04-01T11:41:12.307100Z",
     "iopub.status.idle": "2023-04-01T11:41:12.312946Z",
     "shell.execute_reply": "2023-04-01T11:41:12.311536Z",
     "shell.execute_reply.started": "2023-04-01T11:41:12.307749Z"
    }
   },
   "outputs": [],
   "source": [
    "cat2=['Melanoma Skin Cancer Nevi and Moles']"
   ]
  },
  {
   "cell_type": "code",
   "execution_count": 4,
   "metadata": {
    "execution": {
     "iopub.execute_input": "2023-04-01T11:41:14.171469Z",
     "iopub.status.busy": "2023-04-01T11:41:14.170847Z",
     "iopub.status.idle": "2023-04-01T11:41:14.176798Z",
     "shell.execute_reply": "2023-04-01T11:41:14.175244Z",
     "shell.execute_reply.started": "2023-04-01T11:41:14.171429Z"
    }
   },
   "outputs": [],
   "source": [
    "cat=['Acne and Rosacea Photos',\n",
    " 'Normal',\n",
    " 'vitiligo',\n",
    " 'Tinea Ringworm Candidiasis and other Fungal Infections',\n",
    "     'Melanoma Skin Cancer Nevi and Moles',\n",
    " 'Eczema Photos']"
   ]
  },
  {
   "cell_type": "code",
   "execution_count": 5,
   "metadata": {
    "execution": {
     "iopub.execute_input": "2023-04-01T11:41:15.040521Z",
     "iopub.status.busy": "2023-04-01T11:41:15.039414Z",
     "iopub.status.idle": "2023-04-01T11:41:15.045475Z",
     "shell.execute_reply": "2023-04-01T11:41:15.044121Z",
     "shell.execute_reply.started": "2023-04-01T11:41:15.040481Z"
    }
   },
   "outputs": [],
   "source": [
    "cat=['Normal','vitiligo']"
   ]
  },
  {
   "cell_type": "code",
   "execution_count": 6,
   "metadata": {
    "execution": {
     "iopub.execute_input": "2023-04-01T11:41:16.073647Z",
     "iopub.status.busy": "2023-04-01T11:41:16.072600Z",
     "iopub.status.idle": "2023-04-01T11:41:16.081883Z",
     "shell.execute_reply": "2023-04-01T11:41:16.080816Z",
     "shell.execute_reply.started": "2023-04-01T11:41:16.073603Z"
    }
   },
   "outputs": [],
   "source": [
    "import pandas as pd\n",
    "import os\n",
    "def data_dictionary():\n",
    "    path_train=r\"C:\\Users\\teknoloji5\\Downloads\\skin\\skin\\train/\"\n",
    "    #list_train=os.listdir(path_train)\n",
    "    cat=['Normal','vitiligo']\n",
    "   #cat=['Normal','Melanoma Skin Cancer Nevi and Moles']\n",
    "    #cat=['Normal','Eczema Photos']\n",
    "    #cat=['Normal','Tinea Ringworm Candidiasis and other Fungal Infections']\n",
    "    #cat=['Normal','Acne and Rosacea Photos']\n",
    "    train_dictionary={\"image_path\":[],\"target\":[]}\n",
    "    k=0\n",
    "    for i in cat:\n",
    "        path_disease_train=path_train+i\n",
    "        image_list_train=os.listdir(path_disease_train)\n",
    "        for j in image_list_train:\n",
    "            img_path_train=path_disease_train+\"/\"+j   \n",
    "            train_dictionary[\"image_path\"].append(img_path_train)\n",
    "            train_dictionary['target'].append(k)     \n",
    "        k+=1\n",
    "    train_df=pd.DataFrame(train_dictionary)\n",
    "    return  train_df"
   ]
  },
  {
   "cell_type": "code",
   "execution_count": 7,
   "metadata": {
    "execution": {
     "iopub.execute_input": "2023-04-01T11:41:16.719556Z",
     "iopub.status.busy": "2023-04-01T11:41:16.718418Z",
     "iopub.status.idle": "2023-04-01T11:41:17.374712Z",
     "shell.execute_reply": "2023-04-01T11:41:17.373688Z",
     "shell.execute_reply.started": "2023-04-01T11:41:16.719496Z"
    }
   },
   "outputs": [],
   "source": [
    "train=data_dictionary()"
   ]
  },
  {
   "cell_type": "code",
   "execution_count": 8,
   "metadata": {
    "execution": {
     "iopub.execute_input": "2023-04-01T11:41:19.101008Z",
     "iopub.status.busy": "2023-04-01T11:41:19.100183Z",
     "iopub.status.idle": "2023-04-01T11:41:51.373994Z",
     "shell.execute_reply": "2023-04-01T11:41:51.372860Z",
     "shell.execute_reply.started": "2023-04-01T11:41:19.100956Z"
    }
   },
   "outputs": [],
   "source": [
    "import cv2\n",
    "images=[]\n",
    "label=[]\n",
    "for i in train['image_path']:\n",
    "    if i!=\"/kaggle/input/skindatasets/skin/train/Normal/34.avif\":\n",
    "        img=cv2.imread(i)\n",
    "        img = cv2.cvtColor(img, cv2.COLOR_BGR2RGB)\n",
    "        img=cv2.resize(img,(100,100))\n",
    "        #img = cv2.cvtColor(img, cv2.COLOR_BGR2GRAY)\n",
    "        #img=cv2.resize(img,(64,64),interpolation=cv2.INTER_AREA)\n",
    "        #img=resize_and_rescale(img)\n",
    "        images.append(img)"
   ]
  },
  {
   "cell_type": "code",
   "execution_count": 9,
   "metadata": {
    "execution": {
     "iopub.execute_input": "2023-04-01T11:41:51.378437Z",
     "iopub.status.busy": "2023-04-01T11:41:51.378004Z",
     "iopub.status.idle": "2023-04-01T11:41:51.385640Z",
     "shell.execute_reply": "2023-04-01T11:41:51.384596Z",
     "shell.execute_reply.started": "2023-04-01T11:41:51.378405Z"
    }
   },
   "outputs": [],
   "source": [
    "label=train['target']"
   ]
  },
  {
   "cell_type": "code",
   "execution_count": 10,
   "metadata": {
    "execution": {
     "iopub.execute_input": "2023-04-01T11:41:51.387556Z",
     "iopub.status.busy": "2023-04-01T11:41:51.387052Z",
     "iopub.status.idle": "2023-04-01T11:41:51.807082Z",
     "shell.execute_reply": "2023-04-01T11:41:51.806045Z",
     "shell.execute_reply.started": "2023-04-01T11:41:51.387517Z"
    }
   },
   "outputs": [
    {
     "data": {
      "image/png": "[encoded data removed]",
      "text/plain": [
       "<Figure size 640x480 with 1 Axes>"
      ]
     },
     "metadata": {},
     "output_type": "display_data"
    }
   ],
   "source": [
    "import matplotlib.pyplot as plt\n",
    "import tensorflow as tf\n",
    "import seaborn as sns\n",
    "import random\n",
    "from PIL import Image\n",
    "from tensorflow.keras.preprocessing import image\n",
    "from tensorflow.keras.applications.inception_v3 import InceptionV3\n",
    "from tensorflow.keras import Sequential, Model\n",
    "from keras.layers import (Conv2D, MaxPooling2D, Dense, Flatten, \\\n",
    "                          Dropout, Input,GlobalAveragePooling2D,BatchNormalization)\n",
    "from tensorflow.keras.activations import softmax\n",
    "from tensorflow.keras.optimizers import Adam\n",
    "from keras.preprocessing.image import ImageDataGenerator\n",
    "from mpl_toolkits.axes_grid1 import ImageGrid\n",
    "from keras.models import Model\n",
    "from keras.applications.vgg16 import VGG16, preprocess_input\n",
    "from keras.callbacks import ModelCheckpoint, EarlyStopping\n",
    "from sklearn.metrics import (ConfusionMatrixDisplay, confusion_matrix, \\\n",
    "                             accuracy_score)\n",
    "\n",
    "ax = sns.countplot(x=train['target'],\n",
    "                   order=train['target'].value_counts(ascending=False).index);\n",
    "\n",
    "abs_values = train['target'].value_counts(ascending=False).values\n",
    "\n",
    "ax.bar_label(container=ax.containers[0], labels=abs_values);"
   ]
  },
  {
   "cell_type": "code",
   "execution_count": 11,
   "metadata": {
    "execution": {
     "iopub.execute_input": "2023-04-01T11:41:53.326570Z",
     "iopub.status.busy": "2023-04-01T11:41:53.326210Z",
     "iopub.status.idle": "2023-04-01T11:41:53.335915Z",
     "shell.execute_reply": "2023-04-01T11:41:53.334788Z",
     "shell.execute_reply.started": "2023-04-01T11:41:53.326536Z"
    }
   },
   "outputs": [
    {
     "data": {
      "text/plain": [
       "2356"
      ]
     },
     "execution_count": 11,
     "metadata": {},
     "output_type": "execute_result"
    }
   ],
   "source": [
    "len(label)"
   ]
  },
  {
   "cell_type": "code",
   "execution_count": 12,
   "metadata": {
    "execution": {
     "iopub.execute_input": "2023-04-01T11:41:55.951594Z",
     "iopub.status.busy": "2023-04-01T11:41:55.950886Z",
     "iopub.status.idle": "2023-04-01T11:41:55.958586Z",
     "shell.execute_reply": "2023-04-01T11:41:55.957430Z",
     "shell.execute_reply.started": "2023-04-01T11:41:55.951551Z"
    }
   },
   "outputs": [
    {
     "data": {
      "text/plain": [
       "2356"
      ]
     },
     "execution_count": 12,
     "metadata": {},
     "output_type": "execute_result"
    }
   ],
   "source": [
    "len(images)"
   ]
  },
  {
   "cell_type": "code",
   "execution_count": 13,
   "metadata": {
    "execution": {
     "iopub.execute_input": "2023-04-01T11:41:59.995559Z",
     "iopub.status.busy": "2023-04-01T11:41:59.994655Z",
     "iopub.status.idle": "2023-04-01T11:42:00.000896Z",
     "shell.execute_reply": "2023-04-01T11:41:59.999641Z",
     "shell.execute_reply.started": "2023-04-01T11:41:59.995506Z"
    }
   },
   "outputs": [],
   "source": [
    "import numpy as np\n",
    "import pandas as pd"
   ]
  },
  {
   "cell_type": "code",
   "execution_count": 14,
   "metadata": {
    "execution": {
     "iopub.execute_input": "2023-04-01T11:42:02.219340Z",
     "iopub.status.busy": "2023-04-01T11:42:02.218632Z",
     "iopub.status.idle": "2023-04-01T11:42:02.296086Z",
     "shell.execute_reply": "2023-04-01T11:42:02.294858Z",
     "shell.execute_reply.started": "2023-04-01T11:42:02.219302Z"
    }
   },
   "outputs": [],
   "source": [
    "data=np.array(images)"
   ]
  },
  {
   "cell_type": "code",
   "execution_count": 15,
   "metadata": {
    "execution": {
     "iopub.execute_input": "2023-04-01T11:42:03.536275Z",
     "iopub.status.busy": "2023-04-01T11:42:03.533427Z",
     "iopub.status.idle": "2023-04-01T11:42:03.541301Z",
     "shell.execute_reply": "2023-04-01T11:42:03.540026Z",
     "shell.execute_reply.started": "2023-04-01T11:42:03.536235Z"
    }
   },
   "outputs": [],
   "source": [
    "label=np.array(label)"
   ]
  },
  {
   "cell_type": "code",
   "execution_count": 16,
   "metadata": {
    "execution": {
     "iopub.execute_input": "2023-04-01T11:42:04.730650Z",
     "iopub.status.busy": "2023-04-01T11:42:04.729930Z",
     "iopub.status.idle": "2023-04-01T11:42:04.737136Z",
     "shell.execute_reply": "2023-04-01T11:42:04.736116Z",
     "shell.execute_reply.started": "2023-04-01T11:42:04.730609Z"
    }
   },
   "outputs": [
    {
     "data": {
      "text/plain": [
       "(2356, 100, 100, 3)"
      ]
     },
     "execution_count": 16,
     "metadata": {},
     "output_type": "execute_result"
    }
   ],
   "source": [
    "data.shape"
   ]
  },
  {
   "cell_type": "code",
   "execution_count": 17,
   "metadata": {
    "execution": {
     "iopub.execute_input": "2023-04-01T11:42:07.370079Z",
     "iopub.status.busy": "2023-04-01T11:42:07.369655Z",
     "iopub.status.idle": "2023-04-01T11:42:07.377507Z",
     "shell.execute_reply": "2023-04-01T11:42:07.376405Z",
     "shell.execute_reply.started": "2023-04-01T11:42:07.370040Z"
    }
   },
   "outputs": [
    {
     "data": {
      "text/plain": [
       "(2356,)"
      ]
     },
     "execution_count": 17,
     "metadata": {},
     "output_type": "execute_result"
    }
   ],
   "source": [
    "label.shape"
   ]
  },
  {
   "cell_type": "code",
   "execution_count": 32,
   "metadata": {
    "execution": {
     "iopub.execute_input": "2023-04-01T11:45:56.904896Z",
     "iopub.status.busy": "2023-04-01T11:45:56.904113Z",
     "iopub.status.idle": "2023-04-01T11:45:56.985149Z",
     "shell.execute_reply": "2023-04-01T11:45:56.982736Z",
     "shell.execute_reply.started": "2023-04-01T11:45:56.904855Z"
    }
   },
   "outputs": [],
   "source": [
    "from sklearn.model_selection import train_test_split\n",
    "X_train, X_test, y_train, y_test = train_test_split(data, label, test_size=0.2,random_state=4)\n",
    "#X_train, X_validation, y_train, y_validation = train_test_split(X_train, y_train, test_size=0.2,random_state=1)"
   ]
  },
  {
   "cell_type": "code",
   "execution_count": 33,
   "metadata": {
    "execution": {
     "iopub.execute_input": "2023-04-01T11:47:12.359551Z",
     "iopub.status.busy": "2023-04-01T11:47:12.358612Z",
     "iopub.status.idle": "2023-04-01T11:47:12.366651Z",
     "shell.execute_reply": "2023-04-01T11:47:12.365267Z",
     "shell.execute_reply.started": "2023-04-01T11:47:12.359495Z"
    }
   },
   "outputs": [
    {
     "data": {
      "text/plain": [
       "(1884, 100, 100, 3)"
      ]
     },
     "execution_count": 33,
     "metadata": {},
     "output_type": "execute_result"
    }
   ],
   "source": [
    "X_train.shape"
   ]
  },
  {
   "cell_type": "code",
   "execution_count": 34,
   "metadata": {
    "execution": {
     "iopub.execute_input": "2023-04-01T11:47:16.706617Z",
     "iopub.status.busy": "2023-04-01T11:47:16.706206Z",
     "iopub.status.idle": "2023-04-01T11:47:16.714137Z",
     "shell.execute_reply": "2023-04-01T11:47:16.713010Z",
     "shell.execute_reply.started": "2023-04-01T11:47:16.706580Z"
    }
   },
   "outputs": [
    {
     "data": {
      "text/plain": [
       "(472, 100, 100, 3)"
      ]
     },
     "execution_count": 34,
     "metadata": {},
     "output_type": "execute_result"
    }
   ],
   "source": [
    "X_test.shape"
   ]
  },
  {
   "cell_type": "code",
   "execution_count": 36,
   "metadata": {
    "execution": {
     "iopub.execute_input": "2023-04-01T11:47:36.599741Z",
     "iopub.status.busy": "2023-04-01T11:47:36.599365Z",
     "iopub.status.idle": "2023-04-01T11:47:36.607096Z",
     "shell.execute_reply": "2023-04-01T11:47:36.606004Z",
     "shell.execute_reply.started": "2023-04-01T11:47:36.599708Z"
    }
   },
   "outputs": [
    {
     "data": {
      "text/plain": [
       "(472,)"
      ]
     },
     "execution_count": 36,
     "metadata": {},
     "output_type": "execute_result"
    }
   ],
   "source": [
    "y_test.shape"
   ]
  },
  {
   "cell_type": "code",
   "execution_count": 37,
   "metadata": {
    "execution": {
     "iopub.execute_input": "2023-04-01T11:48:26.047207Z",
     "iopub.status.busy": "2023-04-01T11:48:26.046784Z",
     "iopub.status.idle": "2023-04-01T11:48:26.054008Z",
     "shell.execute_reply": "2023-04-01T11:48:26.052925Z",
     "shell.execute_reply.started": "2023-04-01T11:48:26.047169Z"
    }
   },
   "outputs": [
    {
     "data": {
      "text/plain": [
       "(1884,)"
      ]
     },
     "execution_count": 37,
     "metadata": {},
     "output_type": "execute_result"
    }
   ],
   "source": [
    "y_train.shape"
   ]
  },
  {
   "cell_type": "code",
   "execution_count": 38,
   "metadata": {
    "execution": {
     "iopub.execute_input": "2023-04-01T11:42:27.600546Z",
     "iopub.status.busy": "2023-04-01T11:42:27.599568Z",
     "iopub.status.idle": "2023-04-01T11:42:27.607292Z",
     "shell.execute_reply": "2023-04-01T11:42:27.606090Z",
     "shell.execute_reply.started": "2023-04-01T11:42:27.600506Z"
    }
   },
   "outputs": [],
   "source": [
    "from tensorflow.keras.applications import  VGG19,EfficientNetB0,VGG16,InceptionV3,ResNet50,EfficientNetB3\n",
    "from tensorflow.keras.models import Model\n",
    "from keras.applications.vgg16 import preprocess_input"
   ]
  },
  {
   "cell_type": "code",
   "execution_count": 39,
   "metadata": {
    "execution": {
     "iopub.execute_input": "2023-04-01T11:42:28.812368Z",
     "iopub.status.busy": "2023-04-01T11:42:28.810913Z",
     "iopub.status.idle": "2023-04-01T11:42:34.955021Z",
     "shell.execute_reply": "2023-04-01T11:42:34.953973Z",
     "shell.execute_reply.started": "2023-04-01T11:42:28.812314Z"
    }
   },
   "outputs": [],
   "source": [
    "vgg_model = ResNet50(weights = 'imagenet',  include_top = False, input_shape = (100, 100, 3)) "
   ]
  },
  {
   "cell_type": "code",
   "execution_count": 40,
   "metadata": {
    "execution": {
     "iopub.execute_input": "2023-04-01T11:42:39.702284Z",
     "iopub.status.busy": "2023-04-01T11:42:39.701763Z",
     "iopub.status.idle": "2023-04-01T11:42:39.718345Z",
     "shell.execute_reply": "2023-04-01T11:42:39.717245Z",
     "shell.execute_reply.started": "2023-04-01T11:42:39.702237Z"
    }
   },
   "outputs": [],
   "source": [
    "# let's make all layers non-trainable\n",
    "for layer in vgg_model.layers : \n",
    "    layer.trainable = False"
   ]
  },
  {
   "cell_type": "code",
   "execution_count": 41,
   "metadata": {
    "execution": {
     "iopub.execute_input": "2023-04-01T11:42:42.047337Z",
     "iopub.status.busy": "2023-04-01T11:42:42.046536Z",
     "iopub.status.idle": "2023-04-01T11:42:54.199446Z",
     "shell.execute_reply": "2023-04-01T11:42:54.198220Z",
     "shell.execute_reply.started": "2023-04-01T11:42:42.047297Z"
    }
   },
   "outputs": [
    {
     "name": "stdout",
     "output_type": "stream",
     "text": [
      "59/59 [==============================] - 26s 427ms/step\n"
     ]
    }
   ],
   "source": [
    "features_train=vgg_model.predict(X_train)"
   ]
  },
  {
   "cell_type": "code",
   "execution_count": 42,
   "metadata": {
    "execution": {
     "iopub.execute_input": "2023-04-01T11:42:54.203980Z",
     "iopub.status.busy": "2023-04-01T11:42:54.203656Z",
     "iopub.status.idle": "2023-04-01T11:42:55.621339Z",
     "shell.execute_reply": "2023-04-01T11:42:55.620138Z",
     "shell.execute_reply.started": "2023-04-01T11:42:54.203950Z"
    }
   },
   "outputs": [
    {
     "name": "stdout",
     "output_type": "stream",
     "text": [
      "15/15 [==============================] - 6s 416ms/step\n"
     ]
    }
   ],
   "source": [
    "features_test=vgg_model.predict(X_test)"
   ]
  },
  {
   "cell_type": "code",
   "execution_count": 43,
   "metadata": {
    "execution": {
     "iopub.execute_input": "2023-04-01T11:42:57.485499Z",
     "iopub.status.busy": "2023-04-01T11:42:57.484541Z",
     "iopub.status.idle": "2023-04-01T11:42:57.493358Z",
     "shell.execute_reply": "2023-04-01T11:42:57.492016Z",
     "shell.execute_reply.started": "2023-04-01T11:42:57.485446Z"
    }
   },
   "outputs": [
    {
     "data": {
      "text/plain": [
       "(1884, 4, 4, 2048)"
      ]
     },
     "execution_count": 43,
     "metadata": {},
     "output_type": "execute_result"
    }
   ],
   "source": [
    "features_train.shape"
   ]
  },
  {
   "cell_type": "code",
   "execution_count": 44,
   "metadata": {
    "execution": {
     "iopub.execute_input": "2023-04-01T11:43:01.269557Z",
     "iopub.status.busy": "2023-04-01T11:43:01.269165Z",
     "iopub.status.idle": "2023-04-01T11:43:01.276545Z",
     "shell.execute_reply": "2023-04-01T11:43:01.275370Z",
     "shell.execute_reply.started": "2023-04-01T11:43:01.269524Z"
    }
   },
   "outputs": [
    {
     "data": {
      "text/plain": [
       "(472, 4, 4, 2048)"
      ]
     },
     "execution_count": 44,
     "metadata": {},
     "output_type": "execute_result"
    }
   ],
   "source": [
    "features_test.shape"
   ]
  },
  {
   "cell_type": "code",
   "execution_count": 45,
   "metadata": {
    "execution": {
     "iopub.execute_input": "2023-04-01T11:43:02.779634Z",
     "iopub.status.busy": "2023-04-01T11:43:02.778919Z",
     "iopub.status.idle": "2023-04-01T11:43:02.784418Z",
     "shell.execute_reply": "2023-04-01T11:43:02.783323Z",
     "shell.execute_reply.started": "2023-04-01T11:43:02.779593Z"
    }
   },
   "outputs": [],
   "source": [
    "num_train=X_train.shape[0]\n",
    "num_test=X_test.shape[0]"
   ]
  },
  {
   "cell_type": "code",
   "execution_count": 46,
   "metadata": {
    "execution": {
     "iopub.execute_input": "2023-04-01T11:43:05.841529Z",
     "iopub.status.busy": "2023-04-01T11:43:05.840559Z",
     "iopub.status.idle": "2023-04-01T11:43:05.847528Z",
     "shell.execute_reply": "2023-04-01T11:43:05.845641Z",
     "shell.execute_reply.started": "2023-04-01T11:43:05.841466Z"
    }
   },
   "outputs": [],
   "source": [
    "x_test=features_test.reshape(num_test,-1)"
   ]
  },
  {
   "cell_type": "code",
   "execution_count": 47,
   "metadata": {
    "execution": {
     "iopub.execute_input": "2023-04-01T11:43:07.131248Z",
     "iopub.status.busy": "2023-04-01T11:43:07.130859Z",
     "iopub.status.idle": "2023-04-01T11:43:07.139636Z",
     "shell.execute_reply": "2023-04-01T11:43:07.138336Z",
     "shell.execute_reply.started": "2023-04-01T11:43:07.131212Z"
    }
   },
   "outputs": [
    {
     "data": {
      "text/plain": [
       "(472, 32768)"
      ]
     },
     "execution_count": 47,
     "metadata": {},
     "output_type": "execute_result"
    }
   ],
   "source": [
    "x_test.shape"
   ]
  },
  {
   "cell_type": "code",
   "execution_count": 48,
   "metadata": {
    "execution": {
     "iopub.execute_input": "2023-04-01T11:43:08.556137Z",
     "iopub.status.busy": "2023-04-01T11:43:08.553423Z",
     "iopub.status.idle": "2023-04-01T11:43:08.561580Z",
     "shell.execute_reply": "2023-04-01T11:43:08.560410Z",
     "shell.execute_reply.started": "2023-04-01T11:43:08.556095Z"
    }
   },
   "outputs": [],
   "source": [
    "x_train=features_train.reshape(num_train,-1)"
   ]
  },
  {
   "cell_type": "code",
   "execution_count": 49,
   "metadata": {
    "execution": {
     "iopub.execute_input": "2023-04-01T11:43:12.176248Z",
     "iopub.status.busy": "2023-04-01T11:43:12.175868Z",
     "iopub.status.idle": "2023-04-01T11:43:12.183389Z",
     "shell.execute_reply": "2023-04-01T11:43:12.182343Z",
     "shell.execute_reply.started": "2023-04-01T11:43:12.176212Z"
    }
   },
   "outputs": [
    {
     "data": {
      "text/plain": [
       "(472, 32768)"
      ]
     },
     "execution_count": 49,
     "metadata": {},
     "output_type": "execute_result"
    }
   ],
   "source": [
    "x_test.shape"
   ]
  },
  {
   "cell_type": "code",
   "execution_count": 50,
   "metadata": {
    "execution": {
     "iopub.execute_input": "2023-04-01T11:49:22.768566Z",
     "iopub.status.busy": "2023-04-01T11:49:22.767583Z",
     "iopub.status.idle": "2023-04-01T11:49:22.773768Z",
     "shell.execute_reply": "2023-04-01T11:49:22.772660Z",
     "shell.execute_reply.started": "2023-04-01T11:49:22.768506Z"
    }
   },
   "outputs": [],
   "source": [
    "from sklearn.decomposition import PCA"
   ]
  },
  {
   "cell_type": "code",
   "execution_count": 51,
   "metadata": {
    "execution": {
     "iopub.execute_input": "2023-04-01T11:49:49.410038Z",
     "iopub.status.busy": "2023-04-01T11:49:49.408974Z",
     "iopub.status.idle": "2023-04-01T11:50:04.329129Z",
     "shell.execute_reply": "2023-04-01T11:50:04.327580Z",
     "shell.execute_reply.started": "2023-04-01T11:49:49.409994Z"
    }
   },
   "outputs": [],
   "source": [
    "pca = PCA(n_components =500)\n",
    "X_train = pca.fit_transform(x_train)\n",
    "X_test = pca.transform(x_test)\n"
   ]
  },
  {
   "cell_type": "code",
   "execution_count": 52,
   "metadata": {
    "execution": {
     "iopub.execute_input": "2023-04-01T11:50:05.680254Z",
     "iopub.status.busy": "2023-04-01T11:50:05.679755Z",
     "iopub.status.idle": "2023-04-01T11:50:05.687183Z",
     "shell.execute_reply": "2023-04-01T11:50:05.686196Z",
     "shell.execute_reply.started": "2023-04-01T11:50:05.680215Z"
    }
   },
   "outputs": [
    {
     "data": {
      "text/plain": [
       "(1884, 500)"
      ]
     },
     "execution_count": 52,
     "metadata": {},
     "output_type": "execute_result"
    }
   ],
   "source": [
    "X_train.shape"
   ]
  },
  {
   "cell_type": "code",
   "execution_count": 53,
   "metadata": {
    "execution": {
     "iopub.execute_input": "2023-04-01T11:50:07.355297Z",
     "iopub.status.busy": "2023-04-01T11:50:07.354679Z",
     "iopub.status.idle": "2023-04-01T11:50:18.011663Z",
     "shell.execute_reply": "2023-04-01T11:50:18.010432Z",
     "shell.execute_reply.started": "2023-04-01T11:50:07.355257Z"
    }
   },
   "outputs": [
    {
     "name": "stdout",
     "output_type": "stream",
     "text": [
      "Collecting lazypredict\n",
      "  Downloading lazypredict-0.2.12-py2.py3-none-any.whl (12 kB)\n",
      "Requirement already satisfied: click in c:\\users\\teknoloji5\\appdata\\local\\new folder\\lib\\site-packages (from lazypredict) (8.0.4)\n",
      "Requirement already satisfied: scikit-learn in c:\\users\\teknoloji5\\appdata\\local\\new folder\\lib\\site-packages (from lazypredict) (1.3.0)\n",
      "Requirement already satisfied: pandas in c:\\users\\teknoloji5\\appdata\\local\\new folder\\lib\\site-packages (from lazypredict) (1.5.3)\n",
      "Requirement already satisfied: tqdm in c:\\users\\teknoloji5\\appdata\\local\\new folder\\lib\\site-packages (from lazypredict) (4.65.0)\n",
      "Requirement already satisfied: joblib in c:\\users\\teknoloji5\\appdata\\local\\new folder\\lib\\site-packages (from lazypredict) (1.2.0)\n",
      "Collecting lightgbm (from lazypredict)\n",
      "  Obtaining dependency information for lightgbm from https://files.pythonhosted.org/packages/87/0f/7630ee4fea60ebab5b0e3c35df570cb295c91ece537231a38105c0f243e8/lightgbm-4.0.0-py3-none-win_amd64.whl.metadata\n",
      "  Downloading lightgbm-4.0.0-py3-none-win_amd64.whl.metadata (19 kB)\n",
      "Collecting xgboost (from lazypredict)\n",
      "  Obtaining dependency information for xgboost from https://files.pythonhosted.org/packages/75/dd/9afe0d9d0f61a5384c3932626a022e38c396a5d88e6f5345ad2f7b576747/xgboost-1.7.6-py3-none-win_amd64.whl.metadata\n",
      "  Downloading xgboost-1.7.6-py3-none-win_amd64.whl.metadata (1.9 kB)\n",
      "Requirement already satisfied: colorama in c:\\users\\teknoloji5\\appdata\\local\\new folder\\lib\\site-packages (from click->lazypredict) (0.4.6)\n",
      "Requirement already satisfied: numpy in c:\\users\\teknoloji5\\appdata\\local\\new folder\\lib\\site-packages (from lightgbm->lazypredict) (1.24.3)\n",
      "Requirement already satisfied: scipy in c:\\users\\teknoloji5\\appdata\\local\\new folder\\lib\\site-packages (from lightgbm->lazypredict) (1.10.1)\n",
      "Requirement already satisfied: python-dateutil>=2.8.1 in c:\\users\\teknoloji5\\appdata\\local\\new folder\\lib\\site-packages (from pandas->lazypredict) (2.8.2)\n",
      "Requirement already satisfied: pytz>=2020.1 in c:\\users\\teknoloji5\\appdata\\local\\new folder\\lib\\site-packages (from pandas->lazypredict) (2022.7)\n",
      "Requirement already satisfied: threadpoolctl>=2.0.0 in c:\\users\\teknoloji5\\appdata\\local\\new folder\\lib\\site-packages (from scikit-learn->lazypredict) (2.2.0)\n",
      "Requirement already satisfied: six>=1.5 in c:\\users\\teknoloji5\\appdata\\local\\new folder\\lib\\site-packages (from python-dateutil>=2.8.1->pandas->lazypredict) (1.16.0)\n",
      "Downloading lightgbm-4.0.0-py3-none-win_amd64.whl (1.3 MB)\n",
      "   ---------------------------------------- 0.0/1.3 MB ? eta -:--:--\n",
      "    --------------------------------------- 0.0/1.3 MB 1.4 MB/s eta 0:00:01\n",
      "   - -------------------------------------- 0.1/1.3 MB 825.8 kB/s eta 0:00:02\n",
      "   --- ------------------------------------ 0.1/1.3 MB 1.3 MB/s eta 0:00:01\n",
      "   ------- -------------------------------- 0.2/1.3 MB 1.6 MB/s eta 0:00:01\n",
      "   ---------- ----------------------------- 0.3/1.3 MB 1.9 MB/s eta 0:00:01\n",
      "   ---------------- ----------------------- 0.5/1.3 MB 2.6 MB/s eta 0:00:01\n",
      "   -------------------- ------------------- 0.7/1.3 MB 2.7 MB/s eta 0:00:01\n",
      "   ------------------------ --------------- 0.8/1.3 MB 3.0 MB/s eta 0:00:01\n",
      "   ------------------------------------ --- 1.2/1.3 MB 3.8 MB/s eta 0:00:01\n",
      "   ---------------------------------------- 1.3/1.3 MB 3.8 MB/s eta 0:00:00\n",
      "Downloading xgboost-1.7.6-py3-none-win_amd64.whl (70.9 MB)\n",
      "   ---------------------------------------- 0.0/70.9 MB ? eta -:--:--\n",
      "    --------------------------------------- 1.0/70.9 MB 32.4 MB/s eta 0:00:03\n",
      "    --------------------------------------- 1.7/70.9 MB 21.8 MB/s eta 0:00:04\n",
      "   - -------------------------------------- 3.1/70.9 MB 32.4 MB/s eta 0:00:03\n",
      "   -- ------------------------------------- 3.6/70.9 MB 28.9 MB/s eta 0:00:03\n",
      "   -- ------------------------------------- 3.6/70.9 MB 28.9 MB/s eta 0:00:03\n",
      "   --- ------------------------------------ 6.4/70.9 MB 29.1 MB/s eta 0:00:03\n",
      "   ----- ---------------------------------- 9.4/70.9 MB 37.6 MB/s eta 0:00:02\n",
      "   ------- -------------------------------- 13.5/70.9 MB 59.5 MB/s eta 0:00:01\n",
      "   -------- ------------------------------- 15.8/70.9 MB 72.6 MB/s eta 0:00:01\n",
      "   --------- ------------------------------ 17.5/70.9 MB 73.1 MB/s eta 0:00:01\n",
      "   ----------- ---------------------------- 20.0/70.9 MB 72.6 MB/s eta 0:00:01\n",
      "   ------------ --------------------------- 21.8/70.9 MB 59.5 MB/s eta 0:00:01\n",
      "   ------------- -------------------------- 23.8/70.9 MB 59.5 MB/s eta 0:00:01\n",
      "   ------------- -------------------------- 24.6/70.9 MB 59.5 MB/s eta 0:00:01\n",
      "   ------------- -------------------------- 24.6/70.9 MB 59.5 MB/s eta 0:00:01\n",
      "   --------------- ------------------------ 27.7/70.9 MB 46.7 MB/s eta 0:00:01\n",
      "   ----------------- ---------------------- 30.6/70.9 MB 50.4 MB/s eta 0:00:01\n",
      "   ------------------ --------------------- 32.0/70.9 MB 50.4 MB/s eta 0:00:01\n",
      "   ------------------ --------------------- 33.6/70.9 MB 46.9 MB/s eta 0:00:01\n",
      "   ------------------- -------------------- 35.0/70.9 MB 59.5 MB/s eta 0:00:01\n",
      "   ------------------- -------------------- 35.0/70.9 MB 54.7 MB/s eta 0:00:01\n",
      "   -------------------- ------------------- 35.6/70.9 MB 43.5 MB/s eta 0:00:01\n",
      "   -------------------- ------------------- 37.1/70.9 MB 40.9 MB/s eta 0:00:01\n",
      "   ---------------------- ----------------- 39.9/70.9 MB 36.4 MB/s eta 0:00:01\n",
      "   ---------------------- ----------------- 40.8/70.9 MB 34.4 MB/s eta 0:00:01\n",
      "   ----------------------- ---------------- 41.8/70.9 MB 34.4 MB/s eta 0:00:01\n",
      "   ------------------------ --------------- 42.9/70.9 MB 32.8 MB/s eta 0:00:01\n",
      "   ------------------------ --------------- 43.8/70.9 MB 31.2 MB/s eta 0:00:01\n",
      "   ------------------------- -------------- 45.0/70.9 MB 31.2 MB/s eta 0:00:01\n",
      "   ------------------------- -------------- 45.9/70.9 MB 34.4 MB/s eta 0:00:01\n",
      "   -------------------------- ------------- 46.8/70.9 MB 32.7 MB/s eta 0:00:01\n",
      "   --------------------------- ------------ 48.1/70.9 MB 32.8 MB/s eta 0:00:01\n",
      "   --------------------------- ------------ 49.0/70.9 MB 28.5 MB/s eta 0:00:01\n",
      "   ---------------------------- ----------- 50.1/70.9 MB 28.5 MB/s eta 0:00:01\n",
      "   ---------------------------- ----------- 51.1/70.9 MB 28.5 MB/s eta 0:00:01\n",
      "   ----------------------------- ---------- 52.1/70.9 MB 28.5 MB/s eta 0:00:01\n",
      "   ------------------------------ --------- 53.3/70.9 MB 28.4 MB/s eta 0:00:01\n",
      "   ------------------------------ --------- 54.2/70.9 MB 29.7 MB/s eta 0:00:01\n",
      "   ------------------------------- -------- 55.2/70.9 MB 29.7 MB/s eta 0:00:01\n",
      "   ------------------------------- -------- 56.4/70.9 MB 28.5 MB/s eta 0:00:01\n",
      "   -------------------------------- ------- 57.3/70.9 MB 29.7 MB/s eta 0:00:01\n",
      "   --------------------------------- ------ 58.5/70.9 MB 29.8 MB/s eta 0:00:01\n",
      "   --------------------------------- ------ 59.5/70.9 MB 28.5 MB/s eta 0:00:01\n",
      "   ---------------------------------- ----- 60.5/70.9 MB 29.7 MB/s eta 0:00:01\n",
      "   ---------------------------------- ----- 61.7/70.9 MB 29.7 MB/s eta 0:00:01\n",
      "   ----------------------------------- ---- 62.7/70.9 MB 28.4 MB/s eta 0:00:01\n",
      "   ----------------------------------- ---- 63.8/70.9 MB 29.7 MB/s eta 0:00:01\n",
      "   ------------------------------------ --- 64.8/70.9 MB 29.7 MB/s eta 0:00:01\n",
      "   ------------------------------------- -- 65.8/70.9 MB 28.5 MB/s eta 0:00:01\n",
      "   ------------------------------------- -- 67.1/70.9 MB 29.8 MB/s eta 0:00:01\n",
      "   -------------------------------------- - 68.0/70.9 MB 29.7 MB/s eta 0:00:01\n",
      "   -------------------------------------- - 69.1/70.9 MB 29.7 MB/s eta 0:00:01\n",
      "   ---------------------------------------  70.3/70.9 MB 29.7 MB/s eta 0:00:01\n",
      "   ---------------------------------------  70.9/70.9 MB 29.8 MB/s eta 0:00:01\n",
      "   ---------------------------------------  70.9/70.9 MB 29.8 MB/s eta 0:00:01\n",
      "   ---------------------------------------  70.9/70.9 MB 29.8 MB/s eta 0:00:01\n",
      "   ---------------------------------------  70.9/70.9 MB 29.8 MB/s eta 0:00:01\n",
      "   ---------------------------------------  70.9/70.9 MB 29.8 MB/s eta 0:00:01\n",
      "   ---------------------------------------  70.9/70.9 MB 29.8 MB/s eta 0:00:01\n",
      "   ---------------------------------------  70.9/70.9 MB 29.8 MB/s eta 0:00:01\n",
      "   ---------------------------------------  70.9/70.9 MB 29.8 MB/s eta 0:00:01\n",
      "   ---------------------------------------  70.9/70.9 MB 29.8 MB/s eta 0:00:01\n",
      "   ---------------------------------------  70.9/70.9 MB 29.8 MB/s eta 0:00:01\n",
      "   ---------------------------------------  70.9/70.9 MB 29.8 MB/s eta 0:00:01\n",
      "   ---------------------------------------  70.9/70.9 MB 29.8 MB/s eta 0:00:01\n",
      "   ---------------------------------------  70.9/70.9 MB 29.8 MB/s eta 0:00:01\n",
      "   ---------------------------------------  70.9/70.9 MB 29.8 MB/s eta 0:00:01\n",
      "   ---------------------------------------  70.9/70.9 MB 29.8 MB/s eta 0:00:01\n",
      "   ---------------------------------------  70.9/70.9 MB 29.8 MB/s eta 0:00:01\n",
      "   ---------------------------------------  70.9/70.9 MB 29.8 MB/s eta 0:00:01\n",
      "   ---------------------------------------  70.9/70.9 MB 29.8 MB/s eta 0:00:01\n",
      "   ---------------------------------------  70.9/70.9 MB 29.8 MB/s eta 0:00:01\n",
      "   ---------------------------------------  70.9/70.9 MB 29.8 MB/s eta 0:00:01\n",
      "   ---------------------------------------  70.9/70.9 MB 29.8 MB/s eta 0:00:01\n",
      "   ---------------------------------------  70.9/70.9 MB 29.8 MB/s eta 0:00:01\n",
      "   ---------------------------------------  70.9/70.9 MB 29.8 MB/s eta 0:00:01\n",
      "   ---------------------------------------  70.9/70.9 MB 29.8 MB/s eta 0:00:01\n",
      "   ---------------------------------------  70.9/70.9 MB 29.8 MB/s eta 0:00:01\n",
      "   ---------------------------------------- 70.9/70.9 MB 8.0 MB/s eta 0:00:00\n",
      "Installing collected packages: xgboost, lightgbm, lazypredict\n",
      "Successfully installed lazypredict-0.2.12 lightgbm-4.0.0 xgboost-1.7.6\n",
      "Note: you may need to restart the kernel to use updated packages.\n"
     ]
    }
   ],
   "source": [
    "pip install lazypredict"
   ]
  },
  {
   "cell_type": "code",
   "execution_count": 54,
   "metadata": {
    "execution": {
     "iopub.execute_input": "2023-04-01T11:50:25.746162Z",
     "iopub.status.busy": "2023-04-01T11:50:25.744952Z",
     "iopub.status.idle": "2023-04-01T11:51:10.896267Z",
     "shell.execute_reply": "2023-04-01T11:51:10.895255Z",
     "shell.execute_reply.started": "2023-04-01T11:50:25.746101Z"
    }
   },
   "outputs": [
    {
     "name": "stderr",
     "output_type": "stream",
     "text": [
      " 97%|███████████████████████████████████████████████████████████████████████████████▏  | 28/29 [01:08<00:01,  1.23s/it]"
     ]
    },
    {
     "name": "stdout",
     "output_type": "stream",
     "text": [
      "[LightGBM] [Info] Number of positive: 1254, number of negative: 630\n",
      "[LightGBM] [Warning] Auto-choosing col-wise multi-threading, the overhead of testing was 0.007061 seconds.\n",
      "You can set `force_col_wise=true` to remove the overhead.\n",
      "[LightGBM] [Info] Total Bins 127500\n",
      "[LightGBM] [Info] Number of data points in the train set: 1884, number of used features: 500\n",
      "[LightGBM] [Info] [binary:BoostFromScore]: pavg=0.665605 -> initscore=0.688374\n",
      "[LightGBM] [Info] Start training from score 0.688374\n"
     ]
    },
    {
     "name": "stderr",
     "output_type": "stream",
     "text": [
      "100%|██████████████████████████████████████████████████████████████████████████████████| 29/29 [01:10<00:00,  2.43s/it]\n"
     ]
    }
   ],
   "source": [
    "from lazypredict.Supervised import LazyClassifier\n",
    "clf= LazyClassifier(verbose=0,ignore_warnings=True, custom_metric=None)\n",
    "models,predictions = clf.fit(X_train,X_test,y_train,y_test)"
   ]
  },
  {
   "cell_type": "code",
   "execution_count": 55,
   "metadata": {},
   "outputs": [
    {
     "data": {
      "text/html": [
       "<div>\n",
       "<style scoped>\n",
       "    .dataframe tbody tr th:only-of-type {\n",
       "        vertical-align: middle;\n",
       "    }\n",
       "\n",
       "    .dataframe tbody tr th {\n",
       "        vertical-align: top;\n",
       "    }\n",
       "\n",
       "    .dataframe thead th {\n",
       "        text-align: right;\n",
       "    }\n",
       "</style>\n",
       "<table border=\"1\" class=\"dataframe\">\n",
       "  <thead>\n",
       "    <tr style=\"text-align: right;\">\n",
       "      <th></th>\n",
       "      <th>Accuracy</th>\n",
       "      <th>Balanced Accuracy</th>\n",
       "      <th>ROC AUC</th>\n",
       "      <th>F1 Score</th>\n",
       "      <th>Time Taken</th>\n",
       "    </tr>\n",
       "    <tr>\n",
       "      <th>Model</th>\n",
       "      <th></th>\n",
       "      <th></th>\n",
       "      <th></th>\n",
       "      <th></th>\n",
       "      <th></th>\n",
       "    </tr>\n",
       "  </thead>\n",
       "  <tbody>\n",
       "    <tr>\n",
       "      <th>LogisticRegression</th>\n",
       "      <td>0.98</td>\n",
       "      <td>0.97</td>\n",
       "      <td>0.97</td>\n",
       "      <td>0.98</td>\n",
       "      <td>0.10</td>\n",
       "    </tr>\n",
       "    <tr>\n",
       "      <th>LinearSVC</th>\n",
       "      <td>0.97</td>\n",
       "      <td>0.96</td>\n",
       "      <td>0.96</td>\n",
       "      <td>0.97</td>\n",
       "      <td>0.55</td>\n",
       "    </tr>\n",
       "    <tr>\n",
       "      <th>PassiveAggressiveClassifier</th>\n",
       "      <td>0.97</td>\n",
       "      <td>0.96</td>\n",
       "      <td>0.96</td>\n",
       "      <td>0.97</td>\n",
       "      <td>0.12</td>\n",
       "    </tr>\n",
       "    <tr>\n",
       "      <th>LinearDiscriminantAnalysis</th>\n",
       "      <td>0.97</td>\n",
       "      <td>0.96</td>\n",
       "      <td>0.96</td>\n",
       "      <td>0.97</td>\n",
       "      <td>0.20</td>\n",
       "    </tr>\n",
       "    <tr>\n",
       "      <th>RidgeClassifierCV</th>\n",
       "      <td>0.97</td>\n",
       "      <td>0.96</td>\n",
       "      <td>0.96</td>\n",
       "      <td>0.97</td>\n",
       "      <td>0.17</td>\n",
       "    </tr>\n",
       "    <tr>\n",
       "      <th>RidgeClassifier</th>\n",
       "      <td>0.97</td>\n",
       "      <td>0.96</td>\n",
       "      <td>0.96</td>\n",
       "      <td>0.97</td>\n",
       "      <td>0.07</td>\n",
       "    </tr>\n",
       "    <tr>\n",
       "      <th>NearestCentroid</th>\n",
       "      <td>0.97</td>\n",
       "      <td>0.96</td>\n",
       "      <td>0.96</td>\n",
       "      <td>0.97</td>\n",
       "      <td>0.09</td>\n",
       "    </tr>\n",
       "    <tr>\n",
       "      <th>Perceptron</th>\n",
       "      <td>0.96</td>\n",
       "      <td>0.95</td>\n",
       "      <td>0.95</td>\n",
       "      <td>0.96</td>\n",
       "      <td>0.09</td>\n",
       "    </tr>\n",
       "    <tr>\n",
       "      <th>CalibratedClassifierCV</th>\n",
       "      <td>0.96</td>\n",
       "      <td>0.95</td>\n",
       "      <td>0.95</td>\n",
       "      <td>0.96</td>\n",
       "      <td>9.51</td>\n",
       "    </tr>\n",
       "    <tr>\n",
       "      <th>LGBMClassifier</th>\n",
       "      <td>0.96</td>\n",
       "      <td>0.95</td>\n",
       "      <td>0.95</td>\n",
       "      <td>0.96</td>\n",
       "      <td>2.41</td>\n",
       "    </tr>\n",
       "    <tr>\n",
       "      <th>XGBClassifier</th>\n",
       "      <td>0.96</td>\n",
       "      <td>0.94</td>\n",
       "      <td>0.94</td>\n",
       "      <td>0.96</td>\n",
       "      <td>2.70</td>\n",
       "    </tr>\n",
       "    <tr>\n",
       "      <th>SVC</th>\n",
       "      <td>0.96</td>\n",
       "      <td>0.93</td>\n",
       "      <td>0.93</td>\n",
       "      <td>0.95</td>\n",
       "      <td>1.15</td>\n",
       "    </tr>\n",
       "    <tr>\n",
       "      <th>BaggingClassifier</th>\n",
       "      <td>0.93</td>\n",
       "      <td>0.92</td>\n",
       "      <td>0.92</td>\n",
       "      <td>0.93</td>\n",
       "      <td>22.60</td>\n",
       "    </tr>\n",
       "    <tr>\n",
       "      <th>DecisionTreeClassifier</th>\n",
       "      <td>0.92</td>\n",
       "      <td>0.92</td>\n",
       "      <td>0.92</td>\n",
       "      <td>0.92</td>\n",
       "      <td>2.71</td>\n",
       "    </tr>\n",
       "    <tr>\n",
       "      <th>SGDClassifier</th>\n",
       "      <td>0.94</td>\n",
       "      <td>0.91</td>\n",
       "      <td>0.91</td>\n",
       "      <td>0.93</td>\n",
       "      <td>0.09</td>\n",
       "    </tr>\n",
       "    <tr>\n",
       "      <th>NuSVC</th>\n",
       "      <td>0.93</td>\n",
       "      <td>0.90</td>\n",
       "      <td>0.90</td>\n",
       "      <td>0.93</td>\n",
       "      <td>1.31</td>\n",
       "    </tr>\n",
       "    <tr>\n",
       "      <th>AdaBoostClassifier</th>\n",
       "      <td>0.92</td>\n",
       "      <td>0.90</td>\n",
       "      <td>0.90</td>\n",
       "      <td>0.92</td>\n",
       "      <td>15.47</td>\n",
       "    </tr>\n",
       "    <tr>\n",
       "      <th>RandomForestClassifier</th>\n",
       "      <td>0.93</td>\n",
       "      <td>0.90</td>\n",
       "      <td>0.90</td>\n",
       "      <td>0.93</td>\n",
       "      <td>8.91</td>\n",
       "    </tr>\n",
       "    <tr>\n",
       "      <th>ExtraTreesClassifier</th>\n",
       "      <td>0.92</td>\n",
       "      <td>0.88</td>\n",
       "      <td>0.88</td>\n",
       "      <td>0.92</td>\n",
       "      <td>1.02</td>\n",
       "    </tr>\n",
       "    <tr>\n",
       "      <th>BernoulliNB</th>\n",
       "      <td>0.90</td>\n",
       "      <td>0.88</td>\n",
       "      <td>0.88</td>\n",
       "      <td>0.90</td>\n",
       "      <td>0.09</td>\n",
       "    </tr>\n",
       "    <tr>\n",
       "      <th>KNeighborsClassifier</th>\n",
       "      <td>0.84</td>\n",
       "      <td>0.84</td>\n",
       "      <td>0.84</td>\n",
       "      <td>0.84</td>\n",
       "      <td>0.22</td>\n",
       "    </tr>\n",
       "    <tr>\n",
       "      <th>QuadraticDiscriminantAnalysis</th>\n",
       "      <td>0.85</td>\n",
       "      <td>0.78</td>\n",
       "      <td>0.78</td>\n",
       "      <td>0.83</td>\n",
       "      <td>0.26</td>\n",
       "    </tr>\n",
       "    <tr>\n",
       "      <th>ExtraTreeClassifier</th>\n",
       "      <td>0.77</td>\n",
       "      <td>0.76</td>\n",
       "      <td>0.76</td>\n",
       "      <td>0.78</td>\n",
       "      <td>0.07</td>\n",
       "    </tr>\n",
       "    <tr>\n",
       "      <th>GaussianNB</th>\n",
       "      <td>0.58</td>\n",
       "      <td>0.66</td>\n",
       "      <td>0.66</td>\n",
       "      <td>0.57</td>\n",
       "      <td>0.08</td>\n",
       "    </tr>\n",
       "    <tr>\n",
       "      <th>LabelPropagation</th>\n",
       "      <td>0.37</td>\n",
       "      <td>0.52</td>\n",
       "      <td>0.52</td>\n",
       "      <td>0.23</td>\n",
       "      <td>0.16</td>\n",
       "    </tr>\n",
       "    <tr>\n",
       "      <th>LabelSpreading</th>\n",
       "      <td>0.37</td>\n",
       "      <td>0.52</td>\n",
       "      <td>0.52</td>\n",
       "      <td>0.23</td>\n",
       "      <td>0.19</td>\n",
       "    </tr>\n",
       "    <tr>\n",
       "      <th>DummyClassifier</th>\n",
       "      <td>0.66</td>\n",
       "      <td>0.50</td>\n",
       "      <td>0.50</td>\n",
       "      <td>0.53</td>\n",
       "      <td>0.06</td>\n",
       "    </tr>\n",
       "  </tbody>\n",
       "</table>\n",
       "</div>"
      ],
      "text/plain": [
       "                               Accuracy  Balanced Accuracy  ROC AUC  F1 Score  \\\n",
       "Model                                                                           \n",
       "LogisticRegression                 0.98               0.97     0.97      0.98   \n",
       "LinearSVC                          0.97               0.96     0.96      0.97   \n",
       "PassiveAggressiveClassifier        0.97               0.96     0.96      0.97   \n",
       "LinearDiscriminantAnalysis         0.97               0.96     0.96      0.97   \n",
       "RidgeClassifierCV                  0.97               0.96     0.96      0.97   \n",
       "RidgeClassifier                    0.97               0.96     0.96      0.97   \n",
       "NearestCentroid                    0.97               0.96     0.96      0.97   \n",
       "Perceptron                         0.96               0.95     0.95      0.96   \n",
       "CalibratedClassifierCV             0.96               0.95     0.95      0.96   \n",
       "LGBMClassifier                     0.96               0.95     0.95      0.96   \n",
       "XGBClassifier                      0.96               0.94     0.94      0.96   \n",
       "SVC                                0.96               0.93     0.93      0.95   \n",
       "BaggingClassifier                  0.93               0.92     0.92      0.93   \n",
       "DecisionTreeClassifier             0.92               0.92     0.92      0.92   \n",
       "SGDClassifier                      0.94               0.91     0.91      0.93   \n",
       "NuSVC                              0.93               0.90     0.90      0.93   \n",
       "AdaBoostClassifier                 0.92               0.90     0.90      0.92   \n",
       "RandomForestClassifier             0.93               0.90     0.90      0.93   \n",
       "ExtraTreesClassifier               0.92               0.88     0.88      0.92   \n",
       "BernoulliNB                        0.90               0.88     0.88      0.90   \n",
       "KNeighborsClassifier               0.84               0.84     0.84      0.84   \n",
       "QuadraticDiscriminantAnalysis      0.85               0.78     0.78      0.83   \n",
       "ExtraTreeClassifier                0.77               0.76     0.76      0.78   \n",
       "GaussianNB                         0.58               0.66     0.66      0.57   \n",
       "LabelPropagation                   0.37               0.52     0.52      0.23   \n",
       "LabelSpreading                     0.37               0.52     0.52      0.23   \n",
       "DummyClassifier                    0.66               0.50     0.50      0.53   \n",
       "\n",
       "                               Time Taken  \n",
       "Model                                      \n",
       "LogisticRegression                   0.10  \n",
       "LinearSVC                            0.55  \n",
       "PassiveAggressiveClassifier          0.12  \n",
       "LinearDiscriminantAnalysis           0.20  \n",
       "RidgeClassifierCV                    0.17  \n",
       "RidgeClassifier                      0.07  \n",
       "NearestCentroid                      0.09  \n",
       "Perceptron                           0.09  \n",
       "CalibratedClassifierCV               9.51  \n",
       "LGBMClassifier                       2.41  \n",
       "XGBClassifier                        2.70  \n",
       "SVC                                  1.15  \n",
       "BaggingClassifier                   22.60  \n",
       "DecisionTreeClassifier               2.71  \n",
       "SGDClassifier                        0.09  \n",
       "NuSVC                                1.31  \n",
       "AdaBoostClassifier                  15.47  \n",
       "RandomForestClassifier               8.91  \n",
       "ExtraTreesClassifier                 1.02  \n",
       "BernoulliNB                          0.09  \n",
       "KNeighborsClassifier                 0.22  \n",
       "QuadraticDiscriminantAnalysis        0.26  \n",
       "ExtraTreeClassifier                  0.07  \n",
       "GaussianNB                           0.08  \n",
       "LabelPropagation                     0.16  \n",
       "LabelSpreading                       0.19  \n",
       "DummyClassifier                      0.06  "
      ]
     },
     "execution_count": 55,
     "metadata": {},
     "output_type": "execute_result"
    }
   ],
   "source": [
    "predictions"
   ]
  },
  {
   "cell_type": "code",
   "execution_count": 56,
   "metadata": {
    "execution": {
     "iopub.execute_input": "2023-04-01T11:51:12.183439Z",
     "iopub.status.busy": "2023-04-01T11:51:12.182359Z",
     "iopub.status.idle": "2023-04-01T11:51:12.713393Z",
     "shell.execute_reply": "2023-04-01T11:51:12.712242Z",
     "shell.execute_reply.started": "2023-04-01T11:51:12.183393Z"
    }
   },
   "outputs": [
    {
     "data": {
      "image/png": "[encoded data removed]",
      "text/plain": [
       "<Figure size 500x1000 with 1 Axes>"
      ]
     },
     "metadata": {},
     "output_type": "display_data"
    }
   ],
   "source": [
    "plt.figure(figsize=(5, 10))\n",
    "sns.set_theme(style=\"whitegrid\")\n",
    "ax = sns.barplot(y=predictions.index, x=\"Accuracy\", data=predictions)"
   ]
  },
  {
   "cell_type": "code",
   "execution_count": null,
   "metadata": {},
   "outputs": [],
   "source": []
  }
 ],
 "metadata": {
  "kernelspec": {
   "display_name": "Python 3 (ipykernel)",
   "language": "python",
   "name": "python3"
  },
  "language_info": {
   "codemirror_mode": {
    "name": "ipython",
    "version": 3
   },
   "file_extension": ".py",
   "mimetype": "text/x-python",
   "name": "python",
   "nbconvert_exporter": "python",
   "pygments_lexer": "ipython3",
   "version": "3.11.4"
  }
 },
 "nbformat": 4,
 "nbformat_minor": 4
}
