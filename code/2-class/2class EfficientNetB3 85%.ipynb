{
 "cells": [
  {
   "cell_type": "code",
   "execution_count": 134,
   "metadata": {
    "execution": {
     "iopub.execute_input": "2023-08-15T20:43:31.162140Z",
     "iopub.status.busy": "2023-08-15T20:43:31.161326Z",
     "iopub.status.idle": "2023-08-15T20:43:31.174265Z",
     "shell.execute_reply": "2023-08-15T20:43:31.173160Z",
     "shell.execute_reply.started": "2023-08-15T20:43:31.162096Z"
    }
   },
   "outputs": [],
   "source": [
    "import matplotlib.pyplot as plt\n",
    "import tensorflow as tf\n",
    "import seaborn as sns\n",
    "import random\n",
    "from PIL import Image\n",
    "from tensorflow.keras.preprocessing import image\n",
    "from tensorflow.keras.applications.inception_v3 import InceptionV3\n",
    "from tensorflow.keras import Sequential, Model\n",
    "from keras.layers import (Conv2D, MaxPooling2D, Dense, Flatten, \\\n",
    "                          Dropout, Input,GlobalAveragePooling2D,BatchNormalization)\n",
    "from tensorflow.keras.activations import softmax\n",
    "from tensorflow.keras.optimizers import Adam\n",
    "from keras.preprocessing.image import ImageDataGenerator\n",
    "from mpl_toolkits.axes_grid1 import ImageGrid\n",
    "from keras.models import Model\n",
    "from keras.applications.vgg16 import VGG16, preprocess_input\n",
    "from keras.callbacks import ModelCheckpoint, EarlyStopping\n",
    "from sklearn.metrics import (ConfusionMatrixDisplay, confusion_matrix, \n",
    "                             accuracy_score)\n",
    "import cv2"
   ]
  },
  {
   "cell_type": "code",
   "execution_count": 135,
   "metadata": {
    "execution": {
     "iopub.execute_input": "2023-08-15T20:43:42.871769Z",
     "iopub.status.busy": "2023-08-15T20:43:42.871251Z",
     "iopub.status.idle": "2023-08-15T20:43:42.877207Z",
     "shell.execute_reply": "2023-08-15T20:43:42.876005Z",
     "shell.execute_reply.started": "2023-08-15T20:43:42.871724Z"
    }
   },
   "outputs": [],
   "source": [
    "cat2=['Melanoma Skin Cancer Nevi and Moles']"
   ]
  },
  {
   "cell_type": "code",
   "execution_count": 136,
   "metadata": {
    "execution": {
     "iopub.execute_input": "2023-08-15T20:26:48.613620Z",
     "iopub.status.busy": "2023-08-15T20:26:48.612527Z",
     "iopub.status.idle": "2023-08-15T20:26:48.619630Z",
     "shell.execute_reply": "2023-08-15T20:26:48.618248Z",
     "shell.execute_reply.started": "2023-08-15T20:26:48.613570Z"
    }
   },
   "outputs": [],
   "source": [
    "cat=['Acne and Rosacea Photos',\n",
    " 'Normal',\n",
    " 'vitiligo',\n",
    " 'Tinea Ringworm Candidiasis and other Fungal Infections',\n",
    "     'Melanoma Skin Cancer Nevi and Moles',\n",
    " 'Eczema Photos']"
   ]
  },
  {
   "cell_type": "code",
   "execution_count": 137,
   "metadata": {
    "execution": {
     "iopub.execute_input": "2023-08-15T20:44:01.236513Z",
     "iopub.status.busy": "2023-08-15T20:44:01.236110Z",
     "iopub.status.idle": "2023-08-15T20:44:01.241437Z",
     "shell.execute_reply": "2023-08-15T20:44:01.240113Z",
     "shell.execute_reply.started": "2023-08-15T20:44:01.236455Z"
    }
   },
   "outputs": [],
   "source": [
    "cat=['Normal','vitiligo']"
   ]
  },
  {
   "cell_type": "code",
   "execution_count": 138,
   "metadata": {
    "execution": {
     "iopub.execute_input": "2023-08-15T20:44:05.183074Z",
     "iopub.status.busy": "2023-08-15T20:44:05.182271Z",
     "iopub.status.idle": "2023-08-15T20:44:05.192181Z",
     "shell.execute_reply": "2023-08-15T20:44:05.190830Z",
     "shell.execute_reply.started": "2023-08-15T20:44:05.183031Z"
    }
   },
   "outputs": [],
   "source": [
    "import pandas as pd\n",
    "import os\n",
    "def data_dictionary():\n",
    "    path_train=r\"C:\\Users\\teknoloji5\\Downloads\\skin\\skin\\train/\"\n",
    "    #list_train=os.listdir(path_train)\n",
    "    cat=['Normal','vitiligo']\n",
    "   #cat=['Normal','Melanoma Skin Cancer Nevi and Moles']\n",
    "    #cat=['Normal','Eczema Photos']\n",
    "    #cat=['Normal','Tinea Ringworm Candidiasis and other Fungal Infections']\n",
    "    #cat=['Normal','Acne and Rosacea Photos']\n",
    "    train_dictionary={\"image_path\":[],\"target\":[]}\n",
    "    k=0\n",
    "    for i in cat:\n",
    "        path_disease_train=path_train+i\n",
    "        image_list_train=os.listdir(path_disease_train)\n",
    "        for j in image_list_train:\n",
    "            img_path_train=path_disease_train+\"/\"+j   \n",
    "            train_dictionary[\"image_path\"].append(img_path_train)\n",
    "            train_dictionary['target'].append(k)     \n",
    "        k+=1\n",
    "    train_df=pd.DataFrame(train_dictionary)\n",
    "    return  train_df"
   ]
  },
  {
   "cell_type": "code",
   "execution_count": 139,
   "metadata": {
    "execution": {
     "iopub.execute_input": "2023-08-15T20:44:06.856446Z",
     "iopub.status.busy": "2023-08-15T20:44:06.856034Z",
     "iopub.status.idle": "2023-08-15T20:44:06.872567Z",
     "shell.execute_reply": "2023-08-15T20:44:06.871522Z",
     "shell.execute_reply.started": "2023-08-15T20:44:06.856409Z"
    }
   },
   "outputs": [],
   "source": [
    "train=data_dictionary()"
   ]
  },
  {
   "cell_type": "code",
   "execution_count": 140,
   "metadata": {
    "execution": {
     "iopub.execute_input": "2023-08-15T20:44:17.216313Z",
     "iopub.status.busy": "2023-08-15T20:44:17.215552Z",
     "iopub.status.idle": "2023-08-15T20:44:33.356681Z",
     "shell.execute_reply": "2023-08-15T20:44:33.355432Z",
     "shell.execute_reply.started": "2023-08-15T20:44:17.216273Z"
    }
   },
   "outputs": [],
   "source": [
    "import cv2\n",
    "images=[]\n",
    "label=[]\n",
    "for i in train['image_path']:\n",
    "\n",
    "    img=cv2.imread(i)\n",
    "    img = cv2.cvtColor(img, cv2.COLOR_BGR2RGB)\n",
    "    img=cv2.resize(img,(100,100))\n",
    "    #img = cv2.cvtColor(img, cv2.COLOR_BGR2GRAY)\n",
    "    #img=cv2.resize(img,(64,64),interpolation=cv2.INTER_AREA)\n",
    "    #img=resize_and_rescale(img)\n",
    "    images.append(img)"
   ]
  },
  {
   "cell_type": "code",
   "execution_count": 141,
   "metadata": {
    "execution": {
     "iopub.execute_input": "2023-08-15T20:44:33.359213Z",
     "iopub.status.busy": "2023-08-15T20:44:33.358849Z",
     "iopub.status.idle": "2023-08-15T20:44:33.364824Z",
     "shell.execute_reply": "2023-08-15T20:44:33.363446Z",
     "shell.execute_reply.started": "2023-08-15T20:44:33.359182Z"
    }
   },
   "outputs": [],
   "source": [
    "label=train['target']"
   ]
  },
  {
   "cell_type": "code",
   "execution_count": 142,
   "metadata": {
    "execution": {
     "iopub.execute_input": "2023-08-15T20:44:37.295605Z",
     "iopub.status.busy": "2023-08-15T20:44:37.295191Z",
     "iopub.status.idle": "2023-08-15T20:44:37.527636Z",
     "shell.execute_reply": "2023-08-15T20:44:37.526457Z",
     "shell.execute_reply.started": "2023-08-15T20:44:37.295568Z"
    }
   },
   "outputs": [
    {
     "data": {
      "image/png": "[encoded data removed]",
      "text/plain": [
       "<Figure size 640x480 with 1 Axes>"
      ]
     },
     "metadata": {},
     "output_type": "display_data"
    }
   ],
   "source": [
    "import matplotlib.pyplot as plt\n",
    "import tensorflow as tf\n",
    "import seaborn as sns\n",
    "import random\n",
    "from PIL import Image\n",
    "from tensorflow.keras.preprocessing import image\n",
    "from tensorflow.keras.applications.inception_v3 import InceptionV3\n",
    "from tensorflow.keras import Sequential, Model\n",
    "from keras.layers import (Conv2D, MaxPooling2D, Dense, Flatten, \\\n",
    "                          Dropout, Input,GlobalAveragePooling2D,BatchNormalization)\n",
    "from tensorflow.keras.activations import softmax\n",
    "from tensorflow.keras.optimizers import Adam\n",
    "from keras.preprocessing.image import ImageDataGenerator\n",
    "from mpl_toolkits.axes_grid1 import ImageGrid\n",
    "from keras.models import Model\n",
    "from keras.applications.vgg16 import VGG16, preprocess_input\n",
    "from keras.callbacks import ModelCheckpoint, EarlyStopping\n",
    "from sklearn.metrics import (ConfusionMatrixDisplay, confusion_matrix, \\\n",
    "                             accuracy_score)\n",
    "\n",
    "ax = sns.countplot(x=train['target'],\n",
    "                   order=train['target'].value_counts(ascending=False).index);\n",
    "\n",
    "abs_values = train['target'].value_counts(ascending=False).values\n",
    "\n",
    "ax.bar_label(container=ax.containers[0], labels=abs_values);"
   ]
  },
  {
   "cell_type": "code",
   "execution_count": 143,
   "metadata": {
    "execution": {
     "iopub.execute_input": "2023-08-15T20:44:39.336402Z",
     "iopub.status.busy": "2023-08-15T20:44:39.336020Z",
     "iopub.status.idle": "2023-08-15T20:44:39.343783Z",
     "shell.execute_reply": "2023-08-15T20:44:39.342540Z",
     "shell.execute_reply.started": "2023-08-15T20:44:39.336369Z"
    }
   },
   "outputs": [
    {
     "data": {
      "text/plain": [
       "2356"
      ]
     },
     "execution_count": 143,
     "metadata": {},
     "output_type": "execute_result"
    }
   ],
   "source": [
    "len(label)"
   ]
  },
  {
   "cell_type": "code",
   "execution_count": 144,
   "metadata": {
    "execution": {
     "iopub.execute_input": "2023-08-15T20:44:41.081542Z",
     "iopub.status.busy": "2023-08-15T20:44:41.081140Z",
     "iopub.status.idle": "2023-08-15T20:44:41.088954Z",
     "shell.execute_reply": "2023-08-15T20:44:41.087766Z",
     "shell.execute_reply.started": "2023-08-15T20:44:41.081502Z"
    }
   },
   "outputs": [
    {
     "data": {
      "text/plain": [
       "2356"
      ]
     },
     "execution_count": 144,
     "metadata": {},
     "output_type": "execute_result"
    }
   ],
   "source": [
    "len(images)"
   ]
  },
  {
   "cell_type": "code",
   "execution_count": 145,
   "metadata": {
    "execution": {
     "iopub.execute_input": "2023-08-15T20:44:41.330525Z",
     "iopub.status.busy": "2023-08-15T20:44:41.330121Z",
     "iopub.status.idle": "2023-08-15T20:44:41.336269Z",
     "shell.execute_reply": "2023-08-15T20:44:41.334883Z",
     "shell.execute_reply.started": "2023-08-15T20:44:41.330463Z"
    }
   },
   "outputs": [],
   "source": [
    "import numpy as np\n",
    "import pandas as pd"
   ]
  },
  {
   "cell_type": "code",
   "execution_count": 146,
   "metadata": {
    "execution": {
     "iopub.execute_input": "2023-08-15T20:44:41.777464Z",
     "iopub.status.busy": "2023-08-15T20:44:41.776352Z",
     "iopub.status.idle": "2023-08-15T20:44:41.807988Z",
     "shell.execute_reply": "2023-08-15T20:44:41.806807Z",
     "shell.execute_reply.started": "2023-08-15T20:44:41.777395Z"
    }
   },
   "outputs": [],
   "source": [
    "data=np.array(images)"
   ]
  },
  {
   "cell_type": "code",
   "execution_count": 147,
   "metadata": {
    "execution": {
     "iopub.execute_input": "2023-08-15T20:44:42.461715Z",
     "iopub.status.busy": "2023-08-15T20:44:42.460597Z",
     "iopub.status.idle": "2023-08-15T20:44:42.466898Z",
     "shell.execute_reply": "2023-08-15T20:44:42.465500Z",
     "shell.execute_reply.started": "2023-08-15T20:44:42.461672Z"
    }
   },
   "outputs": [],
   "source": [
    "label=np.array(label)"
   ]
  },
  {
   "cell_type": "code",
   "execution_count": 148,
   "metadata": {
    "execution": {
     "iopub.execute_input": "2023-08-15T20:44:42.944395Z",
     "iopub.status.busy": "2023-08-15T20:44:42.943375Z",
     "iopub.status.idle": "2023-08-15T20:44:42.952334Z",
     "shell.execute_reply": "2023-08-15T20:44:42.951171Z",
     "shell.execute_reply.started": "2023-08-15T20:44:42.944344Z"
    }
   },
   "outputs": [
    {
     "data": {
      "text/plain": [
       "(2356, 100, 100, 3)"
      ]
     },
     "execution_count": 148,
     "metadata": {},
     "output_type": "execute_result"
    }
   ],
   "source": [
    "data.shape"
   ]
  },
  {
   "cell_type": "code",
   "execution_count": 149,
   "metadata": {
    "execution": {
     "iopub.execute_input": "2023-08-15T20:44:43.501883Z",
     "iopub.status.busy": "2023-08-15T20:44:43.499141Z",
     "iopub.status.idle": "2023-08-15T20:44:43.511400Z",
     "shell.execute_reply": "2023-08-15T20:44:43.510163Z",
     "shell.execute_reply.started": "2023-08-15T20:44:43.501839Z"
    }
   },
   "outputs": [
    {
     "data": {
      "text/plain": [
       "(2356,)"
      ]
     },
     "execution_count": 149,
     "metadata": {},
     "output_type": "execute_result"
    }
   ],
   "source": [
    "label.shape"
   ]
  },
  {
   "cell_type": "code",
   "execution_count": 150,
   "metadata": {
    "execution": {
     "iopub.execute_input": "2023-08-15T20:45:05.405131Z",
     "iopub.status.busy": "2023-08-15T20:45:05.404359Z",
     "iopub.status.idle": "2023-08-15T20:45:05.435017Z",
     "shell.execute_reply": "2023-08-15T20:45:05.433871Z",
     "shell.execute_reply.started": "2023-08-15T20:45:05.405090Z"
    }
   },
   "outputs": [],
   "source": [
    "from sklearn.model_selection import train_test_split\n",
    "X_train, X_test, y_train, y_test = train_test_split(data, label, test_size=0.2,random_state=4)\n",
    "#X_train, X_validation, y_train, y_validation = train_test_split(X_train, y_train, test_size=0.2,random_state=1)"
   ]
  },
  {
   "cell_type": "code",
   "execution_count": 151,
   "metadata": {
    "execution": {
     "iopub.execute_input": "2023-08-15T20:45:08.629109Z",
     "iopub.status.busy": "2023-08-15T20:45:08.628312Z",
     "iopub.status.idle": "2023-08-15T20:45:08.636368Z",
     "shell.execute_reply": "2023-08-15T20:45:08.635247Z",
     "shell.execute_reply.started": "2023-08-15T20:45:08.629067Z"
    }
   },
   "outputs": [
    {
     "data": {
      "text/plain": [
       "(1884, 100, 100, 3)"
      ]
     },
     "execution_count": 151,
     "metadata": {},
     "output_type": "execute_result"
    }
   ],
   "source": [
    "X_train.shape"
   ]
  },
  {
   "cell_type": "code",
   "execution_count": 152,
   "metadata": {
    "execution": {
     "iopub.execute_input": "2023-08-15T20:45:09.939458Z",
     "iopub.status.busy": "2023-08-15T20:45:09.938330Z",
     "iopub.status.idle": "2023-08-15T20:45:09.947774Z",
     "shell.execute_reply": "2023-08-15T20:45:09.946141Z",
     "shell.execute_reply.started": "2023-08-15T20:45:09.939412Z"
    }
   },
   "outputs": [
    {
     "data": {
      "text/plain": [
       "(472, 100, 100, 3)"
      ]
     },
     "execution_count": 152,
     "metadata": {},
     "output_type": "execute_result"
    }
   ],
   "source": [
    "X_test.shape"
   ]
  },
  {
   "cell_type": "code",
   "execution_count": 153,
   "metadata": {
    "execution": {
     "iopub.execute_input": "2023-08-15T20:45:13.033512Z",
     "iopub.status.busy": "2023-08-15T20:45:13.033116Z",
     "iopub.status.idle": "2023-08-15T20:45:13.040510Z",
     "shell.execute_reply": "2023-08-15T20:45:13.039278Z",
     "shell.execute_reply.started": "2023-08-15T20:45:13.033455Z"
    }
   },
   "outputs": [
    {
     "data": {
      "text/plain": [
       "(472,)"
      ]
     },
     "execution_count": 153,
     "metadata": {},
     "output_type": "execute_result"
    }
   ],
   "source": [
    "y_test.shape"
   ]
  },
  {
   "cell_type": "code",
   "execution_count": 154,
   "metadata": {
    "execution": {
     "iopub.execute_input": "2023-08-15T20:45:14.083974Z",
     "iopub.status.busy": "2023-08-15T20:45:14.082879Z",
     "iopub.status.idle": "2023-08-15T20:45:14.089677Z",
     "shell.execute_reply": "2023-08-15T20:45:14.088561Z",
     "shell.execute_reply.started": "2023-08-15T20:45:14.083921Z"
    }
   },
   "outputs": [],
   "source": [
    "import keras\n",
    "num_classes = 2\n",
    "#num_classes = 2 \n",
    "#اذا تريد ان تشغل الثنائي فعل الكود \"#num_classes = 2 \" اما \n",
    "\n",
    "y_train = keras.utils.to_categorical(y_train, num_classes)"
   ]
  },
  {
   "cell_type": "code",
   "execution_count": 155,
   "metadata": {
    "execution": {
     "iopub.execute_input": "2023-08-15T20:45:15.320514Z",
     "iopub.status.busy": "2023-08-15T20:45:15.319383Z",
     "iopub.status.idle": "2023-08-15T20:45:15.326282Z",
     "shell.execute_reply": "2023-08-15T20:45:15.325165Z",
     "shell.execute_reply.started": "2023-08-15T20:45:15.320442Z"
    }
   },
   "outputs": [],
   "source": [
    "y_test=keras.utils.to_categorical(y_test, num_classes)"
   ]
  },
  {
   "cell_type": "code",
   "execution_count": 156,
   "metadata": {
    "execution": {
     "iopub.execute_input": "2023-08-15T20:45:16.293480Z",
     "iopub.status.busy": "2023-08-15T20:45:16.292312Z",
     "iopub.status.idle": "2023-08-15T20:45:16.302301Z",
     "shell.execute_reply": "2023-08-15T20:45:16.301141Z",
     "shell.execute_reply.started": "2023-08-15T20:45:16.293428Z"
    }
   },
   "outputs": [
    {
     "data": {
      "text/plain": [
       "(472, 2)"
      ]
     },
     "execution_count": 156,
     "metadata": {},
     "output_type": "execute_result"
    }
   ],
   "source": [
    "y_test.shape"
   ]
  },
  {
   "cell_type": "code",
   "execution_count": 157,
   "metadata": {
    "execution": {
     "iopub.execute_input": "2023-08-15T20:45:16.343637Z",
     "iopub.status.busy": "2023-08-15T20:45:16.343284Z",
     "iopub.status.idle": "2023-08-15T20:45:16.350892Z",
     "shell.execute_reply": "2023-08-15T20:45:16.349541Z",
     "shell.execute_reply.started": "2023-08-15T20:45:16.343605Z"
    }
   },
   "outputs": [
    {
     "data": {
      "text/plain": [
       "(1884, 2)"
      ]
     },
     "execution_count": 157,
     "metadata": {},
     "output_type": "execute_result"
    }
   ],
   "source": [
    "y_train.shape"
   ]
  },
  {
   "cell_type": "code",
   "execution_count": 158,
   "metadata": {
    "execution": {
     "iopub.execute_input": "2023-08-15T20:45:20.520135Z",
     "iopub.status.busy": "2023-08-15T20:45:20.519645Z",
     "iopub.status.idle": "2023-08-15T20:45:20.529349Z",
     "shell.execute_reply": "2023-08-15T20:45:20.528307Z",
     "shell.execute_reply.started": "2023-08-15T20:45:20.520092Z"
    }
   },
   "outputs": [],
   "source": [
    "from tensorflow.keras.applications import  VGG19,EfficientNetB0,VGG16,InceptionV3,ResNet50,EfficientNetB3\n",
    "from tensorflow.keras.models import Model\n",
    "from keras.applications.vgg16 import preprocess_input"
   ]
  },
  {
   "cell_type": "code",
   "execution_count": 159,
   "metadata": {
    "execution": {
     "iopub.execute_input": "2023-08-15T20:45:25.933696Z",
     "iopub.status.busy": "2023-08-15T20:45:25.932529Z",
     "iopub.status.idle": "2023-08-15T20:45:26.419490Z",
     "shell.execute_reply": "2023-08-15T20:45:26.418283Z",
     "shell.execute_reply.started": "2023-08-15T20:45:25.933634Z"
    }
   },
   "outputs": [
    {
     "data": {
      "text/plain": [
       "\"\\n\\nx = GlobalAveragePooling2D()(x)\\n# Add a fully connected layer with 256 units and ReLU activation\\nx = Dense(256, activation='relu')(x)\\nx = base_model.output\\n\\n# Add the final classification layer with the number of classes in your dataset\\npredictions = Dense(2, activation='softmax')(x)\\n# Create the model with the base VGG19 model as input and the new classification layers on top\\nmodel = Model(inputs=base_model.input, outputs=predictions)\\n\\n\\n\""
      ]
     },
     "execution_count": 159,
     "metadata": {},
     "output_type": "execute_result"
    }
   ],
   "source": [
    "#base_model = ResNet50(weights=None, include_top=True ,classes=6, input_shape=(100, 100, 3))\n",
    "#base_model = EfficientNetB0(weights=None, include_top=True ,classes=2, input_shape=(100, 100, 3))\n",
    "#base_model = VGG16(weights=None, include_top=True ,classes=2, input_shape=(100, 100, 3))\n",
    "#base_model = InceptionV3(weights=None, include_top=True ,classes=2, input_shape=(100, 100, 3))\n",
    "base_model = EfficientNetB3(weights=None, include_top=True ,classes=2, input_shape=(100, 100, 3))\n",
    "#base_model = VGG19(weights=None, include_top=True ,classes=2, input_shape=(100, 100, 3))\n",
    "# Add a global average pooling layer to reduce the spatial dimensions of the features\n",
    "'''\n",
    "\n",
    "x = GlobalAveragePooling2D()(x)\n",
    "# Add a fully connected layer with 256 units and ReLU activation\n",
    "x = Dense(256, activation='relu')(x)\n",
    "x = base_model.output\n",
    "\n",
    "# Add the final classification layer with the number of classes in your dataset\n",
    "predictions = Dense(2, activation='softmax')(x)\n",
    "# Create the model with the base VGG19 model as input and the new classification layers on top\n",
    "model = Model(inputs=base_model.input, outputs=predictions)\n",
    "\n",
    "\n",
    "'''\n"
   ]
  },
  {
   "cell_type": "code",
   "execution_count": 160,
   "metadata": {},
   "outputs": [
    {
     "name": "stdout",
     "output_type": "stream",
     "text": [
      "Model: \"efficientnetb3\"\n",
      "__________________________________________________________________________________________________\n",
      " Layer (type)                Output Shape                 Param #   Connected to                  \n",
      "==================================================================================================\n",
      " input_4 (InputLayer)        [(None, 100, 100, 3)]        0         []                            \n",
      "                                                                                                  \n",
      " rescaling (Rescaling)       (None, 100, 100, 3)          0         ['input_4[0][0]']             \n",
      "                                                                                                  \n",
      " normalization (Normalizati  (None, 100, 100, 3)          7         ['rescaling[0][0]']           \n",
      " on)                                                                                              \n",
      "                                                                                                  \n",
      " stem_conv_pad (ZeroPadding  (None, 101, 101, 3)          0         ['normalization[0][0]']       \n",
      " 2D)                                                                                              \n",
      "                                                                                                  \n",
      " stem_conv (Conv2D)          (None, 50, 50, 40)           1080      ['stem_conv_pad[0][0]']       \n",
      "                                                                                                  \n",
      " stem_bn (BatchNormalizatio  (None, 50, 50, 40)           160       ['stem_conv[0][0]']           \n",
      " n)                                                                                               \n",
      "                                                                                                  \n",
      " stem_activation (Activatio  (None, 50, 50, 40)           0         ['stem_bn[0][0]']             \n",
      " n)                                                                                               \n",
      "                                                                                                  \n",
      " block1a_dwconv (DepthwiseC  (None, 50, 50, 40)           360       ['stem_activation[0][0]']     \n",
      " onv2D)                                                                                           \n",
      "                                                                                                  \n",
      " block1a_bn (BatchNormaliza  (None, 50, 50, 40)           160       ['block1a_dwconv[0][0]']      \n",
      " tion)                                                                                            \n",
      "                                                                                                  \n",
      " block1a_activation (Activa  (None, 50, 50, 40)           0         ['block1a_bn[0][0]']          \n",
      " tion)                                                                                            \n",
      "                                                                                                  \n",
      " block1a_se_squeeze (Global  (None, 40)                   0         ['block1a_activation[0][0]']  \n",
      " AveragePooling2D)                                                                                \n",
      "                                                                                                  \n",
      " block1a_se_reshape (Reshap  (None, 1, 1, 40)             0         ['block1a_se_squeeze[0][0]']  \n",
      " e)                                                                                               \n",
      "                                                                                                  \n",
      " block1a_se_reduce (Conv2D)  (None, 1, 1, 10)             410       ['block1a_se_reshape[0][0]']  \n",
      "                                                                                                  \n",
      " block1a_se_expand (Conv2D)  (None, 1, 1, 40)             440       ['block1a_se_reduce[0][0]']   \n",
      "                                                                                                  \n",
      " block1a_se_excite (Multipl  (None, 50, 50, 40)           0         ['block1a_activation[0][0]',  \n",
      " y)                                                                  'block1a_se_expand[0][0]']   \n",
      "                                                                                                  \n",
      " block1a_project_conv (Conv  (None, 50, 50, 24)           960       ['block1a_se_excite[0][0]']   \n",
      " 2D)                                                                                              \n",
      "                                                                                                  \n",
      " block1a_project_bn (BatchN  (None, 50, 50, 24)           96        ['block1a_project_conv[0][0]']\n",
      " ormalization)                                                                                    \n",
      "                                                                                                  \n",
      " block1b_dwconv (DepthwiseC  (None, 50, 50, 24)           216       ['block1a_project_bn[0][0]']  \n",
      " onv2D)                                                                                           \n",
      "                                                                                                  \n",
      " block1b_bn (BatchNormaliza  (None, 50, 50, 24)           96        ['block1b_dwconv[0][0]']      \n",
      " tion)                                                                                            \n",
      "                                                                                                  \n",
      " block1b_activation (Activa  (None, 50, 50, 24)           0         ['block1b_bn[0][0]']          \n",
      " tion)                                                                                            \n",
      "                                                                                                  \n",
      " block1b_se_squeeze (Global  (None, 24)                   0         ['block1b_activation[0][0]']  \n",
      " AveragePooling2D)                                                                                \n",
      "                                                                                                  \n",
      " block1b_se_reshape (Reshap  (None, 1, 1, 24)             0         ['block1b_se_squeeze[0][0]']  \n",
      " e)                                                                                               \n",
      "                                                                                                  \n",
      " block1b_se_reduce (Conv2D)  (None, 1, 1, 6)              150       ['block1b_se_reshape[0][0]']  \n",
      "                                                                                                  \n",
      " block1b_se_expand (Conv2D)  (None, 1, 1, 24)             168       ['block1b_se_reduce[0][0]']   \n",
      "                                                                                                  \n",
      " block1b_se_excite (Multipl  (None, 50, 50, 24)           0         ['block1b_activation[0][0]',  \n",
      " y)                                                                  'block1b_se_expand[0][0]']   \n",
      "                                                                                                  \n",
      " block1b_project_conv (Conv  (None, 50, 50, 24)           576       ['block1b_se_excite[0][0]']   \n",
      " 2D)                                                                                              \n",
      "                                                                                                  \n",
      " block1b_project_bn (BatchN  (None, 50, 50, 24)           96        ['block1b_project_conv[0][0]']\n",
      " ormalization)                                                                                    \n",
      "                                                                                                  \n",
      " block1b_drop (Dropout)      (None, 50, 50, 24)           0         ['block1b_project_bn[0][0]']  \n",
      "                                                                                                  \n",
      " block1b_add (Add)           (None, 50, 50, 24)           0         ['block1b_drop[0][0]',        \n",
      "                                                                     'block1a_project_bn[0][0]']  \n",
      "                                                                                                  \n",
      " block2a_expand_conv (Conv2  (None, 50, 50, 144)          3456      ['block1b_add[0][0]']         \n"
     ]
    },
    {
     "name": "stdout",
     "output_type": "stream",
     "text": [
      " D)                                                                                               \n",
      "                                                                                                  \n",
      " block2a_expand_bn (BatchNo  (None, 50, 50, 144)          576       ['block2a_expand_conv[0][0]'] \n",
      " rmalization)                                                                                     \n",
      "                                                                                                  \n",
      " block2a_expand_activation   (None, 50, 50, 144)          0         ['block2a_expand_bn[0][0]']   \n",
      " (Activation)                                                                                     \n",
      "                                                                                                  \n",
      " block2a_dwconv_pad (ZeroPa  (None, 51, 51, 144)          0         ['block2a_expand_activation[0]\n",
      " dding2D)                                                           [0]']                         \n",
      "                                                                                                  \n",
      " block2a_dwconv (DepthwiseC  (None, 25, 25, 144)          1296      ['block2a_dwconv_pad[0][0]']  \n",
      " onv2D)                                                                                           \n",
      "                                                                                                  \n",
      " block2a_bn (BatchNormaliza  (None, 25, 25, 144)          576       ['block2a_dwconv[0][0]']      \n",
      " tion)                                                                                            \n",
      "                                                                                                  \n",
      " block2a_activation (Activa  (None, 25, 25, 144)          0         ['block2a_bn[0][0]']          \n",
      " tion)                                                                                            \n",
      "                                                                                                  \n",
      " block2a_se_squeeze (Global  (None, 144)                  0         ['block2a_activation[0][0]']  \n",
      " AveragePooling2D)                                                                                \n",
      "                                                                                                  \n",
      " block2a_se_reshape (Reshap  (None, 1, 1, 144)            0         ['block2a_se_squeeze[0][0]']  \n",
      " e)                                                                                               \n",
      "                                                                                                  \n",
      " block2a_se_reduce (Conv2D)  (None, 1, 1, 6)              870       ['block2a_se_reshape[0][0]']  \n",
      "                                                                                                  \n",
      " block2a_se_expand (Conv2D)  (None, 1, 1, 144)            1008      ['block2a_se_reduce[0][0]']   \n",
      "                                                                                                  \n",
      " block2a_se_excite (Multipl  (None, 25, 25, 144)          0         ['block2a_activation[0][0]',  \n",
      " y)                                                                  'block2a_se_expand[0][0]']   \n",
      "                                                                                                  \n",
      " block2a_project_conv (Conv  (None, 25, 25, 32)           4608      ['block2a_se_excite[0][0]']   \n",
      " 2D)                                                                                              \n",
      "                                                                                                  \n",
      " block2a_project_bn (BatchN  (None, 25, 25, 32)           128       ['block2a_project_conv[0][0]']\n",
      " ormalization)                                                                                    \n",
      "                                                                                                  \n",
      " block2b_expand_conv (Conv2  (None, 25, 25, 192)          6144      ['block2a_project_bn[0][0]']  \n",
      " D)                                                                                               \n",
      "                                                                                                  \n",
      " block2b_expand_bn (BatchNo  (None, 25, 25, 192)          768       ['block2b_expand_conv[0][0]'] \n",
      " rmalization)                                                                                     \n",
      "                                                                                                  \n",
      " block2b_expand_activation   (None, 25, 25, 192)          0         ['block2b_expand_bn[0][0]']   \n",
      " (Activation)                                                                                     \n",
      "                                                                                                  \n",
      " block2b_dwconv (DepthwiseC  (None, 25, 25, 192)          1728      ['block2b_expand_activation[0]\n",
      " onv2D)                                                             [0]']                         \n",
      "                                                                                                  \n",
      " block2b_bn (BatchNormaliza  (None, 25, 25, 192)          768       ['block2b_dwconv[0][0]']      \n",
      " tion)                                                                                            \n",
      "                                                                                                  \n",
      " block2b_activation (Activa  (None, 25, 25, 192)          0         ['block2b_bn[0][0]']          \n",
      " tion)                                                                                            \n",
      "                                                                                                  \n",
      " block2b_se_squeeze (Global  (None, 192)                  0         ['block2b_activation[0][0]']  \n",
      " AveragePooling2D)                                                                                \n",
      "                                                                                                  \n",
      " block2b_se_reshape (Reshap  (None, 1, 1, 192)            0         ['block2b_se_squeeze[0][0]']  \n",
      " e)                                                                                               \n",
      "                                                                                                  \n",
      " block2b_se_reduce (Conv2D)  (None, 1, 1, 8)              1544      ['block2b_se_reshape[0][0]']  \n",
      "                                                                                                  \n",
      " block2b_se_expand (Conv2D)  (None, 1, 1, 192)            1728      ['block2b_se_reduce[0][0]']   \n",
      "                                                                                                  \n",
      " block2b_se_excite (Multipl  (None, 25, 25, 192)          0         ['block2b_activation[0][0]',  \n",
      " y)                                                                  'block2b_se_expand[0][0]']   \n",
      "                                                                                                  \n",
      " block2b_project_conv (Conv  (None, 25, 25, 32)           6144      ['block2b_se_excite[0][0]']   \n",
      " 2D)                                                                                              \n",
      "                                                                                                  \n",
      " block2b_project_bn (BatchN  (None, 25, 25, 32)           128       ['block2b_project_conv[0][0]']\n",
      " ormalization)                                                                                    \n",
      "                                                                                                  \n",
      " block2b_drop (Dropout)      (None, 25, 25, 32)           0         ['block2b_project_bn[0][0]']  \n",
      "                                                                                                  \n",
      " block2b_add (Add)           (None, 25, 25, 32)           0         ['block2b_drop[0][0]',        \n",
      "                                                                     'block2a_project_bn[0][0]']  \n",
      "                                                                                                  \n",
      " block2c_expand_conv (Conv2  (None, 25, 25, 192)          6144      ['block2b_add[0][0]']         \n",
      " D)                                                                                               \n"
     ]
    },
    {
     "name": "stdout",
     "output_type": "stream",
     "text": [
      "                                                                                                  \n",
      " block2c_expand_bn (BatchNo  (None, 25, 25, 192)          768       ['block2c_expand_conv[0][0]'] \n",
      " rmalization)                                                                                     \n",
      "                                                                                                  \n",
      " block2c_expand_activation   (None, 25, 25, 192)          0         ['block2c_expand_bn[0][0]']   \n",
      " (Activation)                                                                                     \n",
      "                                                                                                  \n",
      " block2c_dwconv (DepthwiseC  (None, 25, 25, 192)          1728      ['block2c_expand_activation[0]\n",
      " onv2D)                                                             [0]']                         \n",
      "                                                                                                  \n",
      " block2c_bn (BatchNormaliza  (None, 25, 25, 192)          768       ['block2c_dwconv[0][0]']      \n",
      " tion)                                                                                            \n",
      "                                                                                                  \n",
      " block2c_activation (Activa  (None, 25, 25, 192)          0         ['block2c_bn[0][0]']          \n",
      " tion)                                                                                            \n",
      "                                                                                                  \n",
      " block2c_se_squeeze (Global  (None, 192)                  0         ['block2c_activation[0][0]']  \n",
      " AveragePooling2D)                                                                                \n",
      "                                                                                                  \n",
      " block2c_se_reshape (Reshap  (None, 1, 1, 192)            0         ['block2c_se_squeeze[0][0]']  \n",
      " e)                                                                                               \n",
      "                                                                                                  \n",
      " block2c_se_reduce (Conv2D)  (None, 1, 1, 8)              1544      ['block2c_se_reshape[0][0]']  \n",
      "                                                                                                  \n",
      " block2c_se_expand (Conv2D)  (None, 1, 1, 192)            1728      ['block2c_se_reduce[0][0]']   \n",
      "                                                                                                  \n",
      " block2c_se_excite (Multipl  (None, 25, 25, 192)          0         ['block2c_activation[0][0]',  \n",
      " y)                                                                  'block2c_se_expand[0][0]']   \n",
      "                                                                                                  \n",
      " block2c_project_conv (Conv  (None, 25, 25, 32)           6144      ['block2c_se_excite[0][0]']   \n",
      " 2D)                                                                                              \n",
      "                                                                                                  \n",
      " block2c_project_bn (BatchN  (None, 25, 25, 32)           128       ['block2c_project_conv[0][0]']\n",
      " ormalization)                                                                                    \n",
      "                                                                                                  \n",
      " block2c_drop (Dropout)      (None, 25, 25, 32)           0         ['block2c_project_bn[0][0]']  \n",
      "                                                                                                  \n",
      " block2c_add (Add)           (None, 25, 25, 32)           0         ['block2c_drop[0][0]',        \n",
      "                                                                     'block2b_add[0][0]']         \n",
      "                                                                                                  \n",
      " block3a_expand_conv (Conv2  (None, 25, 25, 192)          6144      ['block2c_add[0][0]']         \n",
      " D)                                                                                               \n",
      "                                                                                                  \n",
      " block3a_expand_bn (BatchNo  (None, 25, 25, 192)          768       ['block3a_expand_conv[0][0]'] \n",
      " rmalization)                                                                                     \n",
      "                                                                                                  \n",
      " block3a_expand_activation   (None, 25, 25, 192)          0         ['block3a_expand_bn[0][0]']   \n",
      " (Activation)                                                                                     \n",
      "                                                                                                  \n",
      " block3a_dwconv_pad (ZeroPa  (None, 29, 29, 192)          0         ['block3a_expand_activation[0]\n",
      " dding2D)                                                           [0]']                         \n",
      "                                                                                                  \n",
      " block3a_dwconv (DepthwiseC  (None, 13, 13, 192)          4800      ['block3a_dwconv_pad[0][0]']  \n",
      " onv2D)                                                                                           \n",
      "                                                                                                  \n",
      " block3a_bn (BatchNormaliza  (None, 13, 13, 192)          768       ['block3a_dwconv[0][0]']      \n",
      " tion)                                                                                            \n",
      "                                                                                                  \n",
      " block3a_activation (Activa  (None, 13, 13, 192)          0         ['block3a_bn[0][0]']          \n",
      " tion)                                                                                            \n",
      "                                                                                                  \n",
      " block3a_se_squeeze (Global  (None, 192)                  0         ['block3a_activation[0][0]']  \n",
      " AveragePooling2D)                                                                                \n",
      "                                                                                                  \n",
      " block3a_se_reshape (Reshap  (None, 1, 1, 192)            0         ['block3a_se_squeeze[0][0]']  \n",
      " e)                                                                                               \n",
      "                                                                                                  \n",
      " block3a_se_reduce (Conv2D)  (None, 1, 1, 8)              1544      ['block3a_se_reshape[0][0]']  \n",
      "                                                                                                  \n",
      " block3a_se_expand (Conv2D)  (None, 1, 1, 192)            1728      ['block3a_se_reduce[0][0]']   \n",
      "                                                                                                  \n",
      " block3a_se_excite (Multipl  (None, 13, 13, 192)          0         ['block3a_activation[0][0]',  \n",
      " y)                                                                  'block3a_se_expand[0][0]']   \n",
      "                                                                                                  \n",
      " block3a_project_conv (Conv  (None, 13, 13, 48)           9216      ['block3a_se_excite[0][0]']   \n",
      " 2D)                                                                                              \n",
      "                                                                                                  \n",
      " block3a_project_bn (BatchN  (None, 13, 13, 48)           192       ['block3a_project_conv[0][0]']\n",
      " ormalization)                                                                                    \n",
      "                                                                                                  \n",
      " block3b_expand_conv (Conv2  (None, 13, 13, 288)          13824     ['block3a_project_bn[0][0]']  \n",
      " D)                                                                                               \n",
      "                                                                                                  \n"
     ]
    },
    {
     "name": "stdout",
     "output_type": "stream",
     "text": [
      " block3b_expand_bn (BatchNo  (None, 13, 13, 288)          1152      ['block3b_expand_conv[0][0]'] \n",
      " rmalization)                                                                                     \n",
      "                                                                                                  \n",
      " block3b_expand_activation   (None, 13, 13, 288)          0         ['block3b_expand_bn[0][0]']   \n",
      " (Activation)                                                                                     \n",
      "                                                                                                  \n",
      " block3b_dwconv (DepthwiseC  (None, 13, 13, 288)          7200      ['block3b_expand_activation[0]\n",
      " onv2D)                                                             [0]']                         \n",
      "                                                                                                  \n",
      " block3b_bn (BatchNormaliza  (None, 13, 13, 288)          1152      ['block3b_dwconv[0][0]']      \n",
      " tion)                                                                                            \n",
      "                                                                                                  \n",
      " block3b_activation (Activa  (None, 13, 13, 288)          0         ['block3b_bn[0][0]']          \n",
      " tion)                                                                                            \n",
      "                                                                                                  \n",
      " block3b_se_squeeze (Global  (None, 288)                  0         ['block3b_activation[0][0]']  \n",
      " AveragePooling2D)                                                                                \n",
      "                                                                                                  \n",
      " block3b_se_reshape (Reshap  (None, 1, 1, 288)            0         ['block3b_se_squeeze[0][0]']  \n",
      " e)                                                                                               \n",
      "                                                                                                  \n",
      " block3b_se_reduce (Conv2D)  (None, 1, 1, 12)             3468      ['block3b_se_reshape[0][0]']  \n",
      "                                                                                                  \n",
      " block3b_se_expand (Conv2D)  (None, 1, 1, 288)            3744      ['block3b_se_reduce[0][0]']   \n",
      "                                                                                                  \n",
      " block3b_se_excite (Multipl  (None, 13, 13, 288)          0         ['block3b_activation[0][0]',  \n",
      " y)                                                                  'block3b_se_expand[0][0]']   \n",
      "                                                                                                  \n",
      " block3b_project_conv (Conv  (None, 13, 13, 48)           13824     ['block3b_se_excite[0][0]']   \n",
      " 2D)                                                                                              \n",
      "                                                                                                  \n",
      " block3b_project_bn (BatchN  (None, 13, 13, 48)           192       ['block3b_project_conv[0][0]']\n",
      " ormalization)                                                                                    \n",
      "                                                                                                  \n",
      " block3b_drop (Dropout)      (None, 13, 13, 48)           0         ['block3b_project_bn[0][0]']  \n",
      "                                                                                                  \n",
      " block3b_add (Add)           (None, 13, 13, 48)           0         ['block3b_drop[0][0]',        \n",
      "                                                                     'block3a_project_bn[0][0]']  \n",
      "                                                                                                  \n",
      " block3c_expand_conv (Conv2  (None, 13, 13, 288)          13824     ['block3b_add[0][0]']         \n",
      " D)                                                                                               \n",
      "                                                                                                  \n",
      " block3c_expand_bn (BatchNo  (None, 13, 13, 288)          1152      ['block3c_expand_conv[0][0]'] \n",
      " rmalization)                                                                                     \n",
      "                                                                                                  \n",
      " block3c_expand_activation   (None, 13, 13, 288)          0         ['block3c_expand_bn[0][0]']   \n",
      " (Activation)                                                                                     \n",
      "                                                                                                  \n",
      " block3c_dwconv (DepthwiseC  (None, 13, 13, 288)          7200      ['block3c_expand_activation[0]\n",
      " onv2D)                                                             [0]']                         \n",
      "                                                                                                  \n",
      " block3c_bn (BatchNormaliza  (None, 13, 13, 288)          1152      ['block3c_dwconv[0][0]']      \n",
      " tion)                                                                                            \n",
      "                                                                                                  \n",
      " block3c_activation (Activa  (None, 13, 13, 288)          0         ['block3c_bn[0][0]']          \n",
      " tion)                                                                                            \n",
      "                                                                                                  \n",
      " block3c_se_squeeze (Global  (None, 288)                  0         ['block3c_activation[0][0]']  \n",
      " AveragePooling2D)                                                                                \n",
      "                                                                                                  \n",
      " block3c_se_reshape (Reshap  (None, 1, 1, 288)            0         ['block3c_se_squeeze[0][0]']  \n",
      " e)                                                                                               \n",
      "                                                                                                  \n",
      " block3c_se_reduce (Conv2D)  (None, 1, 1, 12)             3468      ['block3c_se_reshape[0][0]']  \n",
      "                                                                                                  \n",
      " block3c_se_expand (Conv2D)  (None, 1, 1, 288)            3744      ['block3c_se_reduce[0][0]']   \n",
      "                                                                                                  \n",
      " block3c_se_excite (Multipl  (None, 13, 13, 288)          0         ['block3c_activation[0][0]',  \n",
      " y)                                                                  'block3c_se_expand[0][0]']   \n",
      "                                                                                                  \n",
      " block3c_project_conv (Conv  (None, 13, 13, 48)           13824     ['block3c_se_excite[0][0]']   \n",
      " 2D)                                                                                              \n",
      "                                                                                                  \n",
      " block3c_project_bn (BatchN  (None, 13, 13, 48)           192       ['block3c_project_conv[0][0]']\n",
      " ormalization)                                                                                    \n",
      "                                                                                                  \n",
      " block3c_drop (Dropout)      (None, 13, 13, 48)           0         ['block3c_project_bn[0][0]']  \n",
      "                                                                                                  \n",
      " block3c_add (Add)           (None, 13, 13, 48)           0         ['block3c_drop[0][0]',        \n",
      "                                                                     'block3b_add[0][0]']         \n",
      "                                                                                                  \n",
      " block4a_expand_conv (Conv2  (None, 13, 13, 288)          13824     ['block3c_add[0][0]']         \n",
      " D)                                                                                               \n"
     ]
    },
    {
     "name": "stdout",
     "output_type": "stream",
     "text": [
      "                                                                                                  \n",
      " block4a_expand_bn (BatchNo  (None, 13, 13, 288)          1152      ['block4a_expand_conv[0][0]'] \n",
      " rmalization)                                                                                     \n",
      "                                                                                                  \n",
      " block4a_expand_activation   (None, 13, 13, 288)          0         ['block4a_expand_bn[0][0]']   \n",
      " (Activation)                                                                                     \n",
      "                                                                                                  \n",
      " block4a_dwconv_pad (ZeroPa  (None, 15, 15, 288)          0         ['block4a_expand_activation[0]\n",
      " dding2D)                                                           [0]']                         \n",
      "                                                                                                  \n",
      " block4a_dwconv (DepthwiseC  (None, 7, 7, 288)            2592      ['block4a_dwconv_pad[0][0]']  \n",
      " onv2D)                                                                                           \n",
      "                                                                                                  \n",
      " block4a_bn (BatchNormaliza  (None, 7, 7, 288)            1152      ['block4a_dwconv[0][0]']      \n",
      " tion)                                                                                            \n",
      "                                                                                                  \n",
      " block4a_activation (Activa  (None, 7, 7, 288)            0         ['block4a_bn[0][0]']          \n",
      " tion)                                                                                            \n",
      "                                                                                                  \n",
      " block4a_se_squeeze (Global  (None, 288)                  0         ['block4a_activation[0][0]']  \n",
      " AveragePooling2D)                                                                                \n",
      "                                                                                                  \n",
      " block4a_se_reshape (Reshap  (None, 1, 1, 288)            0         ['block4a_se_squeeze[0][0]']  \n",
      " e)                                                                                               \n",
      "                                                                                                  \n",
      " block4a_se_reduce (Conv2D)  (None, 1, 1, 12)             3468      ['block4a_se_reshape[0][0]']  \n",
      "                                                                                                  \n",
      " block4a_se_expand (Conv2D)  (None, 1, 1, 288)            3744      ['block4a_se_reduce[0][0]']   \n",
      "                                                                                                  \n",
      " block4a_se_excite (Multipl  (None, 7, 7, 288)            0         ['block4a_activation[0][0]',  \n",
      " y)                                                                  'block4a_se_expand[0][0]']   \n",
      "                                                                                                  \n",
      " block4a_project_conv (Conv  (None, 7, 7, 96)             27648     ['block4a_se_excite[0][0]']   \n",
      " 2D)                                                                                              \n",
      "                                                                                                  \n",
      " block4a_project_bn (BatchN  (None, 7, 7, 96)             384       ['block4a_project_conv[0][0]']\n",
      " ormalization)                                                                                    \n",
      "                                                                                                  \n",
      " block4b_expand_conv (Conv2  (None, 7, 7, 576)            55296     ['block4a_project_bn[0][0]']  \n",
      " D)                                                                                               \n",
      "                                                                                                  \n",
      " block4b_expand_bn (BatchNo  (None, 7, 7, 576)            2304      ['block4b_expand_conv[0][0]'] \n",
      " rmalization)                                                                                     \n",
      "                                                                                                  \n",
      " block4b_expand_activation   (None, 7, 7, 576)            0         ['block4b_expand_bn[0][0]']   \n",
      " (Activation)                                                                                     \n",
      "                                                                                                  \n",
      " block4b_dwconv (DepthwiseC  (None, 7, 7, 576)            5184      ['block4b_expand_activation[0]\n",
      " onv2D)                                                             [0]']                         \n",
      "                                                                                                  \n",
      " block4b_bn (BatchNormaliza  (None, 7, 7, 576)            2304      ['block4b_dwconv[0][0]']      \n",
      " tion)                                                                                            \n",
      "                                                                                                  \n",
      " block4b_activation (Activa  (None, 7, 7, 576)            0         ['block4b_bn[0][0]']          \n",
      " tion)                                                                                            \n",
      "                                                                                                  \n",
      " block4b_se_squeeze (Global  (None, 576)                  0         ['block4b_activation[0][0]']  \n",
      " AveragePooling2D)                                                                                \n",
      "                                                                                                  \n",
      " block4b_se_reshape (Reshap  (None, 1, 1, 576)            0         ['block4b_se_squeeze[0][0]']  \n",
      " e)                                                                                               \n",
      "                                                                                                  \n",
      " block4b_se_reduce (Conv2D)  (None, 1, 1, 24)             13848     ['block4b_se_reshape[0][0]']  \n",
      "                                                                                                  \n",
      " block4b_se_expand (Conv2D)  (None, 1, 1, 576)            14400     ['block4b_se_reduce[0][0]']   \n",
      "                                                                                                  \n",
      " block4b_se_excite (Multipl  (None, 7, 7, 576)            0         ['block4b_activation[0][0]',  \n",
      " y)                                                                  'block4b_se_expand[0][0]']   \n",
      "                                                                                                  \n",
      " block4b_project_conv (Conv  (None, 7, 7, 96)             55296     ['block4b_se_excite[0][0]']   \n",
      " 2D)                                                                                              \n",
      "                                                                                                  \n",
      " block4b_project_bn (BatchN  (None, 7, 7, 96)             384       ['block4b_project_conv[0][0]']\n",
      " ormalization)                                                                                    \n",
      "                                                                                                  \n",
      " block4b_drop (Dropout)      (None, 7, 7, 96)             0         ['block4b_project_bn[0][0]']  \n",
      "                                                                                                  \n",
      " block4b_add (Add)           (None, 7, 7, 96)             0         ['block4b_drop[0][0]',        \n",
      "                                                                     'block4a_project_bn[0][0]']  \n",
      "                                                                                                  \n",
      " block4c_expand_conv (Conv2  (None, 7, 7, 576)            55296     ['block4b_add[0][0]']         \n",
      " D)                                                                                               \n",
      "                                                                                                  \n"
     ]
    },
    {
     "name": "stdout",
     "output_type": "stream",
     "text": [
      " block4c_expand_bn (BatchNo  (None, 7, 7, 576)            2304      ['block4c_expand_conv[0][0]'] \n",
      " rmalization)                                                                                     \n",
      "                                                                                                  \n",
      " block4c_expand_activation   (None, 7, 7, 576)            0         ['block4c_expand_bn[0][0]']   \n",
      " (Activation)                                                                                     \n",
      "                                                                                                  \n",
      " block4c_dwconv (DepthwiseC  (None, 7, 7, 576)            5184      ['block4c_expand_activation[0]\n",
      " onv2D)                                                             [0]']                         \n",
      "                                                                                                  \n",
      " block4c_bn (BatchNormaliza  (None, 7, 7, 576)            2304      ['block4c_dwconv[0][0]']      \n",
      " tion)                                                                                            \n",
      "                                                                                                  \n",
      " block4c_activation (Activa  (None, 7, 7, 576)            0         ['block4c_bn[0][0]']          \n",
      " tion)                                                                                            \n",
      "                                                                                                  \n",
      " block4c_se_squeeze (Global  (None, 576)                  0         ['block4c_activation[0][0]']  \n",
      " AveragePooling2D)                                                                                \n",
      "                                                                                                  \n",
      " block4c_se_reshape (Reshap  (None, 1, 1, 576)            0         ['block4c_se_squeeze[0][0]']  \n",
      " e)                                                                                               \n",
      "                                                                                                  \n",
      " block4c_se_reduce (Conv2D)  (None, 1, 1, 24)             13848     ['block4c_se_reshape[0][0]']  \n",
      "                                                                                                  \n",
      " block4c_se_expand (Conv2D)  (None, 1, 1, 576)            14400     ['block4c_se_reduce[0][0]']   \n",
      "                                                                                                  \n",
      " block4c_se_excite (Multipl  (None, 7, 7, 576)            0         ['block4c_activation[0][0]',  \n",
      " y)                                                                  'block4c_se_expand[0][0]']   \n",
      "                                                                                                  \n",
      " block4c_project_conv (Conv  (None, 7, 7, 96)             55296     ['block4c_se_excite[0][0]']   \n",
      " 2D)                                                                                              \n",
      "                                                                                                  \n",
      " block4c_project_bn (BatchN  (None, 7, 7, 96)             384       ['block4c_project_conv[0][0]']\n",
      " ormalization)                                                                                    \n",
      "                                                                                                  \n",
      " block4c_drop (Dropout)      (None, 7, 7, 96)             0         ['block4c_project_bn[0][0]']  \n",
      "                                                                                                  \n",
      " block4c_add (Add)           (None, 7, 7, 96)             0         ['block4c_drop[0][0]',        \n",
      "                                                                     'block4b_add[0][0]']         \n",
      "                                                                                                  \n",
      " block4d_expand_conv (Conv2  (None, 7, 7, 576)            55296     ['block4c_add[0][0]']         \n",
      " D)                                                                                               \n",
      "                                                                                                  \n",
      " block4d_expand_bn (BatchNo  (None, 7, 7, 576)            2304      ['block4d_expand_conv[0][0]'] \n",
      " rmalization)                                                                                     \n",
      "                                                                                                  \n",
      " block4d_expand_activation   (None, 7, 7, 576)            0         ['block4d_expand_bn[0][0]']   \n",
      " (Activation)                                                                                     \n",
      "                                                                                                  \n",
      " block4d_dwconv (DepthwiseC  (None, 7, 7, 576)            5184      ['block4d_expand_activation[0]\n",
      " onv2D)                                                             [0]']                         \n",
      "                                                                                                  \n",
      " block4d_bn (BatchNormaliza  (None, 7, 7, 576)            2304      ['block4d_dwconv[0][0]']      \n",
      " tion)                                                                                            \n",
      "                                                                                                  \n",
      " block4d_activation (Activa  (None, 7, 7, 576)            0         ['block4d_bn[0][0]']          \n",
      " tion)                                                                                            \n",
      "                                                                                                  \n",
      " block4d_se_squeeze (Global  (None, 576)                  0         ['block4d_activation[0][0]']  \n",
      " AveragePooling2D)                                                                                \n",
      "                                                                                                  \n",
      " block4d_se_reshape (Reshap  (None, 1, 1, 576)            0         ['block4d_se_squeeze[0][0]']  \n",
      " e)                                                                                               \n",
      "                                                                                                  \n",
      " block4d_se_reduce (Conv2D)  (None, 1, 1, 24)             13848     ['block4d_se_reshape[0][0]']  \n",
      "                                                                                                  \n",
      " block4d_se_expand (Conv2D)  (None, 1, 1, 576)            14400     ['block4d_se_reduce[0][0]']   \n",
      "                                                                                                  \n",
      " block4d_se_excite (Multipl  (None, 7, 7, 576)            0         ['block4d_activation[0][0]',  \n",
      " y)                                                                  'block4d_se_expand[0][0]']   \n",
      "                                                                                                  \n",
      " block4d_project_conv (Conv  (None, 7, 7, 96)             55296     ['block4d_se_excite[0][0]']   \n",
      " 2D)                                                                                              \n",
      "                                                                                                  \n",
      " block4d_project_bn (BatchN  (None, 7, 7, 96)             384       ['block4d_project_conv[0][0]']\n",
      " ormalization)                                                                                    \n",
      "                                                                                                  \n",
      " block4d_drop (Dropout)      (None, 7, 7, 96)             0         ['block4d_project_bn[0][0]']  \n",
      "                                                                                                  \n",
      " block4d_add (Add)           (None, 7, 7, 96)             0         ['block4d_drop[0][0]',        \n",
      "                                                                     'block4c_add[0][0]']         \n",
      "                                                                                                  \n",
      " block4e_expand_conv (Conv2  (None, 7, 7, 576)            55296     ['block4d_add[0][0]']         \n",
      " D)                                                                                               \n"
     ]
    },
    {
     "name": "stdout",
     "output_type": "stream",
     "text": [
      "                                                                                                  \n",
      " block4e_expand_bn (BatchNo  (None, 7, 7, 576)            2304      ['block4e_expand_conv[0][0]'] \n",
      " rmalization)                                                                                     \n",
      "                                                                                                  \n",
      " block4e_expand_activation   (None, 7, 7, 576)            0         ['block4e_expand_bn[0][0]']   \n",
      " (Activation)                                                                                     \n",
      "                                                                                                  \n",
      " block4e_dwconv (DepthwiseC  (None, 7, 7, 576)            5184      ['block4e_expand_activation[0]\n",
      " onv2D)                                                             [0]']                         \n",
      "                                                                                                  \n",
      " block4e_bn (BatchNormaliza  (None, 7, 7, 576)            2304      ['block4e_dwconv[0][0]']      \n",
      " tion)                                                                                            \n",
      "                                                                                                  \n",
      " block4e_activation (Activa  (None, 7, 7, 576)            0         ['block4e_bn[0][0]']          \n",
      " tion)                                                                                            \n",
      "                                                                                                  \n",
      " block4e_se_squeeze (Global  (None, 576)                  0         ['block4e_activation[0][0]']  \n",
      " AveragePooling2D)                                                                                \n",
      "                                                                                                  \n",
      " block4e_se_reshape (Reshap  (None, 1, 1, 576)            0         ['block4e_se_squeeze[0][0]']  \n",
      " e)                                                                                               \n",
      "                                                                                                  \n",
      " block4e_se_reduce (Conv2D)  (None, 1, 1, 24)             13848     ['block4e_se_reshape[0][0]']  \n",
      "                                                                                                  \n",
      " block4e_se_expand (Conv2D)  (None, 1, 1, 576)            14400     ['block4e_se_reduce[0][0]']   \n",
      "                                                                                                  \n",
      " block4e_se_excite (Multipl  (None, 7, 7, 576)            0         ['block4e_activation[0][0]',  \n",
      " y)                                                                  'block4e_se_expand[0][0]']   \n",
      "                                                                                                  \n",
      " block4e_project_conv (Conv  (None, 7, 7, 96)             55296     ['block4e_se_excite[0][0]']   \n",
      " 2D)                                                                                              \n",
      "                                                                                                  \n",
      " block4e_project_bn (BatchN  (None, 7, 7, 96)             384       ['block4e_project_conv[0][0]']\n",
      " ormalization)                                                                                    \n",
      "                                                                                                  \n",
      " block4e_drop (Dropout)      (None, 7, 7, 96)             0         ['block4e_project_bn[0][0]']  \n",
      "                                                                                                  \n",
      " block4e_add (Add)           (None, 7, 7, 96)             0         ['block4e_drop[0][0]',        \n",
      "                                                                     'block4d_add[0][0]']         \n",
      "                                                                                                  \n",
      " block5a_expand_conv (Conv2  (None, 7, 7, 576)            55296     ['block4e_add[0][0]']         \n",
      " D)                                                                                               \n",
      "                                                                                                  \n",
      " block5a_expand_bn (BatchNo  (None, 7, 7, 576)            2304      ['block5a_expand_conv[0][0]'] \n",
      " rmalization)                                                                                     \n",
      "                                                                                                  \n",
      " block5a_expand_activation   (None, 7, 7, 576)            0         ['block5a_expand_bn[0][0]']   \n",
      " (Activation)                                                                                     \n",
      "                                                                                                  \n",
      " block5a_dwconv (DepthwiseC  (None, 7, 7, 576)            14400     ['block5a_expand_activation[0]\n",
      " onv2D)                                                             [0]']                         \n",
      "                                                                                                  \n",
      " block5a_bn (BatchNormaliza  (None, 7, 7, 576)            2304      ['block5a_dwconv[0][0]']      \n",
      " tion)                                                                                            \n",
      "                                                                                                  \n",
      " block5a_activation (Activa  (None, 7, 7, 576)            0         ['block5a_bn[0][0]']          \n",
      " tion)                                                                                            \n",
      "                                                                                                  \n",
      " block5a_se_squeeze (Global  (None, 576)                  0         ['block5a_activation[0][0]']  \n",
      " AveragePooling2D)                                                                                \n",
      "                                                                                                  \n",
      " block5a_se_reshape (Reshap  (None, 1, 1, 576)            0         ['block5a_se_squeeze[0][0]']  \n",
      " e)                                                                                               \n",
      "                                                                                                  \n",
      " block5a_se_reduce (Conv2D)  (None, 1, 1, 24)             13848     ['block5a_se_reshape[0][0]']  \n",
      "                                                                                                  \n",
      " block5a_se_expand (Conv2D)  (None, 1, 1, 576)            14400     ['block5a_se_reduce[0][0]']   \n",
      "                                                                                                  \n",
      " block5a_se_excite (Multipl  (None, 7, 7, 576)            0         ['block5a_activation[0][0]',  \n",
      " y)                                                                  'block5a_se_expand[0][0]']   \n",
      "                                                                                                  \n",
      " block5a_project_conv (Conv  (None, 7, 7, 136)            78336     ['block5a_se_excite[0][0]']   \n",
      " 2D)                                                                                              \n",
      "                                                                                                  \n",
      " block5a_project_bn (BatchN  (None, 7, 7, 136)            544       ['block5a_project_conv[0][0]']\n",
      " ormalization)                                                                                    \n",
      "                                                                                                  \n",
      " block5b_expand_conv (Conv2  (None, 7, 7, 816)            110976    ['block5a_project_bn[0][0]']  \n",
      " D)                                                                                               \n",
      "                                                                                                  \n",
      " block5b_expand_bn (BatchNo  (None, 7, 7, 816)            3264      ['block5b_expand_conv[0][0]'] \n",
      " rmalization)                                                                                     \n",
      "                                                                                                  \n"
     ]
    },
    {
     "name": "stdout",
     "output_type": "stream",
     "text": [
      " block5b_expand_activation   (None, 7, 7, 816)            0         ['block5b_expand_bn[0][0]']   \n",
      " (Activation)                                                                                     \n",
      "                                                                                                  \n",
      " block5b_dwconv (DepthwiseC  (None, 7, 7, 816)            20400     ['block5b_expand_activation[0]\n",
      " onv2D)                                                             [0]']                         \n",
      "                                                                                                  \n",
      " block5b_bn (BatchNormaliza  (None, 7, 7, 816)            3264      ['block5b_dwconv[0][0]']      \n",
      " tion)                                                                                            \n",
      "                                                                                                  \n",
      " block5b_activation (Activa  (None, 7, 7, 816)            0         ['block5b_bn[0][0]']          \n",
      " tion)                                                                                            \n",
      "                                                                                                  \n",
      " block5b_se_squeeze (Global  (None, 816)                  0         ['block5b_activation[0][0]']  \n",
      " AveragePooling2D)                                                                                \n",
      "                                                                                                  \n",
      " block5b_se_reshape (Reshap  (None, 1, 1, 816)            0         ['block5b_se_squeeze[0][0]']  \n",
      " e)                                                                                               \n",
      "                                                                                                  \n",
      " block5b_se_reduce (Conv2D)  (None, 1, 1, 34)             27778     ['block5b_se_reshape[0][0]']  \n",
      "                                                                                                  \n",
      " block5b_se_expand (Conv2D)  (None, 1, 1, 816)            28560     ['block5b_se_reduce[0][0]']   \n",
      "                                                                                                  \n",
      " block5b_se_excite (Multipl  (None, 7, 7, 816)            0         ['block5b_activation[0][0]',  \n",
      " y)                                                                  'block5b_se_expand[0][0]']   \n",
      "                                                                                                  \n",
      " block5b_project_conv (Conv  (None, 7, 7, 136)            110976    ['block5b_se_excite[0][0]']   \n",
      " 2D)                                                                                              \n",
      "                                                                                                  \n",
      " block5b_project_bn (BatchN  (None, 7, 7, 136)            544       ['block5b_project_conv[0][0]']\n",
      " ormalization)                                                                                    \n",
      "                                                                                                  \n",
      " block5b_drop (Dropout)      (None, 7, 7, 136)            0         ['block5b_project_bn[0][0]']  \n",
      "                                                                                                  \n",
      " block5b_add (Add)           (None, 7, 7, 136)            0         ['block5b_drop[0][0]',        \n",
      "                                                                     'block5a_project_bn[0][0]']  \n",
      "                                                                                                  \n",
      " block5c_expand_conv (Conv2  (None, 7, 7, 816)            110976    ['block5b_add[0][0]']         \n",
      " D)                                                                                               \n",
      "                                                                                                  \n",
      " block5c_expand_bn (BatchNo  (None, 7, 7, 816)            3264      ['block5c_expand_conv[0][0]'] \n",
      " rmalization)                                                                                     \n",
      "                                                                                                  \n",
      " block5c_expand_activation   (None, 7, 7, 816)            0         ['block5c_expand_bn[0][0]']   \n",
      " (Activation)                                                                                     \n",
      "                                                                                                  \n",
      " block5c_dwconv (DepthwiseC  (None, 7, 7, 816)            20400     ['block5c_expand_activation[0]\n",
      " onv2D)                                                             [0]']                         \n",
      "                                                                                                  \n",
      " block5c_bn (BatchNormaliza  (None, 7, 7, 816)            3264      ['block5c_dwconv[0][0]']      \n",
      " tion)                                                                                            \n",
      "                                                                                                  \n",
      " block5c_activation (Activa  (None, 7, 7, 816)            0         ['block5c_bn[0][0]']          \n",
      " tion)                                                                                            \n",
      "                                                                                                  \n",
      " block5c_se_squeeze (Global  (None, 816)                  0         ['block5c_activation[0][0]']  \n",
      " AveragePooling2D)                                                                                \n",
      "                                                                                                  \n",
      " block5c_se_reshape (Reshap  (None, 1, 1, 816)            0         ['block5c_se_squeeze[0][0]']  \n",
      " e)                                                                                               \n",
      "                                                                                                  \n",
      " block5c_se_reduce (Conv2D)  (None, 1, 1, 34)             27778     ['block5c_se_reshape[0][0]']  \n",
      "                                                                                                  \n",
      " block5c_se_expand (Conv2D)  (None, 1, 1, 816)            28560     ['block5c_se_reduce[0][0]']   \n",
      "                                                                                                  \n",
      " block5c_se_excite (Multipl  (None, 7, 7, 816)            0         ['block5c_activation[0][0]',  \n",
      " y)                                                                  'block5c_se_expand[0][0]']   \n",
      "                                                                                                  \n",
      " block5c_project_conv (Conv  (None, 7, 7, 136)            110976    ['block5c_se_excite[0][0]']   \n",
      " 2D)                                                                                              \n",
      "                                                                                                  \n",
      " block5c_project_bn (BatchN  (None, 7, 7, 136)            544       ['block5c_project_conv[0][0]']\n",
      " ormalization)                                                                                    \n",
      "                                                                                                  \n",
      " block5c_drop (Dropout)      (None, 7, 7, 136)            0         ['block5c_project_bn[0][0]']  \n",
      "                                                                                                  \n",
      " block5c_add (Add)           (None, 7, 7, 136)            0         ['block5c_drop[0][0]',        \n",
      "                                                                     'block5b_add[0][0]']         \n",
      "                                                                                                  \n",
      " block5d_expand_conv (Conv2  (None, 7, 7, 816)            110976    ['block5c_add[0][0]']         \n",
      " D)                                                                                               \n",
      "                                                                                                  \n",
      " block5d_expand_bn (BatchNo  (None, 7, 7, 816)            3264      ['block5d_expand_conv[0][0]'] \n",
      " rmalization)                                                                                     \n"
     ]
    },
    {
     "name": "stdout",
     "output_type": "stream",
     "text": [
      "                                                                                                  \n",
      " block5d_expand_activation   (None, 7, 7, 816)            0         ['block5d_expand_bn[0][0]']   \n",
      " (Activation)                                                                                     \n",
      "                                                                                                  \n",
      " block5d_dwconv (DepthwiseC  (None, 7, 7, 816)            20400     ['block5d_expand_activation[0]\n",
      " onv2D)                                                             [0]']                         \n",
      "                                                                                                  \n",
      " block5d_bn (BatchNormaliza  (None, 7, 7, 816)            3264      ['block5d_dwconv[0][0]']      \n",
      " tion)                                                                                            \n",
      "                                                                                                  \n",
      " block5d_activation (Activa  (None, 7, 7, 816)            0         ['block5d_bn[0][0]']          \n",
      " tion)                                                                                            \n",
      "                                                                                                  \n",
      " block5d_se_squeeze (Global  (None, 816)                  0         ['block5d_activation[0][0]']  \n",
      " AveragePooling2D)                                                                                \n",
      "                                                                                                  \n",
      " block5d_se_reshape (Reshap  (None, 1, 1, 816)            0         ['block5d_se_squeeze[0][0]']  \n",
      " e)                                                                                               \n",
      "                                                                                                  \n",
      " block5d_se_reduce (Conv2D)  (None, 1, 1, 34)             27778     ['block5d_se_reshape[0][0]']  \n",
      "                                                                                                  \n",
      " block5d_se_expand (Conv2D)  (None, 1, 1, 816)            28560     ['block5d_se_reduce[0][0]']   \n",
      "                                                                                                  \n",
      " block5d_se_excite (Multipl  (None, 7, 7, 816)            0         ['block5d_activation[0][0]',  \n",
      " y)                                                                  'block5d_se_expand[0][0]']   \n",
      "                                                                                                  \n",
      " block5d_project_conv (Conv  (None, 7, 7, 136)            110976    ['block5d_se_excite[0][0]']   \n",
      " 2D)                                                                                              \n",
      "                                                                                                  \n",
      " block5d_project_bn (BatchN  (None, 7, 7, 136)            544       ['block5d_project_conv[0][0]']\n",
      " ormalization)                                                                                    \n",
      "                                                                                                  \n",
      " block5d_drop (Dropout)      (None, 7, 7, 136)            0         ['block5d_project_bn[0][0]']  \n",
      "                                                                                                  \n",
      " block5d_add (Add)           (None, 7, 7, 136)            0         ['block5d_drop[0][0]',        \n",
      "                                                                     'block5c_add[0][0]']         \n",
      "                                                                                                  \n",
      " block5e_expand_conv (Conv2  (None, 7, 7, 816)            110976    ['block5d_add[0][0]']         \n",
      " D)                                                                                               \n",
      "                                                                                                  \n",
      " block5e_expand_bn (BatchNo  (None, 7, 7, 816)            3264      ['block5e_expand_conv[0][0]'] \n",
      " rmalization)                                                                                     \n",
      "                                                                                                  \n",
      " block5e_expand_activation   (None, 7, 7, 816)            0         ['block5e_expand_bn[0][0]']   \n",
      " (Activation)                                                                                     \n",
      "                                                                                                  \n",
      " block5e_dwconv (DepthwiseC  (None, 7, 7, 816)            20400     ['block5e_expand_activation[0]\n",
      " onv2D)                                                             [0]']                         \n",
      "                                                                                                  \n",
      " block5e_bn (BatchNormaliza  (None, 7, 7, 816)            3264      ['block5e_dwconv[0][0]']      \n",
      " tion)                                                                                            \n",
      "                                                                                                  \n",
      " block5e_activation (Activa  (None, 7, 7, 816)            0         ['block5e_bn[0][0]']          \n",
      " tion)                                                                                            \n",
      "                                                                                                  \n",
      " block5e_se_squeeze (Global  (None, 816)                  0         ['block5e_activation[0][0]']  \n",
      " AveragePooling2D)                                                                                \n",
      "                                                                                                  \n",
      " block5e_se_reshape (Reshap  (None, 1, 1, 816)            0         ['block5e_se_squeeze[0][0]']  \n",
      " e)                                                                                               \n",
      "                                                                                                  \n",
      " block5e_se_reduce (Conv2D)  (None, 1, 1, 34)             27778     ['block5e_se_reshape[0][0]']  \n",
      "                                                                                                  \n",
      " block5e_se_expand (Conv2D)  (None, 1, 1, 816)            28560     ['block5e_se_reduce[0][0]']   \n",
      "                                                                                                  \n",
      " block5e_se_excite (Multipl  (None, 7, 7, 816)            0         ['block5e_activation[0][0]',  \n",
      " y)                                                                  'block5e_se_expand[0][0]']   \n",
      "                                                                                                  \n",
      " block5e_project_conv (Conv  (None, 7, 7, 136)            110976    ['block5e_se_excite[0][0]']   \n",
      " 2D)                                                                                              \n",
      "                                                                                                  \n",
      " block5e_project_bn (BatchN  (None, 7, 7, 136)            544       ['block5e_project_conv[0][0]']\n",
      " ormalization)                                                                                    \n",
      "                                                                                                  \n",
      " block5e_drop (Dropout)      (None, 7, 7, 136)            0         ['block5e_project_bn[0][0]']  \n",
      "                                                                                                  \n",
      " block5e_add (Add)           (None, 7, 7, 136)            0         ['block5e_drop[0][0]',        \n",
      "                                                                     'block5d_add[0][0]']         \n",
      "                                                                                                  \n",
      " block6a_expand_conv (Conv2  (None, 7, 7, 816)            110976    ['block5e_add[0][0]']         \n",
      " D)                                                                                               \n",
      "                                                                                                  \n",
      " block6a_expand_bn (BatchNo  (None, 7, 7, 816)            3264      ['block6a_expand_conv[0][0]'] \n"
     ]
    },
    {
     "name": "stdout",
     "output_type": "stream",
     "text": [
      " rmalization)                                                                                     \n",
      "                                                                                                  \n",
      " block6a_expand_activation   (None, 7, 7, 816)            0         ['block6a_expand_bn[0][0]']   \n",
      " (Activation)                                                                                     \n",
      "                                                                                                  \n",
      " block6a_dwconv_pad (ZeroPa  (None, 11, 11, 816)          0         ['block6a_expand_activation[0]\n",
      " dding2D)                                                           [0]']                         \n",
      "                                                                                                  \n",
      " block6a_dwconv (DepthwiseC  (None, 4, 4, 816)            20400     ['block6a_dwconv_pad[0][0]']  \n",
      " onv2D)                                                                                           \n",
      "                                                                                                  \n",
      " block6a_bn (BatchNormaliza  (None, 4, 4, 816)            3264      ['block6a_dwconv[0][0]']      \n",
      " tion)                                                                                            \n",
      "                                                                                                  \n",
      " block6a_activation (Activa  (None, 4, 4, 816)            0         ['block6a_bn[0][0]']          \n",
      " tion)                                                                                            \n",
      "                                                                                                  \n",
      " block6a_se_squeeze (Global  (None, 816)                  0         ['block6a_activation[0][0]']  \n",
      " AveragePooling2D)                                                                                \n",
      "                                                                                                  \n",
      " block6a_se_reshape (Reshap  (None, 1, 1, 816)            0         ['block6a_se_squeeze[0][0]']  \n",
      " e)                                                                                               \n",
      "                                                                                                  \n",
      " block6a_se_reduce (Conv2D)  (None, 1, 1, 34)             27778     ['block6a_se_reshape[0][0]']  \n",
      "                                                                                                  \n",
      " block6a_se_expand (Conv2D)  (None, 1, 1, 816)            28560     ['block6a_se_reduce[0][0]']   \n",
      "                                                                                                  \n",
      " block6a_se_excite (Multipl  (None, 4, 4, 816)            0         ['block6a_activation[0][0]',  \n",
      " y)                                                                  'block6a_se_expand[0][0]']   \n",
      "                                                                                                  \n",
      " block6a_project_conv (Conv  (None, 4, 4, 232)            189312    ['block6a_se_excite[0][0]']   \n",
      " 2D)                                                                                              \n",
      "                                                                                                  \n",
      " block6a_project_bn (BatchN  (None, 4, 4, 232)            928       ['block6a_project_conv[0][0]']\n",
      " ormalization)                                                                                    \n",
      "                                                                                                  \n",
      " block6b_expand_conv (Conv2  (None, 4, 4, 1392)           322944    ['block6a_project_bn[0][0]']  \n",
      " D)                                                                                               \n",
      "                                                                                                  \n",
      " block6b_expand_bn (BatchNo  (None, 4, 4, 1392)           5568      ['block6b_expand_conv[0][0]'] \n",
      " rmalization)                                                                                     \n",
      "                                                                                                  \n",
      " block6b_expand_activation   (None, 4, 4, 1392)           0         ['block6b_expand_bn[0][0]']   \n",
      " (Activation)                                                                                     \n",
      "                                                                                                  \n",
      " block6b_dwconv (DepthwiseC  (None, 4, 4, 1392)           34800     ['block6b_expand_activation[0]\n",
      " onv2D)                                                             [0]']                         \n",
      "                                                                                                  \n",
      " block6b_bn (BatchNormaliza  (None, 4, 4, 1392)           5568      ['block6b_dwconv[0][0]']      \n",
      " tion)                                                                                            \n",
      "                                                                                                  \n",
      " block6b_activation (Activa  (None, 4, 4, 1392)           0         ['block6b_bn[0][0]']          \n",
      " tion)                                                                                            \n",
      "                                                                                                  \n",
      " block6b_se_squeeze (Global  (None, 1392)                 0         ['block6b_activation[0][0]']  \n",
      " AveragePooling2D)                                                                                \n",
      "                                                                                                  \n",
      " block6b_se_reshape (Reshap  (None, 1, 1, 1392)           0         ['block6b_se_squeeze[0][0]']  \n",
      " e)                                                                                               \n",
      "                                                                                                  \n",
      " block6b_se_reduce (Conv2D)  (None, 1, 1, 58)             80794     ['block6b_se_reshape[0][0]']  \n",
      "                                                                                                  \n",
      " block6b_se_expand (Conv2D)  (None, 1, 1, 1392)           82128     ['block6b_se_reduce[0][0]']   \n",
      "                                                                                                  \n",
      " block6b_se_excite (Multipl  (None, 4, 4, 1392)           0         ['block6b_activation[0][0]',  \n",
      " y)                                                                  'block6b_se_expand[0][0]']   \n",
      "                                                                                                  \n",
      " block6b_project_conv (Conv  (None, 4, 4, 232)            322944    ['block6b_se_excite[0][0]']   \n",
      " 2D)                                                                                              \n",
      "                                                                                                  \n",
      " block6b_project_bn (BatchN  (None, 4, 4, 232)            928       ['block6b_project_conv[0][0]']\n",
      " ormalization)                                                                                    \n",
      "                                                                                                  \n",
      " block6b_drop (Dropout)      (None, 4, 4, 232)            0         ['block6b_project_bn[0][0]']  \n",
      "                                                                                                  \n",
      " block6b_add (Add)           (None, 4, 4, 232)            0         ['block6b_drop[0][0]',        \n",
      "                                                                     'block6a_project_bn[0][0]']  \n",
      "                                                                                                  \n",
      " block6c_expand_conv (Conv2  (None, 4, 4, 1392)           322944    ['block6b_add[0][0]']         \n",
      " D)                                                                                               \n",
      "                                                                                                  \n",
      " block6c_expand_bn (BatchNo  (None, 4, 4, 1392)           5568      ['block6c_expand_conv[0][0]'] \n",
      " rmalization)                                                                                     \n"
     ]
    },
    {
     "name": "stdout",
     "output_type": "stream",
     "text": [
      "                                                                                                  \n",
      " block6c_expand_activation   (None, 4, 4, 1392)           0         ['block6c_expand_bn[0][0]']   \n",
      " (Activation)                                                                                     \n",
      "                                                                                                  \n",
      " block6c_dwconv (DepthwiseC  (None, 4, 4, 1392)           34800     ['block6c_expand_activation[0]\n",
      " onv2D)                                                             [0]']                         \n",
      "                                                                                                  \n",
      " block6c_bn (BatchNormaliza  (None, 4, 4, 1392)           5568      ['block6c_dwconv[0][0]']      \n",
      " tion)                                                                                            \n",
      "                                                                                                  \n",
      " block6c_activation (Activa  (None, 4, 4, 1392)           0         ['block6c_bn[0][0]']          \n",
      " tion)                                                                                            \n",
      "                                                                                                  \n",
      " block6c_se_squeeze (Global  (None, 1392)                 0         ['block6c_activation[0][0]']  \n",
      " AveragePooling2D)                                                                                \n",
      "                                                                                                  \n",
      " block6c_se_reshape (Reshap  (None, 1, 1, 1392)           0         ['block6c_se_squeeze[0][0]']  \n",
      " e)                                                                                               \n",
      "                                                                                                  \n",
      " block6c_se_reduce (Conv2D)  (None, 1, 1, 58)             80794     ['block6c_se_reshape[0][0]']  \n",
      "                                                                                                  \n",
      " block6c_se_expand (Conv2D)  (None, 1, 1, 1392)           82128     ['block6c_se_reduce[0][0]']   \n",
      "                                                                                                  \n",
      " block6c_se_excite (Multipl  (None, 4, 4, 1392)           0         ['block6c_activation[0][0]',  \n",
      " y)                                                                  'block6c_se_expand[0][0]']   \n",
      "                                                                                                  \n",
      " block6c_project_conv (Conv  (None, 4, 4, 232)            322944    ['block6c_se_excite[0][0]']   \n",
      " 2D)                                                                                              \n",
      "                                                                                                  \n",
      " block6c_project_bn (BatchN  (None, 4, 4, 232)            928       ['block6c_project_conv[0][0]']\n",
      " ormalization)                                                                                    \n",
      "                                                                                                  \n",
      " block6c_drop (Dropout)      (None, 4, 4, 232)            0         ['block6c_project_bn[0][0]']  \n",
      "                                                                                                  \n",
      " block6c_add (Add)           (None, 4, 4, 232)            0         ['block6c_drop[0][0]',        \n",
      "                                                                     'block6b_add[0][0]']         \n",
      "                                                                                                  \n",
      " block6d_expand_conv (Conv2  (None, 4, 4, 1392)           322944    ['block6c_add[0][0]']         \n",
      " D)                                                                                               \n",
      "                                                                                                  \n",
      " block6d_expand_bn (BatchNo  (None, 4, 4, 1392)           5568      ['block6d_expand_conv[0][0]'] \n",
      " rmalization)                                                                                     \n",
      "                                                                                                  \n",
      " block6d_expand_activation   (None, 4, 4, 1392)           0         ['block6d_expand_bn[0][0]']   \n",
      " (Activation)                                                                                     \n",
      "                                                                                                  \n",
      " block6d_dwconv (DepthwiseC  (None, 4, 4, 1392)           34800     ['block6d_expand_activation[0]\n",
      " onv2D)                                                             [0]']                         \n",
      "                                                                                                  \n",
      " block6d_bn (BatchNormaliza  (None, 4, 4, 1392)           5568      ['block6d_dwconv[0][0]']      \n",
      " tion)                                                                                            \n",
      "                                                                                                  \n",
      " block6d_activation (Activa  (None, 4, 4, 1392)           0         ['block6d_bn[0][0]']          \n",
      " tion)                                                                                            \n",
      "                                                                                                  \n",
      " block6d_se_squeeze (Global  (None, 1392)                 0         ['block6d_activation[0][0]']  \n",
      " AveragePooling2D)                                                                                \n",
      "                                                                                                  \n",
      " block6d_se_reshape (Reshap  (None, 1, 1, 1392)           0         ['block6d_se_squeeze[0][0]']  \n",
      " e)                                                                                               \n",
      "                                                                                                  \n",
      " block6d_se_reduce (Conv2D)  (None, 1, 1, 58)             80794     ['block6d_se_reshape[0][0]']  \n",
      "                                                                                                  \n",
      " block6d_se_expand (Conv2D)  (None, 1, 1, 1392)           82128     ['block6d_se_reduce[0][0]']   \n",
      "                                                                                                  \n",
      " block6d_se_excite (Multipl  (None, 4, 4, 1392)           0         ['block6d_activation[0][0]',  \n",
      " y)                                                                  'block6d_se_expand[0][0]']   \n",
      "                                                                                                  \n",
      " block6d_project_conv (Conv  (None, 4, 4, 232)            322944    ['block6d_se_excite[0][0]']   \n",
      " 2D)                                                                                              \n",
      "                                                                                                  \n",
      " block6d_project_bn (BatchN  (None, 4, 4, 232)            928       ['block6d_project_conv[0][0]']\n",
      " ormalization)                                                                                    \n",
      "                                                                                                  \n",
      " block6d_drop (Dropout)      (None, 4, 4, 232)            0         ['block6d_project_bn[0][0]']  \n",
      "                                                                                                  \n",
      " block6d_add (Add)           (None, 4, 4, 232)            0         ['block6d_drop[0][0]',        \n",
      "                                                                     'block6c_add[0][0]']         \n",
      "                                                                                                  \n",
      " block6e_expand_conv (Conv2  (None, 4, 4, 1392)           322944    ['block6d_add[0][0]']         \n",
      " D)                                                                                               \n",
      "                                                                                                  \n",
      " block6e_expand_bn (BatchNo  (None, 4, 4, 1392)           5568      ['block6e_expand_conv[0][0]'] \n"
     ]
    },
    {
     "name": "stdout",
     "output_type": "stream",
     "text": [
      " rmalization)                                                                                     \n",
      "                                                                                                  \n",
      " block6e_expand_activation   (None, 4, 4, 1392)           0         ['block6e_expand_bn[0][0]']   \n",
      " (Activation)                                                                                     \n",
      "                                                                                                  \n",
      " block6e_dwconv (DepthwiseC  (None, 4, 4, 1392)           34800     ['block6e_expand_activation[0]\n",
      " onv2D)                                                             [0]']                         \n",
      "                                                                                                  \n",
      " block6e_bn (BatchNormaliza  (None, 4, 4, 1392)           5568      ['block6e_dwconv[0][0]']      \n",
      " tion)                                                                                            \n",
      "                                                                                                  \n",
      " block6e_activation (Activa  (None, 4, 4, 1392)           0         ['block6e_bn[0][0]']          \n",
      " tion)                                                                                            \n",
      "                                                                                                  \n",
      " block6e_se_squeeze (Global  (None, 1392)                 0         ['block6e_activation[0][0]']  \n",
      " AveragePooling2D)                                                                                \n",
      "                                                                                                  \n",
      " block6e_se_reshape (Reshap  (None, 1, 1, 1392)           0         ['block6e_se_squeeze[0][0]']  \n",
      " e)                                                                                               \n",
      "                                                                                                  \n",
      " block6e_se_reduce (Conv2D)  (None, 1, 1, 58)             80794     ['block6e_se_reshape[0][0]']  \n",
      "                                                                                                  \n",
      " block6e_se_expand (Conv2D)  (None, 1, 1, 1392)           82128     ['block6e_se_reduce[0][0]']   \n",
      "                                                                                                  \n",
      " block6e_se_excite (Multipl  (None, 4, 4, 1392)           0         ['block6e_activation[0][0]',  \n",
      " y)                                                                  'block6e_se_expand[0][0]']   \n",
      "                                                                                                  \n",
      " block6e_project_conv (Conv  (None, 4, 4, 232)            322944    ['block6e_se_excite[0][0]']   \n",
      " 2D)                                                                                              \n",
      "                                                                                                  \n",
      " block6e_project_bn (BatchN  (None, 4, 4, 232)            928       ['block6e_project_conv[0][0]']\n",
      " ormalization)                                                                                    \n",
      "                                                                                                  \n",
      " block6e_drop (Dropout)      (None, 4, 4, 232)            0         ['block6e_project_bn[0][0]']  \n",
      "                                                                                                  \n",
      " block6e_add (Add)           (None, 4, 4, 232)            0         ['block6e_drop[0][0]',        \n",
      "                                                                     'block6d_add[0][0]']         \n",
      "                                                                                                  \n",
      " block6f_expand_conv (Conv2  (None, 4, 4, 1392)           322944    ['block6e_add[0][0]']         \n",
      " D)                                                                                               \n",
      "                                                                                                  \n",
      " block6f_expand_bn (BatchNo  (None, 4, 4, 1392)           5568      ['block6f_expand_conv[0][0]'] \n",
      " rmalization)                                                                                     \n",
      "                                                                                                  \n",
      " block6f_expand_activation   (None, 4, 4, 1392)           0         ['block6f_expand_bn[0][0]']   \n",
      " (Activation)                                                                                     \n",
      "                                                                                                  \n",
      " block6f_dwconv (DepthwiseC  (None, 4, 4, 1392)           34800     ['block6f_expand_activation[0]\n",
      " onv2D)                                                             [0]']                         \n",
      "                                                                                                  \n",
      " block6f_bn (BatchNormaliza  (None, 4, 4, 1392)           5568      ['block6f_dwconv[0][0]']      \n",
      " tion)                                                                                            \n",
      "                                                                                                  \n",
      " block6f_activation (Activa  (None, 4, 4, 1392)           0         ['block6f_bn[0][0]']          \n",
      " tion)                                                                                            \n",
      "                                                                                                  \n",
      " block6f_se_squeeze (Global  (None, 1392)                 0         ['block6f_activation[0][0]']  \n",
      " AveragePooling2D)                                                                                \n",
      "                                                                                                  \n",
      " block6f_se_reshape (Reshap  (None, 1, 1, 1392)           0         ['block6f_se_squeeze[0][0]']  \n",
      " e)                                                                                               \n",
      "                                                                                                  \n",
      " block6f_se_reduce (Conv2D)  (None, 1, 1, 58)             80794     ['block6f_se_reshape[0][0]']  \n",
      "                                                                                                  \n",
      " block6f_se_expand (Conv2D)  (None, 1, 1, 1392)           82128     ['block6f_se_reduce[0][0]']   \n",
      "                                                                                                  \n",
      " block6f_se_excite (Multipl  (None, 4, 4, 1392)           0         ['block6f_activation[0][0]',  \n",
      " y)                                                                  'block6f_se_expand[0][0]']   \n",
      "                                                                                                  \n",
      " block6f_project_conv (Conv  (None, 4, 4, 232)            322944    ['block6f_se_excite[0][0]']   \n",
      " 2D)                                                                                              \n",
      "                                                                                                  \n",
      " block6f_project_bn (BatchN  (None, 4, 4, 232)            928       ['block6f_project_conv[0][0]']\n",
      " ormalization)                                                                                    \n",
      "                                                                                                  \n",
      " block6f_drop (Dropout)      (None, 4, 4, 232)            0         ['block6f_project_bn[0][0]']  \n",
      "                                                                                                  \n",
      " block6f_add (Add)           (None, 4, 4, 232)            0         ['block6f_drop[0][0]',        \n",
      "                                                                     'block6e_add[0][0]']         \n",
      "                                                                                                  \n",
      " block7a_expand_conv (Conv2  (None, 4, 4, 1392)           322944    ['block6f_add[0][0]']         \n",
      " D)                                                                                               \n",
      "                                                                                                  \n"
     ]
    },
    {
     "name": "stdout",
     "output_type": "stream",
     "text": [
      " block7a_expand_bn (BatchNo  (None, 4, 4, 1392)           5568      ['block7a_expand_conv[0][0]'] \n",
      " rmalization)                                                                                     \n",
      "                                                                                                  \n",
      " block7a_expand_activation   (None, 4, 4, 1392)           0         ['block7a_expand_bn[0][0]']   \n",
      " (Activation)                                                                                     \n",
      "                                                                                                  \n",
      " block7a_dwconv (DepthwiseC  (None, 4, 4, 1392)           12528     ['block7a_expand_activation[0]\n",
      " onv2D)                                                             [0]']                         \n",
      "                                                                                                  \n",
      " block7a_bn (BatchNormaliza  (None, 4, 4, 1392)           5568      ['block7a_dwconv[0][0]']      \n",
      " tion)                                                                                            \n",
      "                                                                                                  \n",
      " block7a_activation (Activa  (None, 4, 4, 1392)           0         ['block7a_bn[0][0]']          \n",
      " tion)                                                                                            \n",
      "                                                                                                  \n",
      " block7a_se_squeeze (Global  (None, 1392)                 0         ['block7a_activation[0][0]']  \n",
      " AveragePooling2D)                                                                                \n",
      "                                                                                                  \n",
      " block7a_se_reshape (Reshap  (None, 1, 1, 1392)           0         ['block7a_se_squeeze[0][0]']  \n",
      " e)                                                                                               \n",
      "                                                                                                  \n",
      " block7a_se_reduce (Conv2D)  (None, 1, 1, 58)             80794     ['block7a_se_reshape[0][0]']  \n",
      "                                                                                                  \n",
      " block7a_se_expand (Conv2D)  (None, 1, 1, 1392)           82128     ['block7a_se_reduce[0][0]']   \n",
      "                                                                                                  \n",
      " block7a_se_excite (Multipl  (None, 4, 4, 1392)           0         ['block7a_activation[0][0]',  \n",
      " y)                                                                  'block7a_se_expand[0][0]']   \n",
      "                                                                                                  \n",
      " block7a_project_conv (Conv  (None, 4, 4, 384)            534528    ['block7a_se_excite[0][0]']   \n",
      " 2D)                                                                                              \n",
      "                                                                                                  \n",
      " block7a_project_bn (BatchN  (None, 4, 4, 384)            1536      ['block7a_project_conv[0][0]']\n",
      " ormalization)                                                                                    \n",
      "                                                                                                  \n",
      " block7b_expand_conv (Conv2  (None, 4, 4, 2304)           884736    ['block7a_project_bn[0][0]']  \n",
      " D)                                                                                               \n",
      "                                                                                                  \n",
      " block7b_expand_bn (BatchNo  (None, 4, 4, 2304)           9216      ['block7b_expand_conv[0][0]'] \n",
      " rmalization)                                                                                     \n",
      "                                                                                                  \n",
      " block7b_expand_activation   (None, 4, 4, 2304)           0         ['block7b_expand_bn[0][0]']   \n",
      " (Activation)                                                                                     \n",
      "                                                                                                  \n",
      " block7b_dwconv (DepthwiseC  (None, 4, 4, 2304)           20736     ['block7b_expand_activation[0]\n",
      " onv2D)                                                             [0]']                         \n",
      "                                                                                                  \n",
      " block7b_bn (BatchNormaliza  (None, 4, 4, 2304)           9216      ['block7b_dwconv[0][0]']      \n",
      " tion)                                                                                            \n",
      "                                                                                                  \n",
      " block7b_activation (Activa  (None, 4, 4, 2304)           0         ['block7b_bn[0][0]']          \n",
      " tion)                                                                                            \n",
      "                                                                                                  \n",
      " block7b_se_squeeze (Global  (None, 2304)                 0         ['block7b_activation[0][0]']  \n",
      " AveragePooling2D)                                                                                \n",
      "                                                                                                  \n",
      " block7b_se_reshape (Reshap  (None, 1, 1, 2304)           0         ['block7b_se_squeeze[0][0]']  \n",
      " e)                                                                                               \n",
      "                                                                                                  \n",
      " block7b_se_reduce (Conv2D)  (None, 1, 1, 96)             221280    ['block7b_se_reshape[0][0]']  \n",
      "                                                                                                  \n",
      " block7b_se_expand (Conv2D)  (None, 1, 1, 2304)           223488    ['block7b_se_reduce[0][0]']   \n",
      "                                                                                                  \n",
      " block7b_se_excite (Multipl  (None, 4, 4, 2304)           0         ['block7b_activation[0][0]',  \n",
      " y)                                                                  'block7b_se_expand[0][0]']   \n",
      "                                                                                                  \n",
      " block7b_project_conv (Conv  (None, 4, 4, 384)            884736    ['block7b_se_excite[0][0]']   \n",
      " 2D)                                                                                              \n",
      "                                                                                                  \n",
      " block7b_project_bn (BatchN  (None, 4, 4, 384)            1536      ['block7b_project_conv[0][0]']\n",
      " ormalization)                                                                                    \n",
      "                                                                                                  \n",
      " block7b_drop (Dropout)      (None, 4, 4, 384)            0         ['block7b_project_bn[0][0]']  \n",
      "                                                                                                  \n",
      " block7b_add (Add)           (None, 4, 4, 384)            0         ['block7b_drop[0][0]',        \n",
      "                                                                     'block7a_project_bn[0][0]']  \n",
      "                                                                                                  \n",
      " top_conv (Conv2D)           (None, 4, 4, 1536)           589824    ['block7b_add[0][0]']         \n",
      "                                                                                                  \n",
      " top_bn (BatchNormalization  (None, 4, 4, 1536)           6144      ['top_conv[0][0]']            \n",
      " )                                                                                                \n",
      "                                                                                                  \n",
      " top_activation (Activation  (None, 4, 4, 1536)           0         ['top_bn[0][0]']              \n",
      " )                                                                                                \n"
     ]
    },
    {
     "name": "stdout",
     "output_type": "stream",
     "text": [
      "                                                                                                  \n",
      " avg_pool (GlobalAveragePoo  (None, 1536)                 0         ['top_activation[0][0]']      \n",
      " ling2D)                                                                                          \n",
      "                                                                                                  \n",
      " top_dropout (Dropout)       (None, 1536)                 0         ['avg_pool[0][0]']            \n",
      "                                                                                                  \n",
      " predictions (Dense)         (None, 2)                    3074      ['top_dropout[0][0]']         \n",
      "                                                                                                  \n",
      "==================================================================================================\n",
      "Total params: 10786609 (41.15 MB)\n",
      "Trainable params: 10699306 (40.81 MB)\n",
      "Non-trainable params: 87303 (341.03 KB)\n",
      "__________________________________________________________________________________________________\n"
     ]
    }
   ],
   "source": [
    "base_model.summary()"
   ]
  },
  {
   "cell_type": "code",
   "execution_count": 161,
   "metadata": {
    "execution": {
     "iopub.execute_input": "2023-08-15T20:45:28.895083Z",
     "iopub.status.busy": "2023-08-15T20:45:28.894234Z",
     "iopub.status.idle": "2023-08-15T20:45:28.900020Z",
     "shell.execute_reply": "2023-08-15T20:45:28.898718Z",
     "shell.execute_reply.started": "2023-08-15T20:45:28.895040Z"
    }
   },
   "outputs": [],
   "source": [
    "# model = Sequential()\n",
    "# model.add(Conv2D(16, (3,3), 1, activation='relu', input_shape=(220,220,3)))\n",
    "# model.add(MaxPooling2D())\n",
    "# model.add(Conv2D(32, (3,3), 1, activation='relu'))\n",
    "# model.add(MaxPooling2D())\n",
    "# model.add(Conv2D(16, (3,3), 1, activation='relu'))\n",
    "# model.add(MaxPooling2D())\n",
    "# model.add(Flatten())\n",
    "# model.add(Dense(256, activation='relu'))\n",
    "# model.add(Dense(6, activation='sigmoid'))"
   ]
  },
  {
   "cell_type": "code",
   "execution_count": 162,
   "metadata": {
    "execution": {
     "iopub.execute_input": "2023-08-15T20:45:29.695209Z",
     "iopub.status.busy": "2023-08-15T20:45:29.694454Z",
     "iopub.status.idle": "2023-08-15T20:45:29.710898Z",
     "shell.execute_reply": "2023-08-15T20:45:29.709757Z",
     "shell.execute_reply.started": "2023-08-15T20:45:29.695168Z"
    }
   },
   "outputs": [],
   "source": [
    "\n",
    "# Compile the model\n",
    "base_model.compile(optimizer='adam', loss='categorical_crossentropy', metrics=['accuracy'])\n",
    "\n"
   ]
  },
  {
   "cell_type": "code",
   "execution_count": 163,
   "metadata": {
    "execution": {
     "iopub.execute_input": "2023-08-15T20:45:31.033301Z",
     "iopub.status.busy": "2023-08-15T20:45:31.032917Z",
     "iopub.status.idle": "2023-08-15T20:47:54.078873Z",
     "shell.execute_reply": "2023-08-15T20:47:54.077515Z",
     "shell.execute_reply.started": "2023-08-15T20:45:31.033265Z"
    }
   },
   "outputs": [
    {
     "name": "stdout",
     "output_type": "stream",
     "text": [
      "Epoch 1/10\n",
      "59/59 [==============================] - 201s 3s/step - loss: 3.4281 - accuracy: 0.5754 - val_loss: 1.0178 - val_accuracy: 0.6610\n",
      "Epoch 2/10\n",
      "59/59 [==============================] - 166s 3s/step - loss: 1.6160 - accuracy: 0.7075 - val_loss: 0.9232 - val_accuracy: 0.3390\n",
      "Epoch 3/10\n",
      "59/59 [==============================] - 165s 3s/step - loss: 1.1100 - accuracy: 0.7288 - val_loss: 0.8297 - val_accuracy: 0.6610\n",
      "Epoch 4/10\n",
      "59/59 [==============================] - 166s 3s/step - loss: 1.0465 - accuracy: 0.7351 - val_loss: 0.6881 - val_accuracy: 0.6419\n",
      "Epoch 5/10\n",
      "59/59 [==============================] - 164s 3s/step - loss: 1.0374 - accuracy: 0.7739 - val_loss: 0.7689 - val_accuracy: 0.2797\n",
      "Epoch 6/10\n",
      "59/59 [==============================] - 166s 3s/step - loss: 0.7171 - accuracy: 0.7914 - val_loss: 0.7216 - val_accuracy: 0.6610\n",
      "Epoch 7/10\n",
      "59/59 [==============================] - 169s 3s/step - loss: 0.7336 - accuracy: 0.7956 - val_loss: 0.6069 - val_accuracy: 0.6674\n",
      "Epoch 8/10\n",
      "59/59 [==============================] - 164s 3s/step - loss: 0.8114 - accuracy: 0.8275 - val_loss: 0.5366 - val_accuracy: 0.7309\n",
      "Epoch 9/10\n",
      "59/59 [==============================] - 164s 3s/step - loss: 0.6674 - accuracy: 0.8535 - val_loss: 0.8239 - val_accuracy: 0.6843\n",
      "Epoch 10/10\n",
      "59/59 [==============================] - 164s 3s/step - loss: 0.4488 - accuracy: 0.8763 - val_loss: 0.4189 - val_accuracy: 0.8453\n"
     ]
    }
   ],
   "source": [
    "history=base_model.fit(X_train,y_train,epochs=10,validation_data=(X_test,y_test),batch_size=32,verbose=1) "
   ]
  },
  {
   "cell_type": "code",
   "execution_count": 164,
   "metadata": {
    "execution": {
     "iopub.execute_input": "2023-08-15T20:47:54.082605Z",
     "iopub.status.busy": "2023-08-15T20:47:54.082084Z",
     "iopub.status.idle": "2023-08-15T20:47:56.035525Z",
     "shell.execute_reply": "2023-08-15T20:47:56.034152Z",
     "shell.execute_reply.started": "2023-08-15T20:47:54.082562Z"
    }
   },
   "outputs": [
    {
     "name": "stdout",
     "output_type": "stream",
     "text": [
      "15/15 [==============================] - 8s 535ms/step - loss: 0.4189 - accuracy: 0.8453\n"
     ]
    }
   ],
   "source": [
    "_, acc = base_model.evaluate(X_test, y_test)"
   ]
  },
  {
   "cell_type": "code",
   "execution_count": 165,
   "metadata": {
    "execution": {
     "iopub.execute_input": "2023-08-15T20:47:56.039953Z",
     "iopub.status.busy": "2023-08-15T20:47:56.038686Z",
     "iopub.status.idle": "2023-08-15T20:47:56.047576Z",
     "shell.execute_reply": "2023-08-15T20:47:56.046028Z",
     "shell.execute_reply.started": "2023-08-15T20:47:56.039899Z"
    }
   },
   "outputs": [],
   "source": [
    "from sklearn.metrics import classification_report, confusion_matrix, roc_curve, auc\n",
    "from mlxtend.plotting import plot_confusion_matrix"
   ]
  },
  {
   "cell_type": "code",
   "execution_count": 166,
   "metadata": {
    "execution": {
     "iopub.execute_input": "2023-08-15T20:47:56.052353Z",
     "iopub.status.busy": "2023-08-15T20:47:56.051752Z",
     "iopub.status.idle": "2023-08-15T20:47:56.930271Z",
     "shell.execute_reply": "2023-08-15T20:47:56.928992Z",
     "shell.execute_reply.started": "2023-08-15T20:47:56.052319Z"
    }
   },
   "outputs": [
    {
     "name": "stdout",
     "output_type": "stream",
     "text": [
      "15/15 [==============================] - 10s 522ms/step\n"
     ]
    }
   ],
   "source": [
    "y_pred=base_model.predict(X_test)"
   ]
  },
  {
   "cell_type": "code",
   "execution_count": 167,
   "metadata": {
    "execution": {
     "iopub.execute_input": "2023-08-15T20:47:56.933570Z",
     "iopub.status.busy": "2023-08-15T20:47:56.932685Z",
     "iopub.status.idle": "2023-08-15T20:47:56.944889Z",
     "shell.execute_reply": "2023-08-15T20:47:56.943492Z",
     "shell.execute_reply.started": "2023-08-15T20:47:56.933521Z"
    }
   },
   "outputs": [
    {
     "data": {
      "text/plain": [
       "array([1, 0, 1, 0, 1, 0, 0, 1, 1, 1, 0, 1, 1, 1, 0, 1, 1, 1, 1, 1, 0, 1,\n",
       "       1, 1, 1, 1, 0, 1, 0, 1, 1, 1, 1, 1, 1, 0, 0, 1, 1, 0, 0, 1, 0, 1,\n",
       "       0, 1, 1, 1, 1, 1, 1, 1, 1, 0, 1, 0, 1, 1, 1, 1, 1, 1, 1, 1, 1, 1,\n",
       "       0, 1, 1, 0, 0, 1, 1, 1, 1, 1, 1, 1, 1, 1, 1, 1, 1, 0, 0, 1, 0, 0,\n",
       "       1, 0, 1, 1, 1, 1, 1, 1, 1, 1, 1, 1, 1, 1, 0, 1, 0, 0, 1, 0, 0, 1,\n",
       "       1, 0, 0, 0, 1, 1, 0, 0, 1, 1, 1, 1, 1, 1, 1, 1, 0, 0, 0, 1, 1, 1,\n",
       "       1, 1, 0, 1, 1, 1, 1, 1, 1, 1, 1, 1, 1, 1, 1, 1, 1, 1, 1, 1, 1, 1,\n",
       "       1, 1, 0, 1, 1, 0, 1, 0, 1, 1, 1, 1, 1, 0, 1, 1, 0, 1, 1, 1, 0, 1,\n",
       "       1, 0, 0, 1, 1, 1, 1, 1, 1, 1, 1, 1, 1, 1, 0, 1, 1, 1, 0, 1, 1, 1,\n",
       "       1, 1, 0, 1, 1, 0, 1, 1, 1, 1, 1, 1, 1, 0, 1, 1, 1, 1, 0, 1, 1, 1,\n",
       "       0, 1, 1, 1, 1, 1, 0, 1, 1, 1, 1, 1, 1, 1, 0, 1, 1, 1, 1, 1, 0, 1,\n",
       "       1, 1, 1, 1, 1, 1, 1, 1, 1, 1, 1, 1, 1, 1, 0, 1, 0, 0, 1, 1, 1, 1,\n",
       "       0, 0, 1, 1, 1, 1, 1, 1, 1, 1, 1, 1, 1, 1, 1, 1, 0, 1, 1, 1, 1, 1,\n",
       "       1, 1, 0, 1, 0, 1, 1, 1, 1, 1, 1, 1, 1, 0, 0, 0, 1, 0, 1, 1, 0, 1,\n",
       "       1, 1, 1, 1, 0, 1, 1, 1, 1, 1, 1, 0, 1, 0, 1, 1, 1, 1, 1, 1, 0, 0,\n",
       "       0, 1, 1, 1, 1, 1, 1, 1, 0, 1, 0, 1, 1, 1, 0, 0, 1, 1, 1, 1, 1, 1,\n",
       "       1, 1, 1, 0, 1, 1, 1, 1, 1, 1, 1, 1, 1, 1, 0, 0, 1, 0, 1, 1, 1, 1,\n",
       "       0, 1, 1, 1, 1, 1, 1, 1, 1, 1, 1, 0, 1, 1, 1, 1, 0, 1, 1, 1, 1, 0,\n",
       "       1, 1, 1, 1, 1, 0, 1, 1, 1, 1, 1, 1, 1, 1, 0, 1, 1, 1, 0, 1, 1, 0,\n",
       "       1, 1, 1, 1, 1, 1, 1, 0, 1, 1, 1, 0, 0, 0, 1, 1, 1, 0, 1, 1, 1, 1,\n",
       "       1, 1, 0, 1, 0, 1, 1, 1, 0, 1, 0, 1, 1, 1, 0, 1, 1, 0, 0, 0, 1, 1,\n",
       "       1, 1, 1, 1, 1, 1, 1, 1, 1, 1], dtype=int64)"
      ]
     },
     "execution_count": 167,
     "metadata": {},
     "output_type": "execute_result"
    }
   ],
   "source": [
    "y_pred2=np.argmax(y_pred, axis=1)\n",
    "y_pred2"
   ]
  },
  {
   "cell_type": "code",
   "execution_count": 168,
   "metadata": {
    "execution": {
     "iopub.execute_input": "2023-08-15T20:47:56.949045Z",
     "iopub.status.busy": "2023-08-15T20:47:56.947798Z",
     "iopub.status.idle": "2023-08-15T20:47:56.954355Z",
     "shell.execute_reply": "2023-08-15T20:47:56.953165Z",
     "shell.execute_reply.started": "2023-08-15T20:47:56.948989Z"
    }
   },
   "outputs": [],
   "source": [
    "y_test=np.argmax(y_test, axis=1)"
   ]
  },
  {
   "cell_type": "code",
   "execution_count": 169,
   "metadata": {
    "execution": {
     "iopub.execute_input": "2023-08-15T20:47:56.956928Z",
     "iopub.status.busy": "2023-08-15T20:47:56.956428Z",
     "iopub.status.idle": "2023-08-15T20:47:56.971105Z",
     "shell.execute_reply": "2023-08-15T20:47:56.969301Z",
     "shell.execute_reply.started": "2023-08-15T20:47:56.956888Z"
    }
   },
   "outputs": [
    {
     "data": {
      "text/plain": [
       "array([1, 0, 1, 0, 1, 0, 0, 0, 1, 1, 0, 1, 1, 1, 0, 1, 1, 1, 1, 1, 0, 1,\n",
       "       0, 0, 1, 1, 0, 0, 1, 1, 1, 1, 0, 1, 1, 0, 1, 1, 1, 0, 0, 1, 0, 1,\n",
       "       0, 1, 1, 1, 1, 1, 0, 1, 1, 0, 0, 0, 1, 1, 1, 1, 0, 1, 0, 1, 1, 1,\n",
       "       0, 1, 1, 0, 1, 0, 1, 1, 1, 1, 1, 1, 1, 1, 1, 1, 0, 0, 0, 1, 0, 0,\n",
       "       1, 0, 1, 1, 1, 0, 1, 1, 1, 1, 1, 1, 1, 0, 0, 1, 0, 0, 1, 0, 0, 1,\n",
       "       1, 0, 0, 1, 1, 1, 0, 1, 1, 1, 0, 1, 1, 1, 1, 0, 0, 0, 0, 1, 1, 1,\n",
       "       1, 1, 0, 1, 1, 1, 1, 1, 1, 1, 1, 1, 1, 1, 1, 1, 1, 1, 1, 1, 1, 1,\n",
       "       1, 1, 0, 0, 1, 0, 1, 0, 0, 1, 1, 1, 0, 0, 1, 1, 0, 1, 1, 1, 0, 1,\n",
       "       1, 0, 0, 0, 1, 0, 1, 1, 1, 1, 0, 1, 1, 0, 0, 1, 1, 1, 1, 0, 1, 1,\n",
       "       1, 1, 0, 1, 1, 0, 1, 1, 1, 1, 0, 1, 0, 0, 0, 1, 1, 0, 0, 1, 1, 1,\n",
       "       0, 0, 1, 1, 1, 1, 0, 1, 1, 1, 1, 1, 1, 0, 0, 1, 1, 1, 1, 0, 0, 1,\n",
       "       1, 1, 0, 1, 1, 1, 1, 1, 1, 1, 1, 0, 1, 1, 0, 1, 0, 0, 0, 1, 1, 1,\n",
       "       0, 0, 1, 1, 1, 1, 1, 1, 1, 1, 1, 0, 1, 0, 1, 1, 0, 1, 1, 0, 1, 0,\n",
       "       1, 0, 0, 1, 1, 1, 1, 1, 1, 1, 1, 1, 1, 0, 0, 0, 1, 0, 0, 1, 0, 1,\n",
       "       1, 1, 0, 0, 0, 0, 0, 1, 1, 1, 1, 0, 1, 0, 1, 1, 1, 1, 1, 1, 0, 0,\n",
       "       0, 1, 1, 0, 0, 1, 1, 1, 0, 1, 0, 0, 1, 1, 0, 0, 1, 1, 1, 1, 1, 1,\n",
       "       1, 0, 0, 0, 1, 1, 0, 1, 1, 1, 1, 1, 1, 1, 1, 0, 1, 0, 1, 0, 1, 0,\n",
       "       0, 1, 0, 1, 1, 1, 1, 1, 0, 1, 1, 0, 1, 1, 1, 1, 0, 1, 0, 1, 1, 0,\n",
       "       0, 1, 1, 1, 1, 0, 1, 1, 1, 0, 1, 1, 1, 1, 0, 1, 1, 1, 0, 0, 1, 0,\n",
       "       1, 1, 0, 0, 0, 1, 1, 0, 1, 1, 1, 0, 0, 0, 1, 1, 1, 0, 1, 0, 1, 1,\n",
       "       1, 0, 0, 1, 0, 1, 0, 1, 1, 1, 0, 1, 1, 1, 0, 1, 1, 0, 0, 0, 1, 1,\n",
       "       0, 1, 1, 1, 1, 1, 1, 1, 1, 1], dtype=int64)"
      ]
     },
     "execution_count": 169,
     "metadata": {},
     "output_type": "execute_result"
    }
   ],
   "source": [
    "y_test"
   ]
  },
  {
   "cell_type": "code",
   "execution_count": 170,
   "metadata": {
    "execution": {
     "iopub.execute_input": "2023-08-15T20:47:56.973634Z",
     "iopub.status.busy": "2023-08-15T20:47:56.973274Z",
     "iopub.status.idle": "2023-08-15T20:47:56.981926Z",
     "shell.execute_reply": "2023-08-15T20:47:56.980231Z",
     "shell.execute_reply.started": "2023-08-15T20:47:56.973594Z"
    }
   },
   "outputs": [],
   "source": [
    "confusion_matrix_result=confusion_matrix(y_test,y_pred2)"
   ]
  },
  {
   "cell_type": "code",
   "execution_count": 171,
   "metadata": {
    "execution": {
     "iopub.execute_input": "2023-08-15T20:47:56.983592Z",
     "iopub.status.busy": "2023-08-15T20:47:56.983243Z",
     "iopub.status.idle": "2023-08-15T20:47:57.251541Z",
     "shell.execute_reply": "2023-08-15T20:47:57.250419Z",
     "shell.execute_reply.started": "2023-08-15T20:47:56.983552Z"
    }
   },
   "outputs": [
    {
     "data": {
      "image/png": "[encoded data removed]",
      "text/plain": [
       "<Figure size 640x480 with 2 Axes>"
      ]
     },
     "metadata": {},
     "output_type": "display_data"
    }
   ],
   "source": [
    "import seaborn as sns\n",
    "import matplotlib.pyplot as plt     \n",
    "import pylab as pl\n",
    "plt.title(\"skin detection vitiligo vs normal using EfficientNetB3 \")\n",
    "plt.xticks(range(2), ['normal', 'Vitiligo'], fontsize=16)\n",
    "plt.yticks(range(2), ['normal', 'Vitiligo'], fontsize=16)\n",
    "ax= plt.subplot()\n",
    "sns.heatmap(confusion_matrix_result, annot=True, fmt='g', ax=ax);\n",
    "pl.show()"
   ]
  },
  {
   "cell_type": "code",
   "execution_count": 172,
   "metadata": {
    "execution": {
     "iopub.execute_input": "2023-08-15T20:47:57.255783Z",
     "iopub.status.busy": "2023-08-15T20:47:57.255464Z",
     "iopub.status.idle": "2023-08-15T20:47:57.261227Z",
     "shell.execute_reply": "2023-08-15T20:47:57.259759Z",
     "shell.execute_reply.started": "2023-08-15T20:47:57.255754Z"
    }
   },
   "outputs": [],
   "source": [
    "cat=['Acne and Rosacea Photos',\n",
    " 'Normal',\n",
    " 'vitiligo',\n",
    " 'Tinea Ringworm Candidiasis and other Fungal Infections',\n",
    "     'Melanoma Skin Cancer Nevi and Moles',\n",
    " 'Eczema Photos']"
   ]
  },
  {
   "cell_type": "code",
   "execution_count": 173,
   "metadata": {
    "execution": {
     "iopub.execute_input": "2023-08-15T20:47:57.263805Z",
     "iopub.status.busy": "2023-08-15T20:47:57.262703Z",
     "iopub.status.idle": "2023-08-15T20:47:57.690655Z",
     "shell.execute_reply": "2023-08-15T20:47:57.689460Z",
     "shell.execute_reply.started": "2023-08-15T20:47:57.263736Z"
    }
   },
   "outputs": [
    {
     "data": {
      "text/plain": [
       "<matplotlib.legend.Legend at 0x23b823ef750>"
      ]
     },
     "execution_count": 173,
     "metadata": {},
     "output_type": "execute_result"
    },
    {
     "data": {
      "image/png": "[encoded data removed]",
      "text/plain": [
       "<Figure size 1200x400 with 2 Axes>"
      ]
     },
     "metadata": {},
     "output_type": "display_data"
    }
   ],
   "source": [
    "train_accuracy = history.history['accuracy']\n",
    "val_accuracy = history.history['val_accuracy']\n",
    "train_loss = history.history['loss']\n",
    "val_loss = history.history['val_loss']\n",
    "\n",
    "epochs = range(len(train_accuracy))\n",
    "plt.figure(figsize=(12,4))\n",
    "\n",
    "# Plotting the accuracy\n",
    "plt.subplot(1,2,1)\n",
    "plt.plot(epochs, train_accuracy, 'b', label='Training accuracy')\n",
    "plt.plot(epochs, val_accuracy, 'r', label='Validation accuracy')\n",
    "plt.title('Training and validation accuracy')\n",
    "plt.xlabel('Epoch')\n",
    "plt.ylabel('Accuracy')\n",
    "plt.legend(['train', 'val'], loc='lower right')\n",
    "\n",
    "# Plotting the loss\n",
    "plt.subplot(1,2,2)\n",
    "plt.plot(epochs, train_loss, 'b', label='Training loss')\n",
    "plt.plot(epochs, val_loss, 'r', label='Validation loss')\n",
    "plt.title('Training and validation loss')\n",
    "plt.xlabel('Epoch')\n",
    "plt.ylabel('Loss')\n",
    "plt.legend(['train', 'val'], loc='upper right')"
   ]
  },
  {
   "cell_type": "code",
   "execution_count": 174,
   "metadata": {
    "execution": {
     "iopub.execute_input": "2023-08-15T20:47:57.693413Z",
     "iopub.status.busy": "2023-08-15T20:47:57.692302Z",
     "iopub.status.idle": "2023-08-15T20:47:57.701716Z",
     "shell.execute_reply": "2023-08-15T20:47:57.700632Z",
     "shell.execute_reply.started": "2023-08-15T20:47:57.693370Z"
    }
   },
   "outputs": [],
   "source": [
    "import os\n",
    "import matplotlib.pyplot as plt\n",
    "import cv2\n",
    "from tensorflow.keras.models import Model, Sequential\n",
    "from tensorflow.keras.layers import Input, Convolution2D, ZeroPadding2D,MaxPooling2D, Flatten, Dense, Dropout, Activation\n",
    "from PIL import Image\n",
    "import numpy as np\n",
    "from tensorflow.keras.preprocessing.image import load_img, save_img, img_to_array\n",
    "from tensorflow.keras.applications.imagenet_utils import preprocess_input\n",
    "from tensorflow.keras.preprocessing import image\n",
    "import pandas as pd\n",
    "import tensorflow as tf\n",
    "import keras\n",
    "import pickle"
   ]
  },
  {
   "cell_type": "code",
   "execution_count": 175,
   "metadata": {
    "execution": {
     "iopub.execute_input": "2023-08-15T20:47:57.704117Z",
     "iopub.status.busy": "2023-08-15T20:47:57.703708Z",
     "iopub.status.idle": "2023-08-15T20:47:57.726049Z",
     "shell.execute_reply": "2023-08-15T20:47:57.724789Z",
     "shell.execute_reply.started": "2023-08-15T20:47:57.704077Z"
    }
   },
   "outputs": [],
   "source": [
    "confusion_matrix=classification_report(y_test,y_pred2)"
   ]
  },
  {
   "cell_type": "code",
   "execution_count": 176,
   "metadata": {
    "execution": {
     "iopub.execute_input": "2023-08-15T20:48:27.039623Z",
     "iopub.status.busy": "2023-08-15T20:48:27.038587Z",
     "iopub.status.idle": "2023-08-15T20:48:27.046070Z",
     "shell.execute_reply": "2023-08-15T20:48:27.044713Z",
     "shell.execute_reply.started": "2023-08-15T20:48:27.039568Z"
    }
   },
   "outputs": [
    {
     "name": "stdout",
     "output_type": "stream",
     "text": [
      "              precision    recall  f1-score   support\n",
      "\n",
      "           0       0.91      0.60      0.72       160\n",
      "           1       0.83      0.97      0.89       312\n",
      "\n",
      "    accuracy                           0.85       472\n",
      "   macro avg       0.87      0.79      0.81       472\n",
      "weighted avg       0.86      0.85      0.84       472\n",
      "\n"
     ]
    }
   ],
   "source": [
    "print(confusion_matrix)"
   ]
  },
  {
   "cell_type": "code",
   "execution_count": null,
   "metadata": {},
   "outputs": [],
   "source": []
  },
  {
   "cell_type": "code",
   "execution_count": null,
   "metadata": {},
   "outputs": [],
   "source": []
  }
 ],
 "metadata": {
  "kernelspec": {
   "display_name": "Python 3 (ipykernel)",
   "language": "python",
   "name": "python3"
  },
  "language_info": {
   "codemirror_mode": {
    "name": "ipython",
    "version": 3
   },
   "file_extension": ".py",
   "mimetype": "text/x-python",
   "name": "python",
   "nbconvert_exporter": "python",
   "pygments_lexer": "ipython3",
   "version": "3.11.4"
  }
 },
 "nbformat": 4,
 "nbformat_minor": 4
}
