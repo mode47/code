{
 "cells": [
  {
   "cell_type": "code",
   "execution_count": 2,
   "metadata": {
    "execution": {
     "iopub.execute_input": "2023-04-01T11:40:58.591466Z",
     "iopub.status.busy": "2023-04-01T11:40:58.590095Z",
     "iopub.status.idle": "2023-04-01T11:40:58.599136Z",
     "shell.execute_reply": "2023-04-01T11:40:58.597201Z",
     "shell.execute_reply.started": "2023-04-01T11:40:58.591416Z"
    }
   },
   "outputs": [],
   "source": [
    "# This Python 3 environment comes with many helpful analytics libraries installed\n",
    "# It is defined by the kaggle/python Docker image: https://github.com/kaggle/docker-python\n",
    "# For example, here's several helpful packages to load\n",
    "\n",
    "import pandas as pd # data processing, CSV file I/O (e.g. pd.read_csv)\n",
    "# Input data files are available in the read-only \"../input/\" directory\n",
    "# For example, running this (by clicking run or pressing Shift+Enter) will list all files under the input directory\n",
    "import os\n",
    "# for dirname, _, filenames in os.walk('/kaggle/input'):\n",
    "#     for filename in filenames:\n",
    "#         print(os.path.join(dirname, filename))\n",
    "\n",
    "# You can write up to 20GB to the current directory (/kaggle/working/) that gets preserved as output when you create a version using \"Save & Run All\" \n",
    "# You can also write temporary files to /kaggle/temp/, but they won't be saved outside of the current session"
   ]
  },
  {
   "cell_type": "code",
   "execution_count": 3,
   "metadata": {
    "execution": {
     "iopub.execute_input": "2023-04-01T11:41:00.322695Z",
     "iopub.status.busy": "2023-04-01T11:41:00.321903Z",
     "iopub.status.idle": "2023-04-01T11:41:09.817680Z",
     "shell.execute_reply": "2023-04-01T11:41:09.816567Z",
     "shell.execute_reply.started": "2023-04-01T11:41:00.322653Z"
    }
   },
   "outputs": [],
   "source": [
    "import matplotlib.pyplot as plt\n",
    "import tensorflow as tf\n",
    "import seaborn as sns\n",
    "import random\n",
    "from PIL import Image\n",
    "from tensorflow.keras.preprocessing import image\n",
    "from tensorflow.keras.applications.inception_v3 import InceptionV3\n",
    "from tensorflow.keras import Sequential, Model\n",
    "from keras.layers import (Conv2D, MaxPooling2D, Dense, Flatten, \\\n",
    "                          Dropout, Input,GlobalAveragePooling2D,BatchNormalization)\n",
    "from tensorflow.keras.activations import softmax\n",
    "from tensorflow.keras.optimizers import Adam\n",
    "from keras.preprocessing.image import ImageDataGenerator\n",
    "from mpl_toolkits.axes_grid1 import ImageGrid\n",
    "from keras.models import Model\n",
    "from keras.applications.vgg16 import VGG16, preprocess_input\n",
    "from keras.callbacks import ModelCheckpoint, EarlyStopping\n",
    "from sklearn.metrics import (ConfusionMatrixDisplay, confusion_matrix, \n",
    "                             accuracy_score)\n",
    "import cv2"
   ]
  },
  {
   "cell_type": "code",
   "execution_count": 4,
   "metadata": {
    "execution": {
     "iopub.execute_input": "2023-04-01T11:41:09.820591Z",
     "iopub.status.busy": "2023-04-01T11:41:09.819682Z",
     "iopub.status.idle": "2023-04-01T11:41:09.831955Z",
     "shell.execute_reply": "2023-04-01T11:41:09.830973Z",
     "shell.execute_reply.started": "2023-04-01T11:41:09.820552Z"
    }
   },
   "outputs": [],
   "source": [
    "train2=os.listdir(\"/kaggle/input/dermnet/train\")"
   ]
  },
  {
   "cell_type": "code",
   "execution_count": 5,
   "metadata": {
    "execution": {
     "iopub.execute_input": "2023-04-01T11:41:10.885487Z",
     "iopub.status.busy": "2023-04-01T11:41:10.884697Z",
     "iopub.status.idle": "2023-04-01T11:41:10.893472Z",
     "shell.execute_reply": "2023-04-01T11:41:10.892320Z",
     "shell.execute_reply.started": "2023-04-01T11:41:10.885447Z"
    }
   },
   "outputs": [
    {
     "data": {
      "text/plain": [
       "['Light Diseases and Disorders of Pigmentation',\n",
       " 'Lupus and other Connective Tissue diseases',\n",
       " 'Acne and Rosacea Photos',\n",
       " 'Systemic Disease',\n",
       " 'Poison Ivy Photos and other Contact Dermatitis',\n",
       " 'Vascular Tumors',\n",
       " 'Urticaria Hives',\n",
       " 'Atopic Dermatitis Photos',\n",
       " 'Bullous Disease Photos',\n",
       " 'Hair Loss Photos Alopecia and other Hair Diseases',\n",
       " 'Tinea Ringworm Candidiasis and other Fungal Infections',\n",
       " 'Psoriasis pictures Lichen Planus and related diseases',\n",
       " 'Melanoma Skin Cancer Nevi and Moles',\n",
       " 'Nail Fungus and other Nail Disease',\n",
       " 'Scabies Lyme Disease and other Infestations and Bites',\n",
       " 'Eczema Photos',\n",
       " 'Exanthems and Drug Eruptions',\n",
       " 'Herpes HPV and other STDs Photos',\n",
       " 'Seborrheic Keratoses and other Benign Tumors',\n",
       " 'Actinic Keratosis Basal Cell Carcinoma and other Malignant Lesions',\n",
       " 'Vasculitis Photos',\n",
       " 'Cellulitis Impetigo and other Bacterial Infections',\n",
       " 'Warts Molluscum and other Viral Infections']"
      ]
     },
     "execution_count": 5,
     "metadata": {},
     "output_type": "execute_result"
    }
   ],
   "source": [
    "train2"
   ]
  },
  {
   "cell_type": "code",
   "execution_count": 6,
   "metadata": {
    "execution": {
     "iopub.execute_input": "2023-04-01T11:41:12.307787Z",
     "iopub.status.busy": "2023-04-01T11:41:12.307100Z",
     "iopub.status.idle": "2023-04-01T11:41:12.312946Z",
     "shell.execute_reply": "2023-04-01T11:41:12.311536Z",
     "shell.execute_reply.started": "2023-04-01T11:41:12.307749Z"
    }
   },
   "outputs": [],
   "source": [
    "cat2=['Melanoma Skin Cancer Nevi and Moles']"
   ]
  },
  {
   "cell_type": "code",
   "execution_count": 7,
   "metadata": {
    "execution": {
     "iopub.execute_input": "2023-04-01T11:41:14.171469Z",
     "iopub.status.busy": "2023-04-01T11:41:14.170847Z",
     "iopub.status.idle": "2023-04-01T11:41:14.176798Z",
     "shell.execute_reply": "2023-04-01T11:41:14.175244Z",
     "shell.execute_reply.started": "2023-04-01T11:41:14.171429Z"
    }
   },
   "outputs": [],
   "source": [
    "cat=['Acne and Rosacea Photos',\n",
    " 'Normal',\n",
    " 'vitiligo',\n",
    " 'Tinea Ringworm Candidiasis and other Fungal Infections',\n",
    "     'Melanoma Skin Cancer Nevi and Moles',\n",
    " 'Eczema Photos']"
   ]
  },
  {
   "cell_type": "code",
   "execution_count": 8,
   "metadata": {
    "execution": {
     "iopub.execute_input": "2023-04-01T11:41:15.040521Z",
     "iopub.status.busy": "2023-04-01T11:41:15.039414Z",
     "iopub.status.idle": "2023-04-01T11:41:15.045475Z",
     "shell.execute_reply": "2023-04-01T11:41:15.044121Z",
     "shell.execute_reply.started": "2023-04-01T11:41:15.040481Z"
    }
   },
   "outputs": [],
   "source": [
    "cat=['Normal','vitiligo']"
   ]
  },
  {
   "cell_type": "code",
   "execution_count": 9,
   "metadata": {
    "execution": {
     "iopub.execute_input": "2023-04-01T11:41:16.073647Z",
     "iopub.status.busy": "2023-04-01T11:41:16.072600Z",
     "iopub.status.idle": "2023-04-01T11:41:16.081883Z",
     "shell.execute_reply": "2023-04-01T11:41:16.080816Z",
     "shell.execute_reply.started": "2023-04-01T11:41:16.073603Z"
    }
   },
   "outputs": [],
   "source": [
    "def data_dictionary():\n",
    "    path_train=\"/kaggle/input/skindatasets/skin/train/\"\n",
    "    path_test=\"/kaggle/input/dermnet/train/\"\n",
    "    list_train=cat#os.listdir(path_train)\n",
    "    #list_train1=cat2\n",
    "    train_dictionary={\"image_path\":[],\"target\":[]}\n",
    "    test_dictionary={\"image_path\":[],\"target\":[]}\n",
    "    k=0\n",
    "    for i in list_train:\n",
    "        path_disease_train=path_train+i\n",
    "        image_list_train=os.listdir(path_disease_train)\n",
    "        for j in image_list_train:\n",
    "            img_path_train=path_disease_train+\"/\"+j            \n",
    "            if img_path_train!=\"/kaggle/input/skindatasets/skin/train/Normal/34.avif\":\n",
    "                train_dictionary[\"image_path\"].append(img_path_train)\n",
    "                train_dictionary['target'].append(k) \n",
    "        k+=1\n",
    "    '''\n",
    "        for i in list_train1:\n",
    "        path_disease_test=path_test+i\n",
    "        image_list_test=os.listdir(path_disease_test)\n",
    "        for j in image_list_test:\n",
    "            img_path_train=path_disease_test+\"/\"+j            \n",
    "            train_dictionary[\"image_path\"].append(img_path_train)\n",
    "            train_dictionary['target'].append(4)\n",
    "    '''\n",
    "\n",
    "    train_df=pd.DataFrame(train_dictionary)\n",
    "    return  train_df"
   ]
  },
  {
   "cell_type": "code",
   "execution_count": 10,
   "metadata": {
    "execution": {
     "iopub.execute_input": "2023-04-01T11:41:16.719556Z",
     "iopub.status.busy": "2023-04-01T11:41:16.718418Z",
     "iopub.status.idle": "2023-04-01T11:41:17.374712Z",
     "shell.execute_reply": "2023-04-01T11:41:17.373688Z",
     "shell.execute_reply.started": "2023-04-01T11:41:16.719496Z"
    }
   },
   "outputs": [],
   "source": [
    "train=data_dictionary()"
   ]
  },
  {
   "cell_type": "code",
   "execution_count": 11,
   "metadata": {
    "execution": {
     "iopub.execute_input": "2023-04-01T11:41:19.101008Z",
     "iopub.status.busy": "2023-04-01T11:41:19.100183Z",
     "iopub.status.idle": "2023-04-01T11:41:51.373994Z",
     "shell.execute_reply": "2023-04-01T11:41:51.372860Z",
     "shell.execute_reply.started": "2023-04-01T11:41:19.100956Z"
    }
   },
   "outputs": [],
   "source": [
    "import cv2\n",
    "images=[]\n",
    "label=[]\n",
    "for i in train['image_path']:\n",
    "    if i!=\"/kaggle/input/skindatasets/skin/train/Normal/34.avif\":\n",
    "        img=cv2.imread(i)\n",
    "        img = cv2.cvtColor(img, cv2.COLOR_BGR2RGB)\n",
    "        img=cv2.resize(img,(180,180))\n",
    "        #img = cv2.cvtColor(img, cv2.COLOR_BGR2GRAY)\n",
    "        #img=cv2.resize(img,(64,64),interpolation=cv2.INTER_AREA)\n",
    "        #img=resize_and_rescale(img)\n",
    "        images.append(img)"
   ]
  },
  {
   "cell_type": "code",
   "execution_count": 12,
   "metadata": {
    "execution": {
     "iopub.execute_input": "2023-04-01T11:41:51.378437Z",
     "iopub.status.busy": "2023-04-01T11:41:51.378004Z",
     "iopub.status.idle": "2023-04-01T11:41:51.385640Z",
     "shell.execute_reply": "2023-04-01T11:41:51.384596Z",
     "shell.execute_reply.started": "2023-04-01T11:41:51.378405Z"
    }
   },
   "outputs": [],
   "source": [
    "label=train['target']"
   ]
  },
  {
   "cell_type": "code",
   "execution_count": 13,
   "metadata": {
    "execution": {
     "iopub.execute_input": "2023-04-01T11:41:51.387556Z",
     "iopub.status.busy": "2023-04-01T11:41:51.387052Z",
     "iopub.status.idle": "2023-04-01T11:41:51.807082Z",
     "shell.execute_reply": "2023-04-01T11:41:51.806045Z",
     "shell.execute_reply.started": "2023-04-01T11:41:51.387517Z"
    }
   },
   "outputs": [
    {
     "data": {
      "image/png": "[encoded data removed]",
      "text/plain": [
       "<Figure size 640x480 with 1 Axes>"
      ]
     },
     "metadata": {},
     "output_type": "display_data"
    }
   ],
   "source": [
    "import matplotlib.pyplot as plt\n",
    "import tensorflow as tf\n",
    "import seaborn as sns\n",
    "import random\n",
    "from PIL import Image\n",
    "from tensorflow.keras.preprocessing import image\n",
    "from tensorflow.keras.applications.inception_v3 import InceptionV3\n",
    "from tensorflow.keras import Sequential, Model\n",
    "from keras.layers import (Conv2D, MaxPooling2D, Dense, Flatten, \\\n",
    "                          Dropout, Input,GlobalAveragePooling2D,BatchNormalization)\n",
    "from tensorflow.keras.activations import softmax\n",
    "from tensorflow.keras.optimizers import Adam\n",
    "from keras.preprocessing.image import ImageDataGenerator\n",
    "from mpl_toolkits.axes_grid1 import ImageGrid\n",
    "from keras.models import Model\n",
    "from keras.applications.vgg16 import VGG16, preprocess_input\n",
    "from keras.callbacks import ModelCheckpoint, EarlyStopping\n",
    "from sklearn.metrics import (ConfusionMatrixDisplay, confusion_matrix, \\\n",
    "                             accuracy_score)\n",
    "\n",
    "ax = sns.countplot(x=train['target'],\n",
    "                   order=train['target'].value_counts(ascending=False).index);\n",
    "\n",
    "abs_values = train['target'].value_counts(ascending=False).values\n",
    "\n",
    "ax.bar_label(container=ax.containers[0], labels=abs_values);"
   ]
  },
  {
   "cell_type": "code",
   "execution_count": 14,
   "metadata": {
    "execution": {
     "iopub.execute_input": "2023-04-01T11:41:53.326570Z",
     "iopub.status.busy": "2023-04-01T11:41:53.326210Z",
     "iopub.status.idle": "2023-04-01T11:41:53.335915Z",
     "shell.execute_reply": "2023-04-01T11:41:53.334788Z",
     "shell.execute_reply.started": "2023-04-01T11:41:53.326536Z"
    }
   },
   "outputs": [
    {
     "data": {
      "text/plain": [
       "2374"
      ]
     },
     "execution_count": 14,
     "metadata": {},
     "output_type": "execute_result"
    }
   ],
   "source": [
    "len(label)"
   ]
  },
  {
   "cell_type": "code",
   "execution_count": 15,
   "metadata": {
    "execution": {
     "iopub.execute_input": "2023-04-01T11:41:55.951594Z",
     "iopub.status.busy": "2023-04-01T11:41:55.950886Z",
     "iopub.status.idle": "2023-04-01T11:41:55.958586Z",
     "shell.execute_reply": "2023-04-01T11:41:55.957430Z",
     "shell.execute_reply.started": "2023-04-01T11:41:55.951551Z"
    }
   },
   "outputs": [
    {
     "data": {
      "text/plain": [
       "2374"
      ]
     },
     "execution_count": 15,
     "metadata": {},
     "output_type": "execute_result"
    }
   ],
   "source": [
    "len(images)"
   ]
  },
  {
   "cell_type": "code",
   "execution_count": 16,
   "metadata": {
    "execution": {
     "iopub.execute_input": "2023-04-01T11:41:59.995559Z",
     "iopub.status.busy": "2023-04-01T11:41:59.994655Z",
     "iopub.status.idle": "2023-04-01T11:42:00.000896Z",
     "shell.execute_reply": "2023-04-01T11:41:59.999641Z",
     "shell.execute_reply.started": "2023-04-01T11:41:59.995506Z"
    }
   },
   "outputs": [],
   "source": [
    "import numpy as np\n",
    "import pandas as pd"
   ]
  },
  {
   "cell_type": "code",
   "execution_count": 17,
   "metadata": {
    "execution": {
     "iopub.execute_input": "2023-04-01T11:42:02.219340Z",
     "iopub.status.busy": "2023-04-01T11:42:02.218632Z",
     "iopub.status.idle": "2023-04-01T11:42:02.296086Z",
     "shell.execute_reply": "2023-04-01T11:42:02.294858Z",
     "shell.execute_reply.started": "2023-04-01T11:42:02.219302Z"
    }
   },
   "outputs": [],
   "source": [
    "data=np.array(images)"
   ]
  },
  {
   "cell_type": "code",
   "execution_count": 18,
   "metadata": {
    "execution": {
     "iopub.execute_input": "2023-04-01T11:42:03.536275Z",
     "iopub.status.busy": "2023-04-01T11:42:03.533427Z",
     "iopub.status.idle": "2023-04-01T11:42:03.541301Z",
     "shell.execute_reply": "2023-04-01T11:42:03.540026Z",
     "shell.execute_reply.started": "2023-04-01T11:42:03.536235Z"
    }
   },
   "outputs": [],
   "source": [
    "label=np.array(label)"
   ]
  },
  {
   "cell_type": "code",
   "execution_count": 19,
   "metadata": {
    "execution": {
     "iopub.execute_input": "2023-04-01T11:42:04.730650Z",
     "iopub.status.busy": "2023-04-01T11:42:04.729930Z",
     "iopub.status.idle": "2023-04-01T11:42:04.737136Z",
     "shell.execute_reply": "2023-04-01T11:42:04.736116Z",
     "shell.execute_reply.started": "2023-04-01T11:42:04.730609Z"
    }
   },
   "outputs": [
    {
     "data": {
      "text/plain": [
       "(2374, 180, 180, 3)"
      ]
     },
     "execution_count": 19,
     "metadata": {},
     "output_type": "execute_result"
    }
   ],
   "source": [
    "data.shape"
   ]
  },
  {
   "cell_type": "code",
   "execution_count": 20,
   "metadata": {
    "execution": {
     "iopub.execute_input": "2023-04-01T11:42:07.370079Z",
     "iopub.status.busy": "2023-04-01T11:42:07.369655Z",
     "iopub.status.idle": "2023-04-01T11:42:07.377507Z",
     "shell.execute_reply": "2023-04-01T11:42:07.376405Z",
     "shell.execute_reply.started": "2023-04-01T11:42:07.370040Z"
    }
   },
   "outputs": [
    {
     "data": {
      "text/plain": [
       "(2374,)"
      ]
     },
     "execution_count": 20,
     "metadata": {},
     "output_type": "execute_result"
    }
   ],
   "source": [
    "label.shape"
   ]
  },
  {
   "cell_type": "code",
   "execution_count": 63,
   "metadata": {
    "execution": {
     "iopub.execute_input": "2023-04-01T11:45:56.904896Z",
     "iopub.status.busy": "2023-04-01T11:45:56.904113Z",
     "iopub.status.idle": "2023-04-01T11:45:56.985149Z",
     "shell.execute_reply": "2023-04-01T11:45:56.982736Z",
     "shell.execute_reply.started": "2023-04-01T11:45:56.904855Z"
    }
   },
   "outputs": [],
   "source": [
    "from sklearn.model_selection import train_test_split\n",
    "X_train, X_test, y_train, y_test = train_test_split(data, label, test_size=0.2,random_state=4)\n",
    "#X_train, X_validation, y_train, y_validation = train_test_split(X_train, y_train, test_size=0.2,random_state=1)"
   ]
  },
  {
   "cell_type": "code",
   "execution_count": 67,
   "metadata": {
    "execution": {
     "iopub.execute_input": "2023-04-01T11:47:12.359551Z",
     "iopub.status.busy": "2023-04-01T11:47:12.358612Z",
     "iopub.status.idle": "2023-04-01T11:47:12.366651Z",
     "shell.execute_reply": "2023-04-01T11:47:12.365267Z",
     "shell.execute_reply.started": "2023-04-01T11:47:12.359495Z"
    }
   },
   "outputs": [
    {
     "data": {
      "text/plain": [
       "(1899, 180, 180, 3)"
      ]
     },
     "execution_count": 67,
     "metadata": {},
     "output_type": "execute_result"
    }
   ],
   "source": [
    "X_train.shape"
   ]
  },
  {
   "cell_type": "code",
   "execution_count": 68,
   "metadata": {
    "execution": {
     "iopub.execute_input": "2023-04-01T11:47:16.706617Z",
     "iopub.status.busy": "2023-04-01T11:47:16.706206Z",
     "iopub.status.idle": "2023-04-01T11:47:16.714137Z",
     "shell.execute_reply": "2023-04-01T11:47:16.713010Z",
     "shell.execute_reply.started": "2023-04-01T11:47:16.706580Z"
    }
   },
   "outputs": [
    {
     "data": {
      "text/plain": [
       "(475, 180, 180, 3)"
      ]
     },
     "execution_count": 68,
     "metadata": {},
     "output_type": "execute_result"
    }
   ],
   "source": [
    "X_test.shape"
   ]
  },
  {
   "cell_type": "code",
   "execution_count": 69,
   "metadata": {
    "execution": {
     "iopub.execute_input": "2023-04-01T11:47:36.599741Z",
     "iopub.status.busy": "2023-04-01T11:47:36.599365Z",
     "iopub.status.idle": "2023-04-01T11:47:36.607096Z",
     "shell.execute_reply": "2023-04-01T11:47:36.606004Z",
     "shell.execute_reply.started": "2023-04-01T11:47:36.599708Z"
    }
   },
   "outputs": [
    {
     "data": {
      "text/plain": [
       "(475,)"
      ]
     },
     "execution_count": 69,
     "metadata": {},
     "output_type": "execute_result"
    }
   ],
   "source": [
    "y_test.shape"
   ]
  },
  {
   "cell_type": "code",
   "execution_count": 25,
   "metadata": {
    "execution": {
     "iopub.execute_input": "2023-04-01T11:42:20.091975Z",
     "iopub.status.busy": "2023-04-01T11:42:20.091278Z",
     "iopub.status.idle": "2023-04-01T11:42:20.097618Z",
     "shell.execute_reply": "2023-04-01T11:42:20.096489Z",
     "shell.execute_reply.started": "2023-04-01T11:42:20.091938Z"
    }
   },
   "outputs": [],
   "source": [
    "import keras\n",
    "num_classes = 2\n",
    "y_train = keras.utils.to_categorical(y_train, num_classes)"
   ]
  },
  {
   "cell_type": "code",
   "execution_count": 26,
   "metadata": {
    "execution": {
     "iopub.execute_input": "2023-04-01T11:42:22.538014Z",
     "iopub.status.busy": "2023-04-01T11:42:22.537008Z",
     "iopub.status.idle": "2023-04-01T11:42:22.543769Z",
     "shell.execute_reply": "2023-04-01T11:42:22.542558Z",
     "shell.execute_reply.started": "2023-04-01T11:42:22.537950Z"
    }
   },
   "outputs": [],
   "source": [
    "y_test=keras.utils.to_categorical(y_test, num_classes)"
   ]
  },
  {
   "cell_type": "code",
   "execution_count": 70,
   "metadata": {
    "execution": {
     "iopub.execute_input": "2023-04-01T11:48:21.649155Z",
     "iopub.status.busy": "2023-04-01T11:48:21.648762Z",
     "iopub.status.idle": "2023-04-01T11:48:21.656283Z",
     "shell.execute_reply": "2023-04-01T11:48:21.655143Z",
     "shell.execute_reply.started": "2023-04-01T11:48:21.649120Z"
    }
   },
   "outputs": [
    {
     "data": {
      "text/plain": [
       "(475,)"
      ]
     },
     "execution_count": 70,
     "metadata": {},
     "output_type": "execute_result"
    }
   ],
   "source": [
    "y_test.shape"
   ]
  },
  {
   "cell_type": "code",
   "execution_count": 71,
   "metadata": {
    "execution": {
     "iopub.execute_input": "2023-04-01T11:48:26.047207Z",
     "iopub.status.busy": "2023-04-01T11:48:26.046784Z",
     "iopub.status.idle": "2023-04-01T11:48:26.054008Z",
     "shell.execute_reply": "2023-04-01T11:48:26.052925Z",
     "shell.execute_reply.started": "2023-04-01T11:48:26.047169Z"
    }
   },
   "outputs": [
    {
     "data": {
      "text/plain": [
       "(1899,)"
      ]
     },
     "execution_count": 71,
     "metadata": {},
     "output_type": "execute_result"
    }
   ],
   "source": [
    "y_train.shape"
   ]
  },
  {
   "cell_type": "code",
   "execution_count": 29,
   "metadata": {
    "execution": {
     "iopub.execute_input": "2023-04-01T11:42:27.600546Z",
     "iopub.status.busy": "2023-04-01T11:42:27.599568Z",
     "iopub.status.idle": "2023-04-01T11:42:27.607292Z",
     "shell.execute_reply": "2023-04-01T11:42:27.606090Z",
     "shell.execute_reply.started": "2023-04-01T11:42:27.600506Z"
    }
   },
   "outputs": [],
   "source": [
    "from tensorflow.keras.applications import  VGG19,EfficientNetB0,VGG16,InceptionV3,ResNet50,EfficientNetB3\n",
    "from tensorflow.keras.models import Model\n",
    "from keras.applications.vgg16 import preprocess_input"
   ]
  },
  {
   "cell_type": "code",
   "execution_count": 30,
   "metadata": {
    "execution": {
     "iopub.execute_input": "2023-04-01T11:42:28.812368Z",
     "iopub.status.busy": "2023-04-01T11:42:28.810913Z",
     "iopub.status.idle": "2023-04-01T11:42:34.955021Z",
     "shell.execute_reply": "2023-04-01T11:42:34.953973Z",
     "shell.execute_reply.started": "2023-04-01T11:42:28.812314Z"
    }
   },
   "outputs": [
    {
     "name": "stdout",
     "output_type": "stream",
     "text": [
      "Downloading data from https://storage.googleapis.com/keras-applications/efficientnetb0_notop.h5\n",
      "16705208/16705208 [==============================] - 0s 0us/step\n"
     ]
    }
   ],
   "source": [
    "vgg_model = EfficientNetB0(weights = 'imagenet',  include_top = False, input_shape = (180, 180, 3)) "
   ]
  },
  {
   "cell_type": "code",
   "execution_count": 31,
   "metadata": {
    "execution": {
     "iopub.execute_input": "2023-04-01T11:42:39.702284Z",
     "iopub.status.busy": "2023-04-01T11:42:39.701763Z",
     "iopub.status.idle": "2023-04-01T11:42:39.718345Z",
     "shell.execute_reply": "2023-04-01T11:42:39.717245Z",
     "shell.execute_reply.started": "2023-04-01T11:42:39.702237Z"
    }
   },
   "outputs": [],
   "source": [
    "# let's make all layers non-trainable\n",
    "for layer in vgg_model.layers : \n",
    "    layer.trainable = False"
   ]
  },
  {
   "cell_type": "code",
   "execution_count": 32,
   "metadata": {
    "execution": {
     "iopub.execute_input": "2023-04-01T11:42:42.047337Z",
     "iopub.status.busy": "2023-04-01T11:42:42.046536Z",
     "iopub.status.idle": "2023-04-01T11:42:54.199446Z",
     "shell.execute_reply": "2023-04-01T11:42:54.198220Z",
     "shell.execute_reply.started": "2023-04-01T11:42:42.047297Z"
    }
   },
   "outputs": [
    {
     "name": "stdout",
     "output_type": "stream",
     "text": [
      "60/60 [==============================] - 11s 40ms/step\n"
     ]
    }
   ],
   "source": [
    "features_train=vgg_model.predict(X_train)"
   ]
  },
  {
   "cell_type": "code",
   "execution_count": 33,
   "metadata": {
    "execution": {
     "iopub.execute_input": "2023-04-01T11:42:54.203980Z",
     "iopub.status.busy": "2023-04-01T11:42:54.203656Z",
     "iopub.status.idle": "2023-04-01T11:42:55.621339Z",
     "shell.execute_reply": "2023-04-01T11:42:55.620138Z",
     "shell.execute_reply.started": "2023-04-01T11:42:54.203950Z"
    }
   },
   "outputs": [
    {
     "name": "stdout",
     "output_type": "stream",
     "text": [
      "15/15 [==============================] - 1s 66ms/step\n"
     ]
    }
   ],
   "source": [
    "features_test=vgg_model.predict(X_test)"
   ]
  },
  {
   "cell_type": "code",
   "execution_count": 34,
   "metadata": {
    "execution": {
     "iopub.execute_input": "2023-04-01T11:42:57.485499Z",
     "iopub.status.busy": "2023-04-01T11:42:57.484541Z",
     "iopub.status.idle": "2023-04-01T11:42:57.493358Z",
     "shell.execute_reply": "2023-04-01T11:42:57.492016Z",
     "shell.execute_reply.started": "2023-04-01T11:42:57.485446Z"
    }
   },
   "outputs": [
    {
     "data": {
      "text/plain": [
       "(1899, 6, 6, 1280)"
      ]
     },
     "execution_count": 34,
     "metadata": {},
     "output_type": "execute_result"
    }
   ],
   "source": [
    "features_train.shape"
   ]
  },
  {
   "cell_type": "code",
   "execution_count": 35,
   "metadata": {
    "execution": {
     "iopub.execute_input": "2023-04-01T11:43:01.269557Z",
     "iopub.status.busy": "2023-04-01T11:43:01.269165Z",
     "iopub.status.idle": "2023-04-01T11:43:01.276545Z",
     "shell.execute_reply": "2023-04-01T11:43:01.275370Z",
     "shell.execute_reply.started": "2023-04-01T11:43:01.269524Z"
    }
   },
   "outputs": [
    {
     "data": {
      "text/plain": [
       "(475, 6, 6, 1280)"
      ]
     },
     "execution_count": 35,
     "metadata": {},
     "output_type": "execute_result"
    }
   ],
   "source": [
    "features_test.shape"
   ]
  },
  {
   "cell_type": "code",
   "execution_count": 36,
   "metadata": {
    "execution": {
     "iopub.execute_input": "2023-04-01T11:43:02.779634Z",
     "iopub.status.busy": "2023-04-01T11:43:02.778919Z",
     "iopub.status.idle": "2023-04-01T11:43:02.784418Z",
     "shell.execute_reply": "2023-04-01T11:43:02.783323Z",
     "shell.execute_reply.started": "2023-04-01T11:43:02.779593Z"
    }
   },
   "outputs": [],
   "source": [
    "num_train=X_train.shape[0]\n",
    "num_test=X_test.shape[0]"
   ]
  },
  {
   "cell_type": "code",
   "execution_count": 37,
   "metadata": {
    "execution": {
     "iopub.execute_input": "2023-04-01T11:43:05.841529Z",
     "iopub.status.busy": "2023-04-01T11:43:05.840559Z",
     "iopub.status.idle": "2023-04-01T11:43:05.847528Z",
     "shell.execute_reply": "2023-04-01T11:43:05.845641Z",
     "shell.execute_reply.started": "2023-04-01T11:43:05.841466Z"
    }
   },
   "outputs": [],
   "source": [
    "x_test=features_test.reshape(num_test,-1)"
   ]
  },
  {
   "cell_type": "code",
   "execution_count": 38,
   "metadata": {
    "execution": {
     "iopub.execute_input": "2023-04-01T11:43:07.131248Z",
     "iopub.status.busy": "2023-04-01T11:43:07.130859Z",
     "iopub.status.idle": "2023-04-01T11:43:07.139636Z",
     "shell.execute_reply": "2023-04-01T11:43:07.138336Z",
     "shell.execute_reply.started": "2023-04-01T11:43:07.131212Z"
    }
   },
   "outputs": [
    {
     "data": {
      "text/plain": [
       "(475, 46080)"
      ]
     },
     "execution_count": 38,
     "metadata": {},
     "output_type": "execute_result"
    }
   ],
   "source": [
    "x_test.shape"
   ]
  },
  {
   "cell_type": "code",
   "execution_count": 39,
   "metadata": {
    "execution": {
     "iopub.execute_input": "2023-04-01T11:43:08.556137Z",
     "iopub.status.busy": "2023-04-01T11:43:08.553423Z",
     "iopub.status.idle": "2023-04-01T11:43:08.561580Z",
     "shell.execute_reply": "2023-04-01T11:43:08.560410Z",
     "shell.execute_reply.started": "2023-04-01T11:43:08.556095Z"
    }
   },
   "outputs": [],
   "source": [
    "x_train=features_train.reshape(num_train,-1)"
   ]
  },
  {
   "cell_type": "code",
   "execution_count": 40,
   "metadata": {
    "execution": {
     "iopub.execute_input": "2023-04-01T11:43:09.724293Z",
     "iopub.status.busy": "2023-04-01T11:43:09.723669Z",
     "iopub.status.idle": "2023-04-01T11:43:09.731678Z",
     "shell.execute_reply": "2023-04-01T11:43:09.729590Z",
     "shell.execute_reply.started": "2023-04-01T11:43:09.724254Z"
    }
   },
   "outputs": [],
   "source": [
    "from tensorflow.keras.models import Sequential\n",
    "from tensorflow.keras.layers import Conv2D,MaxPooling2D,Flatten, Dense\n"
   ]
  },
  {
   "cell_type": "code",
   "execution_count": 41,
   "metadata": {
    "execution": {
     "iopub.execute_input": "2023-04-01T11:43:11.047779Z",
     "iopub.status.busy": "2023-04-01T11:43:11.047016Z",
     "iopub.status.idle": "2023-04-01T11:43:11.083808Z",
     "shell.execute_reply": "2023-04-01T11:43:11.082855Z",
     "shell.execute_reply.started": "2023-04-01T11:43:11.047734Z"
    }
   },
   "outputs": [],
   "source": [
    "model=Sequential([\n",
    "                  Dense(1024,activation='relu'),\n",
    "                   Dense(512,activation='relu'),\n",
    "                  Dense(256,activation='relu'),\n",
    "                  Dense(2,activation='softmax'),\n",
    "\n",
    "])"
   ]
  },
  {
   "cell_type": "code",
   "execution_count": 42,
   "metadata": {
    "execution": {
     "iopub.execute_input": "2023-04-01T11:43:12.176248Z",
     "iopub.status.busy": "2023-04-01T11:43:12.175868Z",
     "iopub.status.idle": "2023-04-01T11:43:12.183389Z",
     "shell.execute_reply": "2023-04-01T11:43:12.182343Z",
     "shell.execute_reply.started": "2023-04-01T11:43:12.176212Z"
    }
   },
   "outputs": [
    {
     "data": {
      "text/plain": [
       "(475, 46080)"
      ]
     },
     "execution_count": 42,
     "metadata": {},
     "output_type": "execute_result"
    }
   ],
   "source": [
    "x_test.shape"
   ]
  },
  {
   "cell_type": "code",
   "execution_count": 43,
   "metadata": {
    "execution": {
     "iopub.execute_input": "2023-04-01T11:43:13.443430Z",
     "iopub.status.busy": "2023-04-01T11:43:13.443050Z",
     "iopub.status.idle": "2023-04-01T11:43:13.450285Z",
     "shell.execute_reply": "2023-04-01T11:43:13.449269Z",
     "shell.execute_reply.started": "2023-04-01T11:43:13.443396Z"
    }
   },
   "outputs": [],
   "source": [
    "from keras.callbacks import ModelCheckpoint, ReduceLROnPlateau"
   ]
  },
  {
   "cell_type": "code",
   "execution_count": 44,
   "metadata": {
    "execution": {
     "iopub.execute_input": "2023-04-01T11:43:14.780950Z",
     "iopub.status.busy": "2023-04-01T11:43:14.780280Z",
     "iopub.status.idle": "2023-04-01T11:43:14.786420Z",
     "shell.execute_reply": "2023-04-01T11:43:14.785243Z",
     "shell.execute_reply.started": "2023-04-01T11:43:14.780912Z"
    }
   },
   "outputs": [],
   "source": [
    "mcp_save = ModelCheckpoint('EnetB0_CIFAR10_TL.h5', save_best_only=True, monitor='val_acc')\n",
    "reduce_lr = ReduceLROnPlateau(monitor='val_acc', factor=0.5, patience=2, verbose=1,)"
   ]
  },
  {
   "cell_type": "code",
   "execution_count": 45,
   "metadata": {
    "execution": {
     "iopub.execute_input": "2023-04-01T11:43:15.780334Z",
     "iopub.status.busy": "2023-04-01T11:43:15.779284Z",
     "iopub.status.idle": "2023-04-01T11:43:15.799391Z",
     "shell.execute_reply": "2023-04-01T11:43:15.798504Z",
     "shell.execute_reply.started": "2023-04-01T11:43:15.780292Z"
    }
   },
   "outputs": [],
   "source": [
    "model.compile(optimizer='adam',loss='categorical_crossentropy',metrics=['accuracy'])"
   ]
  },
  {
   "cell_type": "code",
   "execution_count": 46,
   "metadata": {
    "execution": {
     "iopub.execute_input": "2023-04-01T11:43:16.431583Z",
     "iopub.status.busy": "2023-04-01T11:43:16.430863Z",
     "iopub.status.idle": "2023-04-01T11:43:58.846882Z",
     "shell.execute_reply": "2023-04-01T11:43:58.845753Z",
     "shell.execute_reply.started": "2023-04-01T11:43:16.431537Z"
    }
   },
   "outputs": [
    {
     "name": "stdout",
     "output_type": "stream",
     "text": [
      "Epoch 1/30\n",
      "60/60 [==============================] - 4s 21ms/step - loss: 0.4626 - accuracy: 0.9121 - val_loss: 0.1910 - val_accuracy: 0.9684 - lr: 0.0010\n",
      "Epoch 2/30\n",
      "60/60 [==============================] - 1s 15ms/step - loss: 0.1032 - accuracy: 0.9763 - val_loss: 0.0891 - val_accuracy: 0.9768 - lr: 0.0010\n",
      "Epoch 3/30\n",
      "60/60 [==============================] - 1s 17ms/step - loss: 0.0101 - accuracy: 0.9974 - val_loss: 0.0524 - val_accuracy: 0.9853 - lr: 0.0010\n",
      "Epoch 4/30\n",
      "60/60 [==============================] - 1s 14ms/step - loss: 0.0100 - accuracy: 0.9979 - val_loss: 0.0660 - val_accuracy: 0.9832 - lr: 0.0010\n",
      "Epoch 5/30\n",
      "60/60 [==============================] - 1s 16ms/step - loss: 0.0028 - accuracy: 0.9989 - val_loss: 0.0571 - val_accuracy: 0.9895 - lr: 0.0010\n",
      "Epoch 6/30\n",
      "60/60 [==============================] - 1s 15ms/step - loss: 0.0042 - accuracy: 0.9974 - val_loss: 0.1857 - val_accuracy: 0.9768 - lr: 0.0010\n",
      "Epoch 7/30\n",
      "60/60 [==============================] - 1s 14ms/step - loss: 5.5133e-04 - accuracy: 0.9995 - val_loss: 0.1997 - val_accuracy: 0.9747 - lr: 0.0010\n",
      "Epoch 8/30\n",
      "60/60 [==============================] - 1s 14ms/step - loss: 0.0076 - accuracy: 0.9989 - val_loss: 0.3683 - val_accuracy: 0.9747 - lr: 0.0010\n",
      "Epoch 9/30\n",
      "60/60 [==============================] - 1s 14ms/step - loss: 0.1298 - accuracy: 0.9863 - val_loss: 0.4371 - val_accuracy: 0.9516 - lr: 0.0010\n",
      "Epoch 10/30\n",
      "60/60 [==============================] - 1s 15ms/step - loss: 0.1847 - accuracy: 0.9784 - val_loss: 0.2725 - val_accuracy: 0.9705 - lr: 0.0010\n",
      "Epoch 11/30\n",
      "60/60 [==============================] - 1s 15ms/step - loss: 0.0319 - accuracy: 0.9953 - val_loss: 0.3066 - val_accuracy: 0.9768 - lr: 0.0010\n",
      "Epoch 12/30\n",
      "60/60 [==============================] - 1s 14ms/step - loss: 0.0219 - accuracy: 0.9953 - val_loss: 0.5000 - val_accuracy: 0.9747 - lr: 0.0010\n",
      "Epoch 13/30\n",
      "60/60 [==============================] - 1s 15ms/step - loss: 0.0171 - accuracy: 0.9974 - val_loss: 0.5787 - val_accuracy: 0.9558 - lr: 0.0010\n",
      "Epoch 14/30\n",
      "60/60 [==============================] - 1s 15ms/step - loss: 0.0204 - accuracy: 0.9953 - val_loss: 0.3708 - val_accuracy: 0.9726 - lr: 0.0010\n",
      "Epoch 15/30\n",
      "60/60 [==============================] - 1s 16ms/step - loss: 0.0200 - accuracy: 0.9984 - val_loss: 0.2288 - val_accuracy: 0.9789 - lr: 0.0010\n",
      "Epoch 16/30\n",
      "60/60 [==============================] - 1s 15ms/step - loss: 8.0805e-06 - accuracy: 1.0000 - val_loss: 0.2307 - val_accuracy: 0.9789 - lr: 0.0010\n",
      "Epoch 17/30\n",
      "60/60 [==============================] - 1s 15ms/step - loss: 5.2582e-06 - accuracy: 1.0000 - val_loss: 0.2314 - val_accuracy: 0.9789 - lr: 0.0010\n",
      "Epoch 18/30\n",
      "60/60 [==============================] - 1s 15ms/step - loss: 4.3024e-06 - accuracy: 1.0000 - val_loss: 0.2319 - val_accuracy: 0.9789 - lr: 0.0010\n",
      "Epoch 19/30\n",
      "60/60 [==============================] - 1s 14ms/step - loss: 3.7444e-06 - accuracy: 1.0000 - val_loss: 0.2325 - val_accuracy: 0.9789 - lr: 0.0010\n",
      "Epoch 20/30\n",
      "60/60 [==============================] - 1s 15ms/step - loss: 3.1240e-06 - accuracy: 1.0000 - val_loss: 0.2330 - val_accuracy: 0.9768 - lr: 0.0010\n",
      "Epoch 21/30\n",
      "60/60 [==============================] - 1s 15ms/step - loss: 2.6826e-06 - accuracy: 1.0000 - val_loss: 0.2336 - val_accuracy: 0.9768 - lr: 0.0010\n",
      "Epoch 22/30\n",
      "60/60 [==============================] - 1s 14ms/step - loss: 2.3300e-06 - accuracy: 1.0000 - val_loss: 0.2341 - val_accuracy: 0.9768 - lr: 0.0010\n",
      "Epoch 23/30\n",
      "60/60 [==============================] - 1s 15ms/step - loss: 2.0445e-06 - accuracy: 1.0000 - val_loss: 0.2346 - val_accuracy: 0.9747 - lr: 0.0010\n",
      "Epoch 24/30\n",
      "60/60 [==============================] - 1s 14ms/step - loss: 1.8139e-06 - accuracy: 1.0000 - val_loss: 0.2352 - val_accuracy: 0.9747 - lr: 0.0010\n",
      "Epoch 25/30\n",
      "60/60 [==============================] - 1s 18ms/step - loss: 1.6104e-06 - accuracy: 1.0000 - val_loss: 0.2359 - val_accuracy: 0.9747 - lr: 0.0010\n",
      "Epoch 26/30\n",
      "60/60 [==============================] - 1s 15ms/step - loss: 1.4275e-06 - accuracy: 1.0000 - val_loss: 0.2366 - val_accuracy: 0.9747 - lr: 0.0010\n",
      "Epoch 27/30\n",
      "60/60 [==============================] - 1s 16ms/step - loss: 1.2815e-06 - accuracy: 1.0000 - val_loss: 0.2372 - val_accuracy: 0.9747 - lr: 0.0010\n",
      "Epoch 28/30\n",
      "60/60 [==============================] - 1s 16ms/step - loss: 1.1671e-06 - accuracy: 1.0000 - val_loss: 0.2379 - val_accuracy: 0.9747 - lr: 0.0010\n",
      "Epoch 29/30\n",
      "60/60 [==============================] - 1s 14ms/step - loss: 1.0709e-06 - accuracy: 1.0000 - val_loss: 0.2384 - val_accuracy: 0.9747 - lr: 0.0010\n",
      "Epoch 30/30\n",
      "60/60 [==============================] - 1s 16ms/step - loss: 9.9095e-07 - accuracy: 1.0000 - val_loss: 0.2391 - val_accuracy: 0.9747 - lr: 0.0010\n"
     ]
    }
   ],
   "source": [
    "history=model.fit(x_train,y_train,batch_size=32,callbacks=[mcp_save,reduce_lr],epochs=30,validation_data=(x_test,y_test))"
   ]
  },
  {
   "cell_type": "code",
   "execution_count": 49,
   "metadata": {
    "execution": {
     "iopub.execute_input": "2023-04-01T11:44:29.616220Z",
     "iopub.status.busy": "2023-04-01T11:44:29.615818Z",
     "iopub.status.idle": "2023-04-01T11:44:29.948007Z",
     "shell.execute_reply": "2023-04-01T11:44:29.946926Z",
     "shell.execute_reply.started": "2023-04-01T11:44:29.616184Z"
    }
   },
   "outputs": [
    {
     "name": "stdout",
     "output_type": "stream",
     "text": [
      "15/15 [==============================] - 0s 6ms/step - loss: 0.2391 - accuracy: 0.9747\n"
     ]
    }
   ],
   "source": [
    "_, acc = model.evaluate(x_test, y_test)"
   ]
  },
  {
   "cell_type": "code",
   "execution_count": 50,
   "metadata": {
    "execution": {
     "iopub.execute_input": "2023-04-01T11:44:32.192406Z",
     "iopub.status.busy": "2023-04-01T11:44:32.191332Z",
     "iopub.status.idle": "2023-04-01T11:44:33.365780Z",
     "shell.execute_reply": "2023-04-01T11:44:33.364554Z",
     "shell.execute_reply.started": "2023-04-01T11:44:32.192357Z"
    }
   },
   "outputs": [],
   "source": [
    "model.save('6claass.h5')"
   ]
  },
  {
   "cell_type": "code",
   "execution_count": 51,
   "metadata": {
    "execution": {
     "iopub.execute_input": "2023-04-01T11:44:35.309957Z",
     "iopub.status.busy": "2023-04-01T11:44:35.309282Z",
     "iopub.status.idle": "2023-04-01T11:44:35.430948Z",
     "shell.execute_reply": "2023-04-01T11:44:35.429974Z",
     "shell.execute_reply.started": "2023-04-01T11:44:35.309921Z"
    }
   },
   "outputs": [],
   "source": [
    "from sklearn.metrics import classification_report, confusion_matrix, roc_curve, auc\n",
    "from mlxtend.plotting import plot_confusion_matrix"
   ]
  },
  {
   "cell_type": "code",
   "execution_count": 52,
   "metadata": {
    "execution": {
     "iopub.execute_input": "2023-04-01T11:44:36.460717Z",
     "iopub.status.busy": "2023-04-01T11:44:36.459740Z",
     "iopub.status.idle": "2023-04-01T11:44:36.801124Z",
     "shell.execute_reply": "2023-04-01T11:44:36.800129Z",
     "shell.execute_reply.started": "2023-04-01T11:44:36.460664Z"
    }
   },
   "outputs": [
    {
     "name": "stdout",
     "output_type": "stream",
     "text": [
      "15/15 [==============================] - 0s 4ms/step\n"
     ]
    }
   ],
   "source": [
    "y_pred=model.predict(x_test)"
   ]
  },
  {
   "cell_type": "code",
   "execution_count": 53,
   "metadata": {
    "execution": {
     "iopub.execute_input": "2023-04-01T11:44:39.060911Z",
     "iopub.status.busy": "2023-04-01T11:44:39.059751Z",
     "iopub.status.idle": "2023-04-01T11:44:39.082472Z",
     "shell.execute_reply": "2023-04-01T11:44:39.080794Z",
     "shell.execute_reply.started": "2023-04-01T11:44:39.060864Z"
    }
   },
   "outputs": [
    {
     "data": {
      "text/plain": [
       "array([1, 0, 1, 0, 1, 1, 1, 1, 0, 1, 1, 0, 1, 0, 0, 1, 1, 1, 1, 0, 1, 0,\n",
       "       1, 1, 0, 1, 0, 0, 0, 0, 1, 1, 1, 0, 0, 0, 1, 0, 0, 1, 1, 1, 1, 1,\n",
       "       0, 1, 0, 1, 1, 0, 1, 1, 1, 0, 1, 1, 1, 1, 1, 1, 0, 1, 0, 0, 1, 0,\n",
       "       0, 1, 1, 1, 1, 0, 0, 0, 1, 0, 1, 1, 0, 1, 1, 1, 0, 1, 1, 1, 1, 1,\n",
       "       0, 1, 1, 1, 0, 1, 0, 0, 1, 1, 1, 1, 0, 0, 1, 1, 0, 1, 0, 0, 1, 0,\n",
       "       1, 1, 1, 1, 0, 0, 0, 0, 1, 0, 0, 0, 1, 1, 1, 1, 1, 0, 1, 1, 1, 0,\n",
       "       1, 1, 1, 1, 1, 1, 0, 1, 1, 1, 0, 1, 1, 0, 1, 0, 0, 0, 1, 0, 1, 1,\n",
       "       0, 1, 0, 1, 1, 1, 0, 1, 1, 1, 1, 1, 0, 1, 0, 1, 1, 1, 1, 1, 1, 1,\n",
       "       1, 1, 1, 1, 0, 1, 1, 1, 0, 1, 1, 1, 0, 1, 1, 1, 0, 0, 1, 0, 1, 1,\n",
       "       0, 0, 1, 1, 1, 1, 1, 1, 0, 0, 1, 1, 0, 1, 1, 0, 1, 1, 1, 1, 1, 1,\n",
       "       1, 1, 1, 1, 0, 0, 0, 1, 1, 0, 0, 0, 0, 1, 0, 0, 1, 0, 1, 0, 1, 0,\n",
       "       1, 1, 0, 1, 1, 1, 1, 1, 1, 0, 0, 1, 1, 0, 1, 0, 0, 1, 0, 0, 0, 1,\n",
       "       1, 1, 1, 0, 0, 1, 0, 1, 1, 1, 1, 0, 1, 0, 1, 0, 0, 1, 0, 0, 1, 1,\n",
       "       1, 0, 0, 1, 1, 1, 1, 0, 1, 0, 0, 1, 1, 1, 1, 1, 0, 1, 0, 0, 1, 0,\n",
       "       1, 0, 1, 1, 1, 1, 1, 0, 0, 1, 0, 0, 1, 1, 1, 0, 1, 1, 1, 1, 1, 1,\n",
       "       0, 1, 0, 1, 0, 1, 1, 1, 1, 1, 1, 1, 1, 1, 1, 0, 0, 1, 0, 1, 1, 1,\n",
       "       1, 1, 1, 1, 1, 0, 1, 0, 1, 1, 1, 0, 0, 1, 1, 1, 0, 1, 0, 1, 0, 1,\n",
       "       1, 0, 1, 1, 1, 1, 0, 0, 0, 1, 0, 0, 1, 0, 1, 1, 0, 0, 0, 0, 0, 0,\n",
       "       1, 1, 1, 0, 1, 1, 0, 1, 1, 1, 1, 1, 0, 1, 1, 1, 1, 0, 0, 0, 1, 0,\n",
       "       1, 1, 0, 1, 1, 1, 1, 0, 1, 1, 0, 1, 0, 1, 0, 1, 1, 1, 1, 1, 1, 0,\n",
       "       1, 0, 0, 1, 1, 1, 1, 0, 1, 1, 1, 0, 1, 1, 1, 1, 0, 1, 1, 1, 0, 0,\n",
       "       1, 1, 0, 0, 0, 0, 1, 0, 1, 1, 1, 1, 1])"
      ]
     },
     "execution_count": 53,
     "metadata": {},
     "output_type": "execute_result"
    }
   ],
   "source": [
    "y_pred2=np.argmax(y_pred, axis=1)\n",
    "y_pred2"
   ]
  },
  {
   "cell_type": "code",
   "execution_count": 54,
   "metadata": {
    "execution": {
     "iopub.execute_input": "2023-04-01T11:44:40.454562Z",
     "iopub.status.busy": "2023-04-01T11:44:40.453877Z",
     "iopub.status.idle": "2023-04-01T11:44:40.459544Z",
     "shell.execute_reply": "2023-04-01T11:44:40.458148Z",
     "shell.execute_reply.started": "2023-04-01T11:44:40.454522Z"
    }
   },
   "outputs": [],
   "source": [
    "y_test=np.argmax(y_test, axis=1)"
   ]
  },
  {
   "cell_type": "code",
   "execution_count": 55,
   "metadata": {
    "execution": {
     "iopub.execute_input": "2023-04-01T11:44:41.817559Z",
     "iopub.status.busy": "2023-04-01T11:44:41.816860Z",
     "iopub.status.idle": "2023-04-01T11:44:41.825536Z",
     "shell.execute_reply": "2023-04-01T11:44:41.824292Z",
     "shell.execute_reply.started": "2023-04-01T11:44:41.817518Z"
    }
   },
   "outputs": [
    {
     "data": {
      "text/plain": [
       "array([1, 0, 1, 0, 1, 1, 1, 1, 0, 1, 1, 0, 1, 0, 0, 1, 1, 1, 1, 0, 1, 0,\n",
       "       1, 1, 0, 1, 0, 0, 0, 0, 1, 1, 1, 0, 0, 0, 1, 0, 0, 1, 1, 1, 1, 1,\n",
       "       0, 1, 0, 1, 1, 0, 1, 1, 1, 0, 1, 1, 1, 1, 1, 1, 1, 1, 0, 0, 1, 0,\n",
       "       1, 1, 0, 1, 1, 0, 0, 0, 1, 0, 1, 1, 0, 1, 1, 1, 0, 1, 1, 1, 1, 1,\n",
       "       0, 1, 1, 1, 0, 1, 0, 0, 1, 1, 1, 1, 0, 0, 1, 1, 0, 1, 0, 0, 1, 0,\n",
       "       1, 0, 1, 1, 1, 0, 0, 0, 1, 0, 0, 0, 1, 1, 1, 1, 1, 0, 1, 1, 1, 0,\n",
       "       1, 1, 1, 1, 1, 1, 0, 1, 1, 1, 1, 1, 1, 0, 1, 0, 0, 0, 1, 0, 1, 1,\n",
       "       0, 1, 0, 1, 1, 1, 0, 1, 1, 1, 1, 1, 0, 1, 0, 1, 1, 1, 1, 1, 1, 1,\n",
       "       1, 1, 1, 1, 0, 1, 1, 1, 0, 1, 1, 1, 0, 1, 1, 1, 0, 0, 1, 0, 1, 1,\n",
       "       0, 0, 1, 1, 1, 1, 1, 1, 0, 0, 1, 1, 0, 1, 1, 0, 1, 1, 1, 1, 1, 1,\n",
       "       1, 1, 1, 1, 0, 0, 0, 1, 1, 0, 1, 0, 0, 1, 0, 0, 1, 0, 1, 0, 1, 0,\n",
       "       1, 1, 0, 1, 1, 1, 1, 1, 1, 0, 0, 1, 1, 0, 1, 0, 0, 1, 0, 0, 0, 1,\n",
       "       1, 1, 1, 0, 0, 1, 0, 1, 1, 1, 1, 0, 1, 0, 1, 0, 0, 1, 1, 0, 1, 1,\n",
       "       1, 0, 0, 1, 1, 1, 1, 0, 1, 0, 0, 1, 1, 1, 1, 1, 0, 1, 0, 0, 1, 0,\n",
       "       1, 0, 1, 1, 1, 1, 1, 0, 0, 1, 0, 0, 1, 1, 1, 0, 1, 1, 1, 1, 1, 1,\n",
       "       0, 1, 0, 1, 0, 1, 1, 1, 1, 1, 1, 1, 1, 1, 1, 0, 0, 1, 0, 1, 1, 1,\n",
       "       1, 1, 1, 1, 1, 0, 1, 0, 1, 1, 1, 0, 0, 1, 1, 1, 0, 1, 0, 0, 0, 1,\n",
       "       1, 0, 1, 1, 1, 1, 0, 0, 0, 1, 0, 0, 1, 0, 1, 1, 0, 0, 0, 0, 0, 0,\n",
       "       1, 1, 1, 0, 1, 1, 0, 1, 1, 1, 1, 1, 0, 1, 1, 1, 1, 0, 0, 0, 1, 0,\n",
       "       1, 1, 0, 0, 1, 1, 1, 0, 1, 1, 0, 1, 0, 1, 1, 1, 1, 1, 1, 1, 1, 0,\n",
       "       1, 0, 0, 1, 1, 1, 1, 0, 1, 1, 1, 0, 1, 1, 1, 1, 0, 1, 1, 1, 0, 0,\n",
       "       1, 1, 0, 1, 0, 0, 1, 0, 1, 1, 1, 1, 1])"
      ]
     },
     "execution_count": 55,
     "metadata": {},
     "output_type": "execute_result"
    }
   ],
   "source": [
    "y_test"
   ]
  },
  {
   "cell_type": "code",
   "execution_count": 56,
   "metadata": {
    "execution": {
     "iopub.execute_input": "2023-04-01T11:44:43.192437Z",
     "iopub.status.busy": "2023-04-01T11:44:43.191531Z",
     "iopub.status.idle": "2023-04-01T11:44:43.198735Z",
     "shell.execute_reply": "2023-04-01T11:44:43.197277Z",
     "shell.execute_reply.started": "2023-04-01T11:44:43.192397Z"
    }
   },
   "outputs": [],
   "source": [
    "confusion_matrix_result=confusion_matrix(y_test,y_pred2)"
   ]
  },
  {
   "cell_type": "code",
   "execution_count": 57,
   "metadata": {
    "execution": {
     "iopub.execute_input": "2023-04-01T11:44:44.617871Z",
     "iopub.status.busy": "2023-04-01T11:44:44.617456Z",
     "iopub.status.idle": "2023-04-01T11:44:44.946876Z",
     "shell.execute_reply": "2023-04-01T11:44:44.945654Z",
     "shell.execute_reply.started": "2023-04-01T11:44:44.617834Z"
    }
   },
   "outputs": [
    {
     "data": {
      "image/png": "[encoded data removed]",
      "text/plain": [
       "<Figure size 640x480 with 2 Axes>"
      ]
     },
     "metadata": {},
     "output_type": "display_data"
    }
   ],
   "source": [
    "import seaborn as sns\n",
    "import matplotlib.pyplot as plt     \n",
    "import pylab as pl\n",
    "plt.title(\"skin detection Eczema vs normal using ResNet50 \")\n",
    "plt.xticks(range(2), ['normal', 'Eczema'], fontsize=16)\n",
    "plt.yticks(range(2), ['normal', 'Eczema'], fontsize=16)\n",
    "ax= plt.subplot()\n",
    "sns.heatmap(confusion_matrix_result, annot=True, fmt='g', ax=ax);\n",
    "pl.show()"
   ]
  },
  {
   "cell_type": "code",
   "execution_count": 58,
   "metadata": {
    "execution": {
     "iopub.execute_input": "2023-04-01T11:44:48.397596Z",
     "iopub.status.busy": "2023-04-01T11:44:48.396653Z",
     "iopub.status.idle": "2023-04-01T11:44:48.784898Z",
     "shell.execute_reply": "2023-04-01T11:44:48.783874Z",
     "shell.execute_reply.started": "2023-04-01T11:44:48.397542Z"
    }
   },
   "outputs": [
    {
     "data": {
      "text/plain": [
       "<matplotlib.legend.Legend at 0x7faff645ab90>"
      ]
     },
     "execution_count": 58,
     "metadata": {},
     "output_type": "execute_result"
    },
    {
     "data": {
      "image/png": "[encoded data removed]",
      "text/plain": [
       "<Figure size 1200x400 with 2 Axes>"
      ]
     },
     "metadata": {},
     "output_type": "display_data"
    }
   ],
   "source": [
    "train_accuracy = history.history['accuracy']\n",
    "val_accuracy = history.history['val_accuracy']\n",
    "train_loss = history.history['loss']\n",
    "val_loss = history.history['val_loss']\n",
    "\n",
    "epochs = range(len(train_accuracy))\n",
    "plt.figure(figsize=(12,4))\n",
    "\n",
    "# Plotting the accuracy\n",
    "plt.subplot(1,2,1)\n",
    "plt.plot(epochs, train_accuracy, 'b', label='Training accuracy')\n",
    "plt.plot(epochs, val_accuracy, 'r', label='Validation accuracy')\n",
    "plt.title('Training and validation accuracy')\n",
    "plt.xlabel('Epoch')\n",
    "plt.ylabel('Accuracy')\n",
    "plt.legend(['train', 'val'], loc='lower right')\n",
    "\n",
    "# Plotting the loss\n",
    "plt.subplot(1,2,2)\n",
    "plt.plot(epochs, train_loss, 'b', label='Training loss')\n",
    "plt.plot(epochs, val_loss, 'r', label='Validation loss')\n",
    "plt.title('Training and validation loss')\n",
    "plt.xlabel('Epoch')\n",
    "plt.ylabel('Loss')\n",
    "plt.legend(['train', 'val'], loc='upper right')"
   ]
  },
  {
   "cell_type": "code",
   "execution_count": 59,
   "metadata": {
    "execution": {
     "iopub.execute_input": "2023-04-01T11:44:56.582137Z",
     "iopub.status.busy": "2023-04-01T11:44:56.581043Z",
     "iopub.status.idle": "2023-04-01T11:44:56.591736Z",
     "shell.execute_reply": "2023-04-01T11:44:56.590592Z",
     "shell.execute_reply.started": "2023-04-01T11:44:56.582053Z"
    }
   },
   "outputs": [],
   "source": [
    "import os\n",
    "import matplotlib.pyplot as plt\n",
    "import cv2\n",
    "from tensorflow.keras.models import Model, Sequential\n",
    "from tensorflow.keras.layers import Input, Convolution2D, ZeroPadding2D,MaxPooling2D, Flatten, Dense, Dropout, Activation\n",
    "from PIL import Image\n",
    "import numpy as np\n",
    "from tensorflow.keras.preprocessing.image import load_img, save_img, img_to_array\n",
    "from tensorflow.keras.applications.imagenet_utils import preprocess_input\n",
    "from tensorflow.keras.preprocessing import image\n",
    "import pandas as pd\n",
    "import tensorflow as tf\n",
    "import keras\n",
    "import pickle"
   ]
  },
  {
   "cell_type": "code",
   "execution_count": 60,
   "metadata": {
    "execution": {
     "iopub.execute_input": "2023-04-01T11:44:58.305282Z",
     "iopub.status.busy": "2023-04-01T11:44:58.304159Z",
     "iopub.status.idle": "2023-04-01T11:44:58.315147Z",
     "shell.execute_reply": "2023-04-01T11:44:58.314131Z",
     "shell.execute_reply.started": "2023-04-01T11:44:58.305228Z"
    }
   },
   "outputs": [],
   "source": [
    "confusion_matrix=classification_report(y_test,y_pred2)"
   ]
  },
  {
   "cell_type": "code",
   "execution_count": 61,
   "metadata": {
    "execution": {
     "iopub.execute_input": "2023-04-01T11:45:00.864471Z",
     "iopub.status.busy": "2023-04-01T11:45:00.863693Z",
     "iopub.status.idle": "2023-04-01T11:45:00.872186Z",
     "shell.execute_reply": "2023-04-01T11:45:00.870742Z",
     "shell.execute_reply.started": "2023-04-01T11:45:00.864421Z"
    }
   },
   "outputs": [
    {
     "name": "stdout",
     "output_type": "stream",
     "text": [
      "              precision    recall  f1-score   support\n",
      "\n",
      "           0       0.95      0.98      0.96       168\n",
      "           1       0.99      0.97      0.98       307\n",
      "\n",
      "    accuracy                           0.97       475\n",
      "   macro avg       0.97      0.98      0.97       475\n",
      "weighted avg       0.98      0.97      0.97       475\n",
      "\n"
     ]
    }
   ],
   "source": [
    "print(confusion_matrix)"
   ]
  },
  {
   "cell_type": "code",
   "execution_count": 73,
   "metadata": {
    "execution": {
     "iopub.execute_input": "2023-04-01T11:49:22.768566Z",
     "iopub.status.busy": "2023-04-01T11:49:22.767583Z",
     "iopub.status.idle": "2023-04-01T11:49:22.773768Z",
     "shell.execute_reply": "2023-04-01T11:49:22.772660Z",
     "shell.execute_reply.started": "2023-04-01T11:49:22.768506Z"
    }
   },
   "outputs": [],
   "source": [
    "from sklearn.decomposition import PCA"
   ]
  },
  {
   "cell_type": "code",
   "execution_count": 75,
   "metadata": {
    "execution": {
     "iopub.execute_input": "2023-04-01T11:49:49.410038Z",
     "iopub.status.busy": "2023-04-01T11:49:49.408974Z",
     "iopub.status.idle": "2023-04-01T11:50:04.329129Z",
     "shell.execute_reply": "2023-04-01T11:50:04.327580Z",
     "shell.execute_reply.started": "2023-04-01T11:49:49.409994Z"
    }
   },
   "outputs": [],
   "source": [
    "pca = PCA(n_components =500)\n",
    "X_train = pca.fit_transform(x_train)\n",
    "X_test = pca.transform(x_test)\n"
   ]
  },
  {
   "cell_type": "code",
   "execution_count": 76,
   "metadata": {
    "execution": {
     "iopub.execute_input": "2023-04-01T11:50:05.680254Z",
     "iopub.status.busy": "2023-04-01T11:50:05.679755Z",
     "iopub.status.idle": "2023-04-01T11:50:05.687183Z",
     "shell.execute_reply": "2023-04-01T11:50:05.686196Z",
     "shell.execute_reply.started": "2023-04-01T11:50:05.680215Z"
    }
   },
   "outputs": [
    {
     "data": {
      "text/plain": [
       "(1899, 500)"
      ]
     },
     "execution_count": 76,
     "metadata": {},
     "output_type": "execute_result"
    }
   ],
   "source": [
    "X_train.shape"
   ]
  },
  {
   "cell_type": "code",
   "execution_count": 77,
   "metadata": {
    "execution": {
     "iopub.execute_input": "2023-04-01T11:50:07.355297Z",
     "iopub.status.busy": "2023-04-01T11:50:07.354679Z",
     "iopub.status.idle": "2023-04-01T11:50:18.011663Z",
     "shell.execute_reply": "2023-04-01T11:50:18.010432Z",
     "shell.execute_reply.started": "2023-04-01T11:50:07.355257Z"
    }
   },
   "outputs": [
    {
     "name": "stdout",
     "output_type": "stream",
     "text": [
      "Collecting lazypredict\n",
      "  Downloading lazypredict-0.2.12-py2.py3-none-any.whl (12 kB)\n",
      "Requirement already satisfied: scikit-learn in /opt/conda/lib/python3.7/site-packages (from lazypredict) (1.0.2)\n",
      "Requirement already satisfied: xgboost in /opt/conda/lib/python3.7/site-packages (from lazypredict) (1.6.2)\n",
      "Requirement already satisfied: click in /opt/conda/lib/python3.7/site-packages (from lazypredict) (8.1.3)\n",
      "Requirement already satisfied: lightgbm in /opt/conda/lib/python3.7/site-packages (from lazypredict) (3.3.2)\n",
      "Requirement already satisfied: joblib in /opt/conda/lib/python3.7/site-packages (from lazypredict) (1.2.0)\n",
      "Requirement already satisfied: tqdm in /opt/conda/lib/python3.7/site-packages (from lazypredict) (4.64.1)\n",
      "Requirement already satisfied: pandas in /opt/conda/lib/python3.7/site-packages (from lazypredict) (1.3.5)\n",
      "Requirement already satisfied: importlib-metadata in /opt/conda/lib/python3.7/site-packages (from click->lazypredict) (4.11.4)\n",
      "Requirement already satisfied: scipy in /opt/conda/lib/python3.7/site-packages (from lightgbm->lazypredict) (1.7.3)\n",
      "Requirement already satisfied: wheel in /opt/conda/lib/python3.7/site-packages (from lightgbm->lazypredict) (0.38.4)\n",
      "Requirement already satisfied: numpy in /opt/conda/lib/python3.7/site-packages (from lightgbm->lazypredict) (1.21.6)\n",
      "Requirement already satisfied: threadpoolctl>=2.0.0 in /opt/conda/lib/python3.7/site-packages (from scikit-learn->lazypredict) (3.1.0)\n",
      "Requirement already satisfied: python-dateutil>=2.7.3 in /opt/conda/lib/python3.7/site-packages (from pandas->lazypredict) (2.8.2)\n",
      "Requirement already satisfied: pytz>=2017.3 in /opt/conda/lib/python3.7/site-packages (from pandas->lazypredict) (2022.7.1)\n",
      "Requirement already satisfied: six>=1.5 in /opt/conda/lib/python3.7/site-packages (from python-dateutil>=2.7.3->pandas->lazypredict) (1.16.0)\n",
      "Requirement already satisfied: zipp>=0.5 in /opt/conda/lib/python3.7/site-packages (from importlib-metadata->click->lazypredict) (3.11.0)\n",
      "Requirement already satisfied: typing-extensions>=3.6.4 in /opt/conda/lib/python3.7/site-packages (from importlib-metadata->click->lazypredict) (4.4.0)\n",
      "Installing collected packages: lazypredict\n",
      "Successfully installed lazypredict-0.2.12\n",
      "\u001b[33mWARNING: Running pip as the 'root' user can result in broken permissions and conflicting behaviour with the system package manager. It is recommended to use a virtual environment instead: https://pip.pypa.io/warnings/venv\u001b[0m\u001b[33m\n",
      "\u001b[0mNote: you may need to restart the kernel to use updated packages.\n"
     ]
    }
   ],
   "source": [
    "pip install lazypredict"
   ]
  },
  {
   "cell_type": "code",
   "execution_count": 78,
   "metadata": {
    "execution": {
     "iopub.execute_input": "2023-04-01T11:50:25.746162Z",
     "iopub.status.busy": "2023-04-01T11:50:25.744952Z",
     "iopub.status.idle": "2023-04-01T11:51:10.896267Z",
     "shell.execute_reply": "2023-04-01T11:51:10.895255Z",
     "shell.execute_reply.started": "2023-04-01T11:50:25.746101Z"
    }
   },
   "outputs": [
    {
     "data": {
      "text/html": [
       "<style type='text/css'>\n",
       ".datatable table.frame { margin-bottom: 0; }\n",
       ".datatable table.frame thead { border-bottom: none; }\n",
       ".datatable table.frame tr.coltypes td {  color: #FFFFFF;  line-height: 6px;  padding: 0 0.5em;}\n",
       ".datatable .bool    { background: #DDDD99; }\n",
       ".datatable .object  { background: #565656; }\n",
       ".datatable .int     { background: #5D9E5D; }\n",
       ".datatable .float   { background: #4040CC; }\n",
       ".datatable .str     { background: #CC4040; }\n",
       ".datatable .time    { background: #40CC40; }\n",
       ".datatable .row_index {  background: var(--jp-border-color3);  border-right: 1px solid var(--jp-border-color0);  color: var(--jp-ui-font-color3);  font-size: 9px;}\n",
       ".datatable .frame tbody td { text-align: left; }\n",
       ".datatable .frame tr.coltypes .row_index {  background: var(--jp-border-color0);}\n",
       ".datatable th:nth-child(2) { padding-left: 12px; }\n",
       ".datatable .hellipsis {  color: var(--jp-cell-editor-border-color);}\n",
       ".datatable .vellipsis {  background: var(--jp-layout-color0);  color: var(--jp-cell-editor-border-color);}\n",
       ".datatable .na {  color: var(--jp-cell-editor-border-color);  font-size: 80%;}\n",
       ".datatable .sp {  opacity: 0.25;}\n",
       ".datatable .footer { font-size: 9px; }\n",
       ".datatable .frame_dimensions {  background: var(--jp-border-color3);  border-top: 1px solid var(--jp-border-color0);  color: var(--jp-ui-font-color3);  display: inline-block;  opacity: 0.6;  padding: 1px 10px 1px 5px;}\n",
       "</style>\n"
      ],
      "text/plain": [
       "<IPython.core.display.HTML object>"
      ]
     },
     "metadata": {},
     "output_type": "display_data"
    },
    {
     "name": "stderr",
     "output_type": "stream",
     "text": [
      "100%|██████████| 29/29 [00:41<00:00,  1.45s/it]\n"
     ]
    }
   ],
   "source": [
    "from lazypredict.Supervised import LazyClassifier\n",
    "clf= LazyClassifier(verbose=0,ignore_warnings=True, custom_metric=None)\n",
    "models,predictions = clf.fit(X_train,X_test,y_train,y_test)"
   ]
  },
  {
   "cell_type": "code",
   "execution_count": 79,
   "metadata": {
    "execution": {
     "iopub.execute_input": "2023-04-01T11:51:12.183439Z",
     "iopub.status.busy": "2023-04-01T11:51:12.182359Z",
     "iopub.status.idle": "2023-04-01T11:51:12.713393Z",
     "shell.execute_reply": "2023-04-01T11:51:12.712242Z",
     "shell.execute_reply.started": "2023-04-01T11:51:12.183393Z"
    }
   },
   "outputs": [
    {
     "data": {
      "image/png": "[encoded data removed]",
      "text/plain": [
       "<Figure size 500x1000 with 1 Axes>"
      ]
     },
     "metadata": {},
     "output_type": "display_data"
    }
   ],
   "source": [
    "plt.figure(figsize=(5, 10))\n",
    "sns.set_theme(style=\"whitegrid\")\n",
    "ax = sns.barplot(y=predictions.index, x=\"Accuracy\", data=predictions)"
   ]
  },
  {
   "cell_type": "code",
   "execution_count": null,
   "metadata": {},
   "outputs": [],
   "source": []
  }
 ],
 "metadata": {
  "kernelspec": {
   "display_name": "Python 3 (ipykernel)",
   "language": "python",
   "name": "python3"
  },
  "language_info": {
   "codemirror_mode": {
    "name": "ipython",
    "version": 3
   },
   "file_extension": ".py",
   "mimetype": "text/x-python",
   "name": "python",
   "nbconvert_exporter": "python",
   "pygments_lexer": "ipython3",
   "version": "3.11.4"
  }
 },
 "nbformat": 4,
 "nbformat_minor": 4
}
