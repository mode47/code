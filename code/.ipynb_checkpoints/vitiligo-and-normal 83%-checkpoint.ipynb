{
 "cells": [
  {
   "cell_type": "code",
   "execution_count": 10,
   "metadata": {
    "execution": {
     "iopub.execute_input": "2023-08-15T20:43:29.873428Z",
     "iopub.status.busy": "2023-08-15T20:43:29.872793Z",
     "iopub.status.idle": "2023-08-15T20:43:29.879547Z",
     "shell.execute_reply": "2023-08-15T20:43:29.878210Z",
     "shell.execute_reply.started": "2023-08-15T20:43:29.873387Z"
    }
   },
   "outputs": [
    {
     "ename": "SyntaxError",
     "evalue": "unmatched ')' (1937246286.py, line 8)",
     "output_type": "error",
     "traceback": [
      "\u001b[1;36m  Cell \u001b[1;32mIn[10], line 8\u001b[1;36m\u001b[0m\n\u001b[1;33m    ing Shift+Enter) will list all files under the input directory\u001b[0m\n\u001b[1;37m                   ^\u001b[0m\n\u001b[1;31mSyntaxError\u001b[0m\u001b[1;31m:\u001b[0m unmatched ')'\n"
     ]
    }
   ],
   "source": [
    "# This Python 3 environment comes with many helpful analytics libraries installed\n",
    "# It is defined by the kaggle/python Docker image: https://github.com/kaggle/docker-python\n",
    "# For example, here's several helpful packages to load\n",
    "\n",
    "import pandas as pd # data processing, CSV file I/O (e.g. pd.read_csv)\n",
    "# Input data files are available in the read-only \"../input/\" directory\n",
    "# For example, running this (by clicking run or press\n",
    "ing Shift+Enter) will list all files under the input directory\n",
    "import os\n",
    "# for dirname, _, filenames in os.walk('/kaggle/input'):\n",
    "#     for filename in filenames:\n",
    "#         print(os.path.join(dirname, filename))\n",
    "\n",
    "# You can write up to 20GB to the current directory (/kaggle/working/) that gets preserved as output when you create a version using \"Save & Run All\" \n",
    "# You can also write temporary files to /kaggle/temp/, but they won't be saved outside of the current session"
   ]
  },
  {
   "cell_type": "code",
   "execution_count": null,
   "metadata": {
    "execution": {
     "iopub.execute_input": "2023-08-15T20:43:31.162140Z",
     "iopub.status.busy": "2023-08-15T20:43:31.161326Z",
     "iopub.status.idle": "2023-08-15T20:43:31.174265Z",
     "shell.execute_reply": "2023-08-15T20:43:31.173160Z",
     "shell.execute_reply.started": "2023-08-15T20:43:31.162096Z"
    }
   },
   "outputs": [],
   "source": [
    "import matplotlib.pyplot as plt\n",
    "import tensorflow as tf\n",
    "import seaborn as sns\n",
    "import random\n",
    "from PIL import Image\n",
    "from tensorflow.keras.preprocessing import image\n",
    "from tensorflow.keras.applications.inception_v3 import InceptionV3\n",
    "from tensorflow.keras import Sequential, Model\n",
    "from keras.layers import (Conv2D, MaxPooling2D, Dense, Flatten, \\\n",
    "                          Dropout, Input,GlobalAveragePooling2D,BatchNormalization)\n",
    "from tensorflow.keras.activations import softmax\n",
    "from tensorflow.keras.optimizers import Adam\n",
    "from keras.preprocessing.image import ImageDataGenerator\n",
    "from mpl_toolkits.axes_grid1 import ImageGrid\n",
    "from keras.models import Model\n",
    "from keras.applications.vgg16 import VGG16, preprocess_input\n",
    "from keras.callbacks import ModelCheckpoint, EarlyStopping\n",
    "from sklearn.metrics import (ConfusionMatrixDisplay, confusion_matrix, \n",
    "                             accuracy_score)\n",
    "import cv2"
   ]
  },
  {
   "cell_type": "code",
   "execution_count": null,
   "metadata": {
    "execution": {
     "iopub.execute_input": "2023-08-15T20:43:42.871769Z",
     "iopub.status.busy": "2023-08-15T20:43:42.871251Z",
     "iopub.status.idle": "2023-08-15T20:43:42.877207Z",
     "shell.execute_reply": "2023-08-15T20:43:42.876005Z",
     "shell.execute_reply.started": "2023-08-15T20:43:42.871724Z"
    }
   },
   "outputs": [],
   "source": [
    "cat2=['Melanoma Skin Cancer Nevi and Moles']"
   ]
  },
  {
   "cell_type": "code",
   "execution_count": null,
   "metadata": {
    "execution": {
     "iopub.execute_input": "2023-08-15T20:26:48.613620Z",
     "iopub.status.busy": "2023-08-15T20:26:48.612527Z",
     "iopub.status.idle": "2023-08-15T20:26:48.619630Z",
     "shell.execute_reply": "2023-08-15T20:26:48.618248Z",
     "shell.execute_reply.started": "2023-08-15T20:26:48.613570Z"
    }
   },
   "outputs": [],
   "source": [
    "cat=['Acne and Rosacea Photos',\n",
    " 'Normal',\n",
    " 'vitiligo',\n",
    " 'Tinea Ringworm Candidiasis and other Fungal Infections',\n",
    "     'Melanoma Skin Cancer Nevi and Moles',\n",
    " 'Eczema Photos']"
   ]
  },
  {
   "cell_type": "code",
   "execution_count": null,
   "metadata": {
    "execution": {
     "iopub.execute_input": "2023-08-15T20:44:01.236513Z",
     "iopub.status.busy": "2023-08-15T20:44:01.236110Z",
     "iopub.status.idle": "2023-08-15T20:44:01.241437Z",
     "shell.execute_reply": "2023-08-15T20:44:01.240113Z",
     "shell.execute_reply.started": "2023-08-15T20:44:01.236455Z"
    }
   },
   "outputs": [],
   "source": [
    "cat=['Normal','vitiligo']"
   ]
  },
  {
   "cell_type": "code",
   "execution_count": null,
   "metadata": {
    "execution": {
     "iopub.execute_input": "2023-08-15T20:44:05.183074Z",
     "iopub.status.busy": "2023-08-15T20:44:05.182271Z",
     "iopub.status.idle": "2023-08-15T20:44:05.192181Z",
     "shell.execute_reply": "2023-08-15T20:44:05.190830Z",
     "shell.execute_reply.started": "2023-08-15T20:44:05.183031Z"
    }
   },
   "outputs": [],
   "source": [
    "import pandas as pd\n",
    "import os\n",
    "def data_dictionary():\n",
    "    path_train=r\"C:\\Users\\teknoloji5\\Downloads\\skin\\skin\\train/\"\n",
    "    #list_train=os.listdir(path_train)\n",
    "    cat=['Normal','vitiligo']\n",
    "   #cat=['Normal','Melanoma Skin Cancer Nevi and Moles']\n",
    "    #cat=['Normal','Eczema Photos']\n",
    "    #cat=['Normal','Tinea Ringworm Candidiasis and other Fungal Infections']\n",
    "    #cat=['Normal','Acne and Rosacea Photos']\n",
    "    train_dictionary={\"image_path\":[],\"target\":[]}\n",
    "    k=0\n",
    "    for i in cat:\n",
    "        path_disease_train=path_train+i\n",
    "        image_list_train=os.listdir(path_disease_train)\n",
    "        for j in image_list_train:\n",
    "            img_path_train=path_disease_train+\"/\"+j   \n",
    "            train_dictionary[\"image_path\"].append(img_path_train)\n",
    "            train_dictionary['target'].append(k)     \n",
    "        k+=1\n",
    "    train_df=pd.DataFrame(train_dictionary)\n",
    "    return  train_df"
   ]
  },
  {
   "cell_type": "code",
   "execution_count": null,
   "metadata": {
    "execution": {
     "iopub.execute_input": "2023-08-15T20:44:06.856446Z",
     "iopub.status.busy": "2023-08-15T20:44:06.856034Z",
     "iopub.status.idle": "2023-08-15T20:44:06.872567Z",
     "shell.execute_reply": "2023-08-15T20:44:06.871522Z",
     "shell.execute_reply.started": "2023-08-15T20:44:06.856409Z"
    }
   },
   "outputs": [],
   "source": [
    "train=data_dictionary()"
   ]
  },
  {
   "cell_type": "code",
   "execution_count": null,
   "metadata": {
    "execution": {
     "iopub.execute_input": "2023-08-15T20:44:17.216313Z",
     "iopub.status.busy": "2023-08-15T20:44:17.215552Z",
     "iopub.status.idle": "2023-08-15T20:44:33.356681Z",
     "shell.execute_reply": "2023-08-15T20:44:33.355432Z",
     "shell.execute_reply.started": "2023-08-15T20:44:17.216273Z"
    }
   },
   "outputs": [],
   "source": [
    "import cv2\n",
    "images=[]\n",
    "label=[]\n",
    "for i in train['image_path']:\n",
    "\n",
    "    img=cv2.imread(i)\n",
    "    img = cv2.cvtColor(img, cv2.COLOR_BGR2RGB)\n",
    "    img=cv2.resize(img,(100,100))\n",
    "    #img = cv2.cvtColor(img, cv2.COLOR_BGR2GRAY)\n",
    "    #img=cv2.resize(img,(64,64),interpolation=cv2.INTER_AREA)\n",
    "    #img=resize_and_rescale(img)\n",
    "    images.append(img)"
   ]
  },
  {
   "cell_type": "code",
   "execution_count": null,
   "metadata": {
    "execution": {
     "iopub.execute_input": "2023-08-15T20:44:33.359213Z",
     "iopub.status.busy": "2023-08-15T20:44:33.358849Z",
     "iopub.status.idle": "2023-08-15T20:44:33.364824Z",
     "shell.execute_reply": "2023-08-15T20:44:33.363446Z",
     "shell.execute_reply.started": "2023-08-15T20:44:33.359182Z"
    }
   },
   "outputs": [],
   "source": [
    "label=train['target']"
   ]
  },
  {
   "cell_type": "code",
   "execution_count": null,
   "metadata": {
    "execution": {
     "iopub.execute_input": "2023-08-15T20:44:37.295605Z",
     "iopub.status.busy": "2023-08-15T20:44:37.295191Z",
     "iopub.status.idle": "2023-08-15T20:44:37.527636Z",
     "shell.execute_reply": "2023-08-15T20:44:37.526457Z",
     "shell.execute_reply.started": "2023-08-15T20:44:37.295568Z"
    }
   },
   "outputs": [],
   "source": [
    "import matplotlib.pyplot as plt\n",
    "import tensorflow as tf\n",
    "import seaborn as sns\n",
    "import random\n",
    "from PIL import Image\n",
    "from tensorflow.keras.preprocessing import image\n",
    "from tensorflow.keras.applications.inception_v3 import InceptionV3\n",
    "from tensorflow.keras import Sequential, Model\n",
    "from keras.layers import (Conv2D, MaxPooling2D, Dense, Flatten, \\\n",
    "                          Dropout, Input,GlobalAveragePooling2D,BatchNormalization)\n",
    "from tensorflow.keras.activations import softmax\n",
    "from tensorflow.keras.optimizers import Adam\n",
    "from keras.preprocessing.image import ImageDataGenerator\n",
    "from mpl_toolkits.axes_grid1 import ImageGrid\n",
    "from keras.models import Model\n",
    "from keras.applications.vgg16 import VGG16, preprocess_input\n",
    "from keras.callbacks import ModelCheckpoint, EarlyStopping\n",
    "from sklearn.metrics import (ConfusionMatrixDisplay, confusion_matrix, \\\n",
    "                             accuracy_score)\n",
    "\n",
    "ax = sns.countplot(x=train['target'],\n",
    "                   order=train['target'].value_counts(ascending=False).index);\n",
    "\n",
    "abs_values = train['target'].value_counts(ascending=False).values\n",
    "\n",
    "ax.bar_label(container=ax.containers[0], labels=abs_values);"
   ]
  },
  {
   "cell_type": "code",
   "execution_count": null,
   "metadata": {
    "execution": {
     "iopub.execute_input": "2023-08-15T20:44:39.336402Z",
     "iopub.status.busy": "2023-08-15T20:44:39.336020Z",
     "iopub.status.idle": "2023-08-15T20:44:39.343783Z",
     "shell.execute_reply": "2023-08-15T20:44:39.342540Z",
     "shell.execute_reply.started": "2023-08-15T20:44:39.336369Z"
    }
   },
   "outputs": [],
   "source": [
    "len(label)"
   ]
  },
  {
   "cell_type": "code",
   "execution_count": null,
   "metadata": {
    "execution": {
     "iopub.execute_input": "2023-08-15T20:44:41.081542Z",
     "iopub.status.busy": "2023-08-15T20:44:41.081140Z",
     "iopub.status.idle": "2023-08-15T20:44:41.088954Z",
     "shell.execute_reply": "2023-08-15T20:44:41.087766Z",
     "shell.execute_reply.started": "2023-08-15T20:44:41.081502Z"
    }
   },
   "outputs": [],
   "source": [
    "len(images)"
   ]
  },
  {
   "cell_type": "code",
   "execution_count": null,
   "metadata": {
    "execution": {
     "iopub.execute_input": "2023-08-15T20:44:41.330525Z",
     "iopub.status.busy": "2023-08-15T20:44:41.330121Z",
     "iopub.status.idle": "2023-08-15T20:44:41.336269Z",
     "shell.execute_reply": "2023-08-15T20:44:41.334883Z",
     "shell.execute_reply.started": "2023-08-15T20:44:41.330463Z"
    }
   },
   "outputs": [],
   "source": [
    "import numpy as np\n",
    "import pandas as pd"
   ]
  },
  {
   "cell_type": "code",
   "execution_count": null,
   "metadata": {
    "execution": {
     "iopub.execute_input": "2023-08-15T20:44:41.777464Z",
     "iopub.status.busy": "2023-08-15T20:44:41.776352Z",
     "iopub.status.idle": "2023-08-15T20:44:41.807988Z",
     "shell.execute_reply": "2023-08-15T20:44:41.806807Z",
     "shell.execute_reply.started": "2023-08-15T20:44:41.777395Z"
    }
   },
   "outputs": [],
   "source": [
    "data=np.array(images)"
   ]
  },
  {
   "cell_type": "code",
   "execution_count": null,
   "metadata": {
    "execution": {
     "iopub.execute_input": "2023-08-15T20:44:42.461715Z",
     "iopub.status.busy": "2023-08-15T20:44:42.460597Z",
     "iopub.status.idle": "2023-08-15T20:44:42.466898Z",
     "shell.execute_reply": "2023-08-15T20:44:42.465500Z",
     "shell.execute_reply.started": "2023-08-15T20:44:42.461672Z"
    }
   },
   "outputs": [],
   "source": [
    "label=np.array(label)"
   ]
  },
  {
   "cell_type": "code",
   "execution_count": null,
   "metadata": {
    "execution": {
     "iopub.execute_input": "2023-08-15T20:44:42.944395Z",
     "iopub.status.busy": "2023-08-15T20:44:42.943375Z",
     "iopub.status.idle": "2023-08-15T20:44:42.952334Z",
     "shell.execute_reply": "2023-08-15T20:44:42.951171Z",
     "shell.execute_reply.started": "2023-08-15T20:44:42.944344Z"
    }
   },
   "outputs": [],
   "source": [
    "data.shape"
   ]
  },
  {
   "cell_type": "code",
   "execution_count": null,
   "metadata": {
    "execution": {
     "iopub.execute_input": "2023-08-15T20:44:43.501883Z",
     "iopub.status.busy": "2023-08-15T20:44:43.499141Z",
     "iopub.status.idle": "2023-08-15T20:44:43.511400Z",
     "shell.execute_reply": "2023-08-15T20:44:43.510163Z",
     "shell.execute_reply.started": "2023-08-15T20:44:43.501839Z"
    }
   },
   "outputs": [],
   "source": [
    "label.shape"
   ]
  },
  {
   "cell_type": "code",
   "execution_count": null,
   "metadata": {
    "execution": {
     "iopub.execute_input": "2023-08-15T20:45:05.405131Z",
     "iopub.status.busy": "2023-08-15T20:45:05.404359Z",
     "iopub.status.idle": "2023-08-15T20:45:05.435017Z",
     "shell.execute_reply": "2023-08-15T20:45:05.433871Z",
     "shell.execute_reply.started": "2023-08-15T20:45:05.405090Z"
    }
   },
   "outputs": [],
   "source": [
    "from sklearn.model_selection import train_test_split\n",
    "X_train, X_test, y_train, y_test = train_test_split(data, label, test_size=0.2,random_state=4)\n",
    "#X_train, X_validation, y_train, y_validation = train_test_split(X_train, y_train, test_size=0.2,random_state=1)"
   ]
  },
  {
   "cell_type": "code",
   "execution_count": null,
   "metadata": {
    "execution": {
     "iopub.execute_input": "2023-08-15T20:45:08.629109Z",
     "iopub.status.busy": "2023-08-15T20:45:08.628312Z",
     "iopub.status.idle": "2023-08-15T20:45:08.636368Z",
     "shell.execute_reply": "2023-08-15T20:45:08.635247Z",
     "shell.execute_reply.started": "2023-08-15T20:45:08.629067Z"
    }
   },
   "outputs": [],
   "source": [
    "X_train.shape"
   ]
  },
  {
   "cell_type": "code",
   "execution_count": null,
   "metadata": {
    "execution": {
     "iopub.execute_input": "2023-08-15T20:45:09.939458Z",
     "iopub.status.busy": "2023-08-15T20:45:09.938330Z",
     "iopub.status.idle": "2023-08-15T20:45:09.947774Z",
     "shell.execute_reply": "2023-08-15T20:45:09.946141Z",
     "shell.execute_reply.started": "2023-08-15T20:45:09.939412Z"
    }
   },
   "outputs": [],
   "source": [
    "X_test.shape"
   ]
  },
  {
   "cell_type": "code",
   "execution_count": null,
   "metadata": {
    "execution": {
     "iopub.execute_input": "2023-08-15T20:45:13.033512Z",
     "iopub.status.busy": "2023-08-15T20:45:13.033116Z",
     "iopub.status.idle": "2023-08-15T20:45:13.040510Z",
     "shell.execute_reply": "2023-08-15T20:45:13.039278Z",
     "shell.execute_reply.started": "2023-08-15T20:45:13.033455Z"
    }
   },
   "outputs": [],
   "source": [
    "y_test.shape"
   ]
  },
  {
   "cell_type": "code",
   "execution_count": null,
   "metadata": {
    "execution": {
     "iopub.execute_input": "2023-08-15T20:45:14.083974Z",
     "iopub.status.busy": "2023-08-15T20:45:14.082879Z",
     "iopub.status.idle": "2023-08-15T20:45:14.089677Z",
     "shell.execute_reply": "2023-08-15T20:45:14.088561Z",
     "shell.execute_reply.started": "2023-08-15T20:45:14.083921Z"
    }
   },
   "outputs": [],
   "source": [
    "import keras\n",
    "num_classes = 2\n",
    "y_train = keras.utils.to_categorical(y_train, num_classes)"
   ]
  },
  {
   "cell_type": "code",
   "execution_count": null,
   "metadata": {
    "execution": {
     "iopub.execute_input": "2023-08-15T20:45:15.320514Z",
     "iopub.status.busy": "2023-08-15T20:45:15.319383Z",
     "iopub.status.idle": "2023-08-15T20:45:15.326282Z",
     "shell.execute_reply": "2023-08-15T20:45:15.325165Z",
     "shell.execute_reply.started": "2023-08-15T20:45:15.320442Z"
    }
   },
   "outputs": [],
   "source": [
    "y_test=keras.utils.to_categorical(y_test, num_classes)"
   ]
  },
  {
   "cell_type": "code",
   "execution_count": null,
   "metadata": {
    "execution": {
     "iopub.execute_input": "2023-08-15T20:45:16.293480Z",
     "iopub.status.busy": "2023-08-15T20:45:16.292312Z",
     "iopub.status.idle": "2023-08-15T20:45:16.302301Z",
     "shell.execute_reply": "2023-08-15T20:45:16.301141Z",
     "shell.execute_reply.started": "2023-08-15T20:45:16.293428Z"
    }
   },
   "outputs": [],
   "source": [
    "y_test.shape"
   ]
  },
  {
   "cell_type": "code",
   "execution_count": null,
   "metadata": {
    "execution": {
     "iopub.execute_input": "2023-08-15T20:45:16.343637Z",
     "iopub.status.busy": "2023-08-15T20:45:16.343284Z",
     "iopub.status.idle": "2023-08-15T20:45:16.350892Z",
     "shell.execute_reply": "2023-08-15T20:45:16.349541Z",
     "shell.execute_reply.started": "2023-08-15T20:45:16.343605Z"
    }
   },
   "outputs": [],
   "source": [
    "y_train.shape"
   ]
  },
  {
   "cell_type": "code",
   "execution_count": null,
   "metadata": {
    "execution": {
     "iopub.execute_input": "2023-08-15T20:45:20.520135Z",
     "iopub.status.busy": "2023-08-15T20:45:20.519645Z",
     "iopub.status.idle": "2023-08-15T20:45:20.529349Z",
     "shell.execute_reply": "2023-08-15T20:45:20.528307Z",
     "shell.execute_reply.started": "2023-08-15T20:45:20.520092Z"
    }
   },
   "outputs": [],
   "source": [
    "from tensorflow.keras.applications import  VGG19,EfficientNetB0,VGG16,InceptionV3,ResNet50,EfficientNetB3\n",
    "from tensorflow.keras.models import Model\n",
    "from keras.applications.vgg16 import preprocess_input"
   ]
  },
  {
   "cell_type": "code",
   "execution_count": null,
   "metadata": {
    "execution": {
     "iopub.execute_input": "2023-08-15T20:45:25.933696Z",
     "iopub.status.busy": "2023-08-15T20:45:25.932529Z",
     "iopub.status.idle": "2023-08-15T20:45:26.419490Z",
     "shell.execute_reply": "2023-08-15T20:45:26.418283Z",
     "shell.execute_reply.started": "2023-08-15T20:45:25.933634Z"
    }
   },
   "outputs": [],
   "source": [
    "base_model = ResNet50(weights=None, include_top=True ,classes=2, input_shape=(100, 100, 3))\n",
    "\n",
    "# Add a global average pooling layer to reduce the spatial dimensions of the features\n",
    "'''\n",
    "\n",
    "x = GlobalAveragePooling2D()(x)\n",
    "# Add a fully connected layer with 256 units and ReLU activation\n",
    "x = Dense(256, activation='relu')(x)\n",
    "x = base_model.output\n",
    "\n",
    "# Add the final classification layer with the number of classes in your dataset\n",
    "predictions = Dense(2, activation='softmax')(x)\n",
    "# Create the model with the base VGG19 model as input and the new classification layers on top\n",
    "model = Model(inputs=base_model.input, outputs=predictions)\n",
    "\n",
    "\n",
    "'''\n"
   ]
  },
  {
   "cell_type": "code",
   "execution_count": null,
   "metadata": {},
   "outputs": [],
   "source": [
    "base_model.summary()"
   ]
  },
  {
   "cell_type": "code",
   "execution_count": null,
   "metadata": {
    "execution": {
     "iopub.execute_input": "2023-08-15T20:45:28.895083Z",
     "iopub.status.busy": "2023-08-15T20:45:28.894234Z",
     "iopub.status.idle": "2023-08-15T20:45:28.900020Z",
     "shell.execute_reply": "2023-08-15T20:45:28.898718Z",
     "shell.execute_reply.started": "2023-08-15T20:45:28.895040Z"
    }
   },
   "outputs": [],
   "source": [
    " model = Sequential()\n",
    "# model.add(Conv2D(16, (3,3), 1, activation='relu', input_shape=(220,220,3)))\n",
    "# model.add(MaxPooling2D())\n",
    "# model.add(Conv2D(32, (3,3), 1, activation='relu'))\n",
    "# model.add(MaxPooling2D())\n",
    "# model.add(Conv2D(16, (3,3), 1, activation='relu'))\n",
    "# model.add(MaxPooling2D())\n",
    "# model.add(Flatten())\n",
    "# model.add(Dense(256, activation='relu'))\n",
    "# model.add(Dense(6, activation='sigmoid'))"
   ]
  },
  {
   "cell_type": "code",
   "execution_count": null,
   "metadata": {
    "execution": {
     "iopub.execute_input": "2023-08-15T20:45:29.695209Z",
     "iopub.status.busy": "2023-08-15T20:45:29.694454Z",
     "iopub.status.idle": "2023-08-15T20:45:29.710898Z",
     "shell.execute_reply": "2023-08-15T20:45:29.709757Z",
     "shell.execute_reply.started": "2023-08-15T20:45:29.695168Z"
    }
   },
   "outputs": [],
   "source": [
    "\n",
    "# Compile the model\n",
    "base_model.compile(optimizer='adam', loss='categorical_crossentropy', metrics=['accuracy'])\n"
   ]
  },
  {
   "cell_type": "code",
   "execution_count": null,
   "metadata": {
    "execution": {
     "iopub.execute_input": "2023-08-15T20:45:31.033301Z",
     "iopub.status.busy": "2023-08-15T20:45:31.032917Z",
     "iopub.status.idle": "2023-08-15T20:47:54.078873Z",
     "shell.execute_reply": "2023-08-15T20:47:54.077515Z",
     "shell.execute_reply.started": "2023-08-15T20:45:31.033265Z"
    }
   },
   "outputs": [],
   "source": [
    "history=base_model.fit(X_train,y_train,epochs=10,validation_data=(X_test,y_test),batch_size=32,verbose=1) "
   ]
  },
  {
   "cell_type": "code",
   "execution_count": null,
   "metadata": {
    "execution": {
     "iopub.execute_input": "2023-08-15T20:47:54.082605Z",
     "iopub.status.busy": "2023-08-15T20:47:54.082084Z",
     "iopub.status.idle": "2023-08-15T20:47:56.035525Z",
     "shell.execute_reply": "2023-08-15T20:47:56.034152Z",
     "shell.execute_reply.started": "2023-08-15T20:47:54.082562Z"
    }
   },
   "outputs": [],
   "source": [
    "_, acc = base_model.evaluate(X_test, y_test)"
   ]
  },
  {
   "cell_type": "code",
   "execution_count": null,
   "metadata": {
    "execution": {
     "iopub.execute_input": "2023-08-15T20:47:56.039953Z",
     "iopub.status.busy": "2023-08-15T20:47:56.038686Z",
     "iopub.status.idle": "2023-08-15T20:47:56.047576Z",
     "shell.execute_reply": "2023-08-15T20:47:56.046028Z",
     "shell.execute_reply.started": "2023-08-15T20:47:56.039899Z"
    }
   },
   "outputs": [],
   "source": [
    "from sklearn.metrics import classification_report, confusion_matrix, roc_curve, auc\n",
    "from mlxtend.plotting import plot_confusion_matrix"
   ]
  },
  {
   "cell_type": "code",
   "execution_count": null,
   "metadata": {
    "execution": {
     "iopub.execute_input": "2023-08-15T20:47:56.052353Z",
     "iopub.status.busy": "2023-08-15T20:47:56.051752Z",
     "iopub.status.idle": "2023-08-15T20:47:56.930271Z",
     "shell.execute_reply": "2023-08-15T20:47:56.928992Z",
     "shell.execute_reply.started": "2023-08-15T20:47:56.052319Z"
    }
   },
   "outputs": [],
   "source": [
    "y_pred=base_model.predict(X_test)"
   ]
  },
  {
   "cell_type": "code",
   "execution_count": null,
   "metadata": {
    "execution": {
     "iopub.execute_input": "2023-08-15T20:47:56.933570Z",
     "iopub.status.busy": "2023-08-15T20:47:56.932685Z",
     "iopub.status.idle": "2023-08-15T20:47:56.944889Z",
     "shell.execute_reply": "2023-08-15T20:47:56.943492Z",
     "shell.execute_reply.started": "2023-08-15T20:47:56.933521Z"
    }
   },
   "outputs": [],
   "source": [
    "y_pred2=np.argmax(y_pred, axis=1)\n",
    "y_pred2"
   ]
  },
  {
   "cell_type": "code",
   "execution_count": null,
   "metadata": {
    "execution": {
     "iopub.execute_input": "2023-08-15T20:47:56.949045Z",
     "iopub.status.busy": "2023-08-15T20:47:56.947798Z",
     "iopub.status.idle": "2023-08-15T20:47:56.954355Z",
     "shell.execute_reply": "2023-08-15T20:47:56.953165Z",
     "shell.execute_reply.started": "2023-08-15T20:47:56.948989Z"
    }
   },
   "outputs": [],
   "source": [
    "y_test=np.argmax(y_test, axis=1)"
   ]
  },
  {
   "cell_type": "code",
   "execution_count": null,
   "metadata": {
    "execution": {
     "iopub.execute_input": "2023-08-15T20:47:56.956928Z",
     "iopub.status.busy": "2023-08-15T20:47:56.956428Z",
     "iopub.status.idle": "2023-08-15T20:47:56.971105Z",
     "shell.execute_reply": "2023-08-15T20:47:56.969301Z",
     "shell.execute_reply.started": "2023-08-15T20:47:56.956888Z"
    }
   },
   "outputs": [],
   "source": [
    "y_test"
   ]
  },
  {
   "cell_type": "code",
   "execution_count": null,
   "metadata": {
    "execution": {
     "iopub.execute_input": "2023-08-15T20:47:56.973634Z",
     "iopub.status.busy": "2023-08-15T20:47:56.973274Z",
     "iopub.status.idle": "2023-08-15T20:47:56.981926Z",
     "shell.execute_reply": "2023-08-15T20:47:56.980231Z",
     "shell.execute_reply.started": "2023-08-15T20:47:56.973594Z"
    }
   },
   "outputs": [],
   "source": [
    "confusion_matrix_result=confusion_matrix(y_test,y_pred2)"
   ]
  },
  {
   "cell_type": "code",
   "execution_count": null,
   "metadata": {
    "execution": {
     "iopub.execute_input": "2023-08-15T20:47:56.983592Z",
     "iopub.status.busy": "2023-08-15T20:47:56.983243Z",
     "iopub.status.idle": "2023-08-15T20:47:57.251541Z",
     "shell.execute_reply": "2023-08-15T20:47:57.250419Z",
     "shell.execute_reply.started": "2023-08-15T20:47:56.983552Z"
    }
   },
   "outputs": [],
   "source": [
    "import seaborn as sns\n",
    "import matplotlib.pyplot as plt     \n",
    "import pylab as pl\n",
    "plt.title(\"skin detection vitiligo vs normal using ResNet50 \")\n",
    "plt.xticks(range(2), ['normal', 'Vitiligo'], fontsize=16)\n",
    "plt.yticks(range(2), ['normal', 'Vitiligo'], fontsize=16)\n",
    "ax= plt.subplot()\n",
    "sns.heatmap(confusion_matrix_result, annot=True, fmt='g', ax=ax);\n",
    "pl.show()"
   ]
  },
  {
   "cell_type": "code",
   "execution_count": null,
   "metadata": {
    "execution": {
     "iopub.execute_input": "2023-08-15T20:47:57.255783Z",
     "iopub.status.busy": "2023-08-15T20:47:57.255464Z",
     "iopub.status.idle": "2023-08-15T20:47:57.261227Z",
     "shell.execute_reply": "2023-08-15T20:47:57.259759Z",
     "shell.execute_reply.started": "2023-08-15T20:47:57.255754Z"
    }
   },
   "outputs": [],
   "source": [
    "cat=['Acne and Rosacea Photos',\n",
    " 'Normal',\n",
    " 'vitiligo',\n",
    " 'Tinea Ringworm Candidiasis and other Fungal Infections',\n",
    "     'Melanoma Skin Cancer Nevi and Moles',\n",
    " 'Eczema Photos']"
   ]
  },
  {
   "cell_type": "code",
   "execution_count": null,
   "metadata": {
    "execution": {
     "iopub.execute_input": "2023-08-15T20:47:57.263805Z",
     "iopub.status.busy": "2023-08-15T20:47:57.262703Z",
     "iopub.status.idle": "2023-08-15T20:47:57.690655Z",
     "shell.execute_reply": "2023-08-15T20:47:57.689460Z",
     "shell.execute_reply.started": "2023-08-15T20:47:57.263736Z"
    }
   },
   "outputs": [],
   "source": [
    "train_accuracy = history.history['accuracy']\n",
    "val_accuracy = history.history['val_accuracy']\n",
    "train_loss = history.history['loss']\n",
    "val_loss = history.history['val_loss']\n",
    "\n",
    "epochs = range(len(train_accuracy))\n",
    "plt.figure(figsize=(12,4))\n",
    "\n",
    "# Plotting the accuracy\n",
    "plt.subplot(1,2,1)\n",
    "plt.plot(epochs, train_accuracy, 'b', label='Training accuracy')\n",
    "plt.plot(epochs, val_accuracy, 'r', label='Validation accuracy')\n",
    "plt.title('Training and validation accuracy')\n",
    "plt.xlabel('Epoch')\n",
    "plt.ylabel('Accuracy')\n",
    "plt.legend(['train', 'val'], loc='lower right')\n",
    "\n",
    "# Plotting the loss\n",
    "plt.subplot(1,2,2)\n",
    "plt.plot(epochs, train_loss, 'b', label='Training loss')\n",
    "plt.plot(epochs, val_loss, 'r', label='Validation loss')\n",
    "plt.title('Training and validation loss')\n",
    "plt.xlabel('Epoch')\n",
    "plt.ylabel('Loss')\n",
    "plt.legend(['train', 'val'], loc='upper right')"
   ]
  },
  {
   "cell_type": "code",
   "execution_count": null,
   "metadata": {
    "execution": {
     "iopub.execute_input": "2023-08-15T20:47:57.693413Z",
     "iopub.status.busy": "2023-08-15T20:47:57.692302Z",
     "iopub.status.idle": "2023-08-15T20:47:57.701716Z",
     "shell.execute_reply": "2023-08-15T20:47:57.700632Z",
     "shell.execute_reply.started": "2023-08-15T20:47:57.693370Z"
    }
   },
   "outputs": [],
   "source": [
    "import os\n",
    "import matplotlib.pyplot as plt\n",
    "import cv2\n",
    "from tensorflow.keras.models import Model, Sequential\n",
    "from tensorflow.keras.layers import Input, Convolution2D, ZeroPadding2D,MaxPooling2D, Flatten, Dense, Dropout, Activation\n",
    "from PIL import Image\n",
    "import numpy as np\n",
    "from tensorflow.keras.preprocessing.image import load_img, save_img, img_to_array\n",
    "from tensorflow.keras.applications.imagenet_utils import preprocess_input\n",
    "from tensorflow.keras.preprocessing import image\n",
    "import pandas as pd\n",
    "import tensorflow as tf\n",
    "import keras\n",
    "import pickle"
   ]
  },
  {
   "cell_type": "code",
   "execution_count": null,
   "metadata": {
    "execution": {
     "iopub.execute_input": "2023-08-15T20:47:57.704117Z",
     "iopub.status.busy": "2023-08-15T20:47:57.703708Z",
     "iopub.status.idle": "2023-08-15T20:47:57.726049Z",
     "shell.execute_reply": "2023-08-15T20:47:57.724789Z",
     "shell.execute_reply.started": "2023-08-15T20:47:57.704077Z"
    }
   },
   "outputs": [],
   "source": [
    "confusion_matrix=classification_report(y_test,y_pred2)"
   ]
  },
  {
   "cell_type": "code",
   "execution_count": null,
   "metadata": {
    "execution": {
     "iopub.execute_input": "2023-08-15T20:48:27.039623Z",
     "iopub.status.busy": "2023-08-15T20:48:27.038587Z",
     "iopub.status.idle": "2023-08-15T20:48:27.046070Z",
     "shell.execute_reply": "2023-08-15T20:48:27.044713Z",
     "shell.execute_reply.started": "2023-08-15T20:48:27.039568Z"
    }
   },
   "outputs": [],
   "source": [
    "print(confusion_matrix)"
   ]
  }
 ],
 "metadata": {
  "kernelspec": {
   "display_name": "Python 3 (ipykernel)",
   "language": "python",
   "name": "python3"
  },
  "language_info": {
   "codemirror_mode": {
    "name": "ipython",
    "version": 3
   },
   "file_extension": ".py",
   "mimetype": "text/x-python",
   "name": "python",
   "nbconvert_exporter": "python",
   "pygments_lexer": "ipython3",
   "version": "3.11.4"
  }
 },
 "nbformat": 4,
 "nbformat_minor": 4
}
